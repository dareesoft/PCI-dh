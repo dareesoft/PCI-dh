{
 "cells": [
  {
   "cell_type": "code",
   "execution_count": 15,
   "metadata": {},
   "outputs": [
    {
     "name": "stdout",
     "output_type": "stream",
     "text": [
      "Predicting 1 masks\n",
      "Predicted 1 masks\n",
      "Predicting 1 masks\n",
      "Predicted 1 masks\n",
      "Predicting 1 masks\n",
      "Predicted 1 masks\n",
      "Predicting 1 masks\n",
      "Predicted 1 masks\n",
      "Predicting 1 masks\n",
      "Predicted 1 masks\n",
      "Predicting 1 masks\n",
      "Predicted 1 masks\n",
      "Predicting 1 masks\n",
      "Predicted 1 masks\n",
      "Predicting 1 masks\n",
      "Predicted 1 masks\n",
      "Predicting 1 masks\n",
      "Predicted 1 masks\n",
      "Predicting 1 masks\n",
      "Predicted 1 masks\n",
      "Predicting 1 masks\n",
      "Predicted 1 masks\n",
      "Predicting 1 masks\n",
      "Predicted 1 masks\n",
      "Predicting 1 masks\n",
      "Predicted 1 masks\n",
      "Predicting 1 masks\n",
      "Predicted 1 masks\n",
      "Predicting 1 masks\n",
      "Predicted 1 masks\n",
      "Predicting 1 masks\n",
      "Predicted 1 masks\n",
      "Predicting 1 masks\n",
      "Predicted 1 masks\n",
      "Predicting 1 masks\n",
      "Predicted 1 masks\n",
      "Predicting 1 masks\n",
      "Predicted 1 masks\n",
      "Predicting 1 masks\n",
      "Predicted 1 masks\n",
      "Predicting 1 masks\n",
      "Predicted 1 masks\n",
      "Predicting 1 masks\n",
      "Predicted 1 masks\n",
      "Predicting 1 masks\n",
      "Predicted 1 masks\n",
      "Predicting 1 masks\n",
      "Predicted 1 masks\n",
      "Predicting 1 masks\n",
      "Predicted 1 masks\n",
      "Predicting 1 masks\n",
      "Predicted 1 masks\n",
      "Predicting 1 masks\n",
      "Predicted 1 masks\n",
      "Predicting 1 masks\n",
      "Predicted 1 masks\n",
      "Predicting 1 masks\n",
      "Predicted 1 masks\n",
      "Predicting 1 masks\n",
      "Predicted 1 masks\n",
      "Predicting 1 masks\n",
      "Predicted 1 masks\n",
      "Predicting 1 masks\n",
      "Predicted 1 masks\n",
      "Predicting 1 masks\n",
      "Predicted 1 masks\n",
      "Predicting 1 masks\n",
      "Predicted 1 masks\n",
      "Predicting 1 masks\n",
      "Predicted 1 masks\n",
      "Predicting 1 masks\n",
      "Predicted 1 masks\n",
      "Predicting 1 masks\n",
      "Predicted 1 masks\n",
      "Predicting 1 masks\n",
      "Predicted 1 masks\n",
      "Predicting 1 masks\n",
      "Predicted 1 masks\n",
      "Predicting 1 masks\n",
      "Predicted 1 masks\n",
      "Predicting 1 masks\n",
      "Predicted 1 masks\n",
      "Predicting 1 masks\n",
      "Predicted 1 masks\n",
      "Predicting 1 masks\n",
      "Predicted 1 masks\n",
      "Predicting 1 masks\n",
      "Predicted 1 masks\n",
      "Predicting 1 masks\n",
      "Predicted 1 masks\n",
      "Predicting 1 masks\n",
      "Predicted 1 masks\n",
      "Predicting 1 masks\n",
      "Predicted 1 masks\n",
      "Predicting 1 masks\n",
      "Predicted 1 masks\n",
      "Predicting 1 masks\n",
      "Predicted 1 masks\n",
      "Predicting 1 masks\n",
      "Predicted 1 masks\n",
      "Predicting 1 masks\n",
      "Predicted 1 masks\n",
      "Predicting 1 masks\n",
      "Predicted 1 masks\n",
      "Predicting 1 masks\n",
      "Predicted 1 masks\n",
      "Predicting 1 masks\n",
      "Predicted 1 masks\n",
      "Predicting 1 masks\n",
      "Predicted 1 masks\n",
      "Predicting 1 masks\n",
      "Predicted 1 masks\n",
      "Predicting 1 masks\n",
      "Predicted 1 masks\n",
      "Predicting 1 masks\n",
      "Predicted 1 masks\n",
      "Predicting 1 masks\n",
      "Predicted 1 masks\n",
      "Predicting 1 masks\n",
      "Predicted 1 masks\n",
      "Predicting 1 masks\n",
      "Predicted 1 masks\n",
      "Predicting 1 masks\n",
      "Predicted 1 masks\n",
      "Predicting 1 masks\n",
      "Predicted 1 masks\n",
      "Predicting 1 masks\n",
      "Predicted 1 masks\n",
      "Predicting 1 masks\n",
      "Predicted 1 masks\n",
      "Predicting 1 masks\n",
      "Predicted 1 masks\n",
      "Predicting 1 masks\n",
      "Predicted 1 masks\n",
      "Predicting 1 masks\n",
      "Predicted 1 masks\n",
      "Predicting 1 masks\n",
      "Predicted 1 masks\n",
      "Predicting 1 masks\n",
      "Predicted 1 masks\n",
      "Predicting 1 masks\n",
      "Predicted 1 masks\n",
      "Using device: cuda\n",
      "Found 104 images in ./assets\n",
      "Processing 202502_30_01226897440_8466bfd11056483698e082fced1b38ac.jpg - Size: 1920 x 1080\n",
      "202502_30_01226897440_8466bfd11056483698e082fced1b38ac.jpg - Inference Time: 0.134 sec\n",
      "202502_30_01226897440_8466bfd11056483698e082fced1b38ac.jpg - Detected Masks: 1\n",
      "202502_30_01226897440_8466bfd11056483698e082fced1b38ac.jpg - Average Confidence Score: 0.4373\n",
      "202502_30_01226897440_8466bfd11056483698e082fced1b38ac.jpg - GPU Memory Used: 8208.46 MB\n",
      "Saved result to ./results/result_202502_30_01226897440_8466bfd11056483698e082fced1b38ac.jpg\n",
      "Processing car.jpeg - Size: 2250 x 1500\n",
      "car.jpeg - Inference Time: 0.137 sec\n",
      "car.jpeg - Detected Masks: 1\n",
      "car.jpeg - Average Confidence Score: 0.7461\n",
      "car.jpeg - GPU Memory Used: 8208.46 MB\n",
      "Saved result to ./results/result_car.jpeg\n",
      "Processing 202502_30_01226896371_3a7a24ca3fd043d3a3a764006dfdb6e6.jpg - Size: 1920 x 1080\n",
      "202502_30_01226896371_3a7a24ca3fd043d3a3a764006dfdb6e6.jpg - Inference Time: 0.125 sec\n",
      "202502_30_01226896371_3a7a24ca3fd043d3a3a764006dfdb6e6.jpg - Detected Masks: 1\n",
      "202502_30_01226896371_3a7a24ca3fd043d3a3a764006dfdb6e6.jpg - Average Confidence Score: 0.4163\n",
      "202502_30_01226896371_3a7a24ca3fd043d3a3a764006dfdb6e6.jpg - GPU Memory Used: 8208.46 MB\n",
      "Saved result to ./results/result_202502_30_01226896371_3a7a24ca3fd043d3a3a764006dfdb6e6.jpg\n",
      "Processing fruits.jpg - Size: 640 x 653\n",
      "fruits.jpg - Inference Time: 0.096 sec\n",
      "fruits.jpg - Detected Masks: 2\n",
      "fruits.jpg - Average Confidence Score: 0.3369\n",
      "fruits.jpg - GPU Memory Used: 8208.46 MB\n",
      "Saved result to ./results/result_fruits.jpg\n",
      "Processing food.jpg - Size: 708 x 532\n",
      "food.jpg - Inference Time: 0.115 sec\n",
      "food.jpg - Detected Masks: 1\n",
      "food.jpg - Average Confidence Score: 0.3268\n",
      "food.jpg - GPU Memory Used: 8208.46 MB\n",
      "Saved result to ./results/result_food.jpg\n",
      "Processing 202502_30_01225815940_49ce32fdb81c4403ab4b31a52cb5e54c.jpg - Size: 1920 x 1080\n",
      "202502_30_01225815940_49ce32fdb81c4403ab4b31a52cb5e54c.jpg - Inference Time: 0.130 sec\n",
      "202502_30_01225815940_49ce32fdb81c4403ab4b31a52cb5e54c.jpg - Detected Masks: 3\n",
      "202502_30_01225815940_49ce32fdb81c4403ab4b31a52cb5e54c.jpg - Average Confidence Score: 0.3798\n",
      "202502_30_01225815940_49ce32fdb81c4403ab4b31a52cb5e54c.jpg - GPU Memory Used: 8208.46 MB\n",
      "Saved result to ./results/result_202502_30_01225815940_49ce32fdb81c4403ab4b31a52cb5e54c.jpg\n",
      "Processing 202502_30_01226895996_7e684ce29df64738a142414ef43421dc.jpg - Size: 1920 x 1080\n",
      "202502_30_01226895996_7e684ce29df64738a142414ef43421dc.jpg - Inference Time: 0.133 sec\n",
      "202502_30_01226895996_7e684ce29df64738a142414ef43421dc.jpg - Detected Masks: 1\n",
      "202502_30_01226895996_7e684ce29df64738a142414ef43421dc.jpg - Average Confidence Score: 0.3107\n",
      "202502_30_01226895996_7e684ce29df64738a142414ef43421dc.jpg - GPU Memory Used: 8208.46 MB\n",
      "Saved result to ./results/result_202502_30_01226895996_7e684ce29df64738a142414ef43421dc.jpg\n",
      "Processing 202502_30_01225815573_9258c2be1044485cad5d34a403a3623d.jpg - Size: 1920 x 1080\n",
      "202502_30_01225815573_9258c2be1044485cad5d34a403a3623d.jpg - Inference Time: 0.111 sec\n",
      "202502_30_01225815573_9258c2be1044485cad5d34a403a3623d.jpg - Detected Masks: 0\n",
      "202502_30_01225815573_9258c2be1044485cad5d34a403a3623d.jpg - Average Confidence Score: 0.0000\n",
      "202502_30_01225815573_9258c2be1044485cad5d34a403a3623d.jpg - GPU Memory Used: 8208.46 MB\n",
      "Saved result to ./results/result_202502_30_01225815573_9258c2be1044485cad5d34a403a3623d.jpg\n",
      "Processing 202502_30_01226888252_d281bbdb27b54ee5b05ffb3809ae1ac1.jpg - Size: 1920 x 1080\n",
      "202502_30_01226888252_d281bbdb27b54ee5b05ffb3809ae1ac1.jpg - Inference Time: 0.126 sec\n",
      "202502_30_01226888252_d281bbdb27b54ee5b05ffb3809ae1ac1.jpg - Detected Masks: 1\n",
      "202502_30_01226888252_d281bbdb27b54ee5b05ffb3809ae1ac1.jpg - Average Confidence Score: 0.3346\n",
      "202502_30_01226888252_d281bbdb27b54ee5b05ffb3809ae1ac1.jpg - GPU Memory Used: 8208.46 MB\n",
      "Saved result to ./results/result_202502_30_01226888252_d281bbdb27b54ee5b05ffb3809ae1ac1.jpg\n",
      "Processing 202502_30_01226898276_fb948faba7a54194b974ba18fe35782a.jpg - Size: 1920 x 1080\n",
      "202502_30_01226898276_fb948faba7a54194b974ba18fe35782a.jpg - Inference Time: 0.112 sec\n",
      "202502_30_01226898276_fb948faba7a54194b974ba18fe35782a.jpg - Detected Masks: 0\n",
      "202502_30_01226898276_fb948faba7a54194b974ba18fe35782a.jpg - Average Confidence Score: 0.0000\n",
      "202502_30_01226898276_fb948faba7a54194b974ba18fe35782a.jpg - GPU Memory Used: 8208.46 MB\n",
      "Saved result to ./results/result_202502_30_01226898276_fb948faba7a54194b974ba18fe35782a.jpg\n",
      "Processing 202502_30_01226897516_602e7c1e7373432ba15817eda3b55289.jpg - Size: 1920 x 1080\n",
      "202502_30_01226897516_602e7c1e7373432ba15817eda3b55289.jpg - Inference Time: 0.127 sec\n",
      "202502_30_01226897516_602e7c1e7373432ba15817eda3b55289.jpg - Detected Masks: 1\n",
      "202502_30_01226897516_602e7c1e7373432ba15817eda3b55289.jpg - Average Confidence Score: 0.3451\n",
      "202502_30_01226897516_602e7c1e7373432ba15817eda3b55289.jpg - GPU Memory Used: 8208.46 MB\n",
      "Saved result to ./results/result_202502_30_01226897516_602e7c1e7373432ba15817eda3b55289.jpg\n",
      "Processing 202502_30_01226891232_4dbeb179cbac4cfea9b6aa749ac09953.jpg - Size: 1920 x 1080\n",
      "202502_30_01226891232_4dbeb179cbac4cfea9b6aa749ac09953.jpg - Inference Time: 0.127 sec\n",
      "202502_30_01226891232_4dbeb179cbac4cfea9b6aa749ac09953.jpg - Detected Masks: 1\n",
      "202502_30_01226891232_4dbeb179cbac4cfea9b6aa749ac09953.jpg - Average Confidence Score: 0.5021\n",
      "202502_30_01226891232_4dbeb179cbac4cfea9b6aa749ac09953.jpg - GPU Memory Used: 8208.46 MB\n",
      "Saved result to ./results/result_202502_30_01226891232_4dbeb179cbac4cfea9b6aa749ac09953.jpg\n",
      "Processing 202502_30_01226897463_edd8c4a6c1f14163941663ab7c79d66a.jpg - Size: 1920 x 1080\n",
      "202502_30_01226897463_edd8c4a6c1f14163941663ab7c79d66a.jpg - Inference Time: 0.129 sec\n",
      "202502_30_01226897463_edd8c4a6c1f14163941663ab7c79d66a.jpg - Detected Masks: 1\n",
      "202502_30_01226897463_edd8c4a6c1f14163941663ab7c79d66a.jpg - Average Confidence Score: 0.3115\n",
      "202502_30_01226897463_edd8c4a6c1f14163941663ab7c79d66a.jpg - GPU Memory Used: 8208.46 MB\n",
      "Saved result to ./results/result_202502_30_01226897463_edd8c4a6c1f14163941663ab7c79d66a.jpg\n",
      "Processing 202502_30_01226897975_afc534ff20a44527be7d403219bbebf9.jpg - Size: 1920 x 1080\n",
      "202502_30_01226897975_afc534ff20a44527be7d403219bbebf9.jpg - Inference Time: 0.129 sec\n",
      "202502_30_01226897975_afc534ff20a44527be7d403219bbebf9.jpg - Detected Masks: 2\n",
      "202502_30_01226897975_afc534ff20a44527be7d403219bbebf9.jpg - Average Confidence Score: 0.3514\n",
      "202502_30_01226897975_afc534ff20a44527be7d403219bbebf9.jpg - GPU Memory Used: 8208.46 MB\n",
      "Saved result to ./results/result_202502_30_01226897975_afc534ff20a44527be7d403219bbebf9.jpg\n",
      "Processing 202502_30_01226892215_51cde6eaac0e473095918cbc202ca54f.jpg - Size: 1920 x 1080\n",
      "202502_30_01226892215_51cde6eaac0e473095918cbc202ca54f.jpg - Inference Time: 0.128 sec\n",
      "202502_30_01226892215_51cde6eaac0e473095918cbc202ca54f.jpg - Detected Masks: 1\n",
      "202502_30_01226892215_51cde6eaac0e473095918cbc202ca54f.jpg - Average Confidence Score: 0.3234\n",
      "202502_30_01226892215_51cde6eaac0e473095918cbc202ca54f.jpg - GPU Memory Used: 8208.46 MB\n",
      "Saved result to ./results/result_202502_30_01226892215_51cde6eaac0e473095918cbc202ca54f.jpg\n",
      "Processing 202502_30_01226891539_ecb270e04fa8475bab49a978f5416e45.jpg - Size: 1920 x 1080\n",
      "202502_30_01226891539_ecb270e04fa8475bab49a978f5416e45.jpg - Inference Time: 0.126 sec\n",
      "202502_30_01226891539_ecb270e04fa8475bab49a978f5416e45.jpg - Detected Masks: 2\n",
      "202502_30_01226891539_ecb270e04fa8475bab49a978f5416e45.jpg - Average Confidence Score: 0.4237\n",
      "202502_30_01226891539_ecb270e04fa8475bab49a978f5416e45.jpg - GPU Memory Used: 8208.46 MB\n",
      "Saved result to ./results/result_202502_30_01226891539_ecb270e04fa8475bab49a978f5416e45.jpg\n",
      "Processing 202502_30_01226896139_617023e7d99d4d0789c6b944cbe48100.jpg - Size: 1920 x 1080\n",
      "202502_30_01226896139_617023e7d99d4d0789c6b944cbe48100.jpg - Inference Time: 0.131 sec\n",
      "202502_30_01226896139_617023e7d99d4d0789c6b944cbe48100.jpg - Detected Masks: 1\n",
      "202502_30_01226896139_617023e7d99d4d0789c6b944cbe48100.jpg - Average Confidence Score: 0.3303\n",
      "202502_30_01226896139_617023e7d99d4d0789c6b944cbe48100.jpg - GPU Memory Used: 8208.46 MB\n",
      "Saved result to ./results/result_202502_30_01226896139_617023e7d99d4d0789c6b944cbe48100.jpg\n",
      "Processing 202502_30_01226898044_1aa8b575780f4e6aa88a1b5df56a5562.jpg - Size: 1920 x 1080\n",
      "202502_30_01226898044_1aa8b575780f4e6aa88a1b5df56a5562.jpg - Inference Time: 0.125 sec\n",
      "202502_30_01226898044_1aa8b575780f4e6aa88a1b5df56a5562.jpg - Detected Masks: 1\n",
      "202502_30_01226898044_1aa8b575780f4e6aa88a1b5df56a5562.jpg - Average Confidence Score: 0.5066\n",
      "202502_30_01226898044_1aa8b575780f4e6aa88a1b5df56a5562.jpg - GPU Memory Used: 8208.46 MB\n",
      "Saved result to ./results/result_202502_30_01226898044_1aa8b575780f4e6aa88a1b5df56a5562.jpg\n",
      "Processing 202502_30_01226896139_d38ace71f0154dbfb6c22f51c84f4f29.jpg - Size: 1920 x 1080\n",
      "202502_30_01226896139_d38ace71f0154dbfb6c22f51c84f4f29.jpg - Inference Time: 0.117 sec\n",
      "202502_30_01226896139_d38ace71f0154dbfb6c22f51c84f4f29.jpg - Detected Masks: 0\n",
      "202502_30_01226896139_d38ace71f0154dbfb6c22f51c84f4f29.jpg - Average Confidence Score: 0.0000\n",
      "202502_30_01226896139_d38ace71f0154dbfb6c22f51c84f4f29.jpg - GPU Memory Used: 8208.46 MB\n",
      "Saved result to ./results/result_202502_30_01226896139_d38ace71f0154dbfb6c22f51c84f4f29.jpg\n",
      "Processing 202502_30_01226895996_183c5ccebe85403e9b766289927bc52f.jpg - Size: 1920 x 1080\n",
      "202502_30_01226895996_183c5ccebe85403e9b766289927bc52f.jpg - Inference Time: 0.129 sec\n",
      "202502_30_01226895996_183c5ccebe85403e9b766289927bc52f.jpg - Detected Masks: 1\n",
      "202502_30_01226895996_183c5ccebe85403e9b766289927bc52f.jpg - Average Confidence Score: 0.3989\n",
      "202502_30_01226895996_183c5ccebe85403e9b766289927bc52f.jpg - GPU Memory Used: 8208.46 MB\n",
      "Saved result to ./results/result_202502_30_01226895996_183c5ccebe85403e9b766289927bc52f.jpg\n",
      "Processing 202502_30_01226897774_e1012dd547b94ecd9488278b96dbb829.jpg - Size: 1920 x 1080\n",
      "202502_30_01226897774_e1012dd547b94ecd9488278b96dbb829.jpg - Inference Time: 0.127 sec\n",
      "202502_30_01226897774_e1012dd547b94ecd9488278b96dbb829.jpg - Detected Masks: 2\n",
      "202502_30_01226897774_e1012dd547b94ecd9488278b96dbb829.jpg - Average Confidence Score: 0.3789\n",
      "202502_30_01226897774_e1012dd547b94ecd9488278b96dbb829.jpg - GPU Memory Used: 8208.46 MB\n",
      "Saved result to ./results/result_202502_30_01226897774_e1012dd547b94ecd9488278b96dbb829.jpg\n",
      "Processing 202502_30_01225814635_0b40f14435a746828108476f6c20b364.jpg - Size: 1920 x 1080\n",
      "202502_30_01225814635_0b40f14435a746828108476f6c20b364.jpg - Inference Time: 0.128 sec\n",
      "202502_30_01225814635_0b40f14435a746828108476f6c20b364.jpg - Detected Masks: 1\n",
      "202502_30_01225814635_0b40f14435a746828108476f6c20b364.jpg - Average Confidence Score: 0.3200\n",
      "202502_30_01225814635_0b40f14435a746828108476f6c20b364.jpg - GPU Memory Used: 8208.46 MB\n",
      "Saved result to ./results/result_202502_30_01225814635_0b40f14435a746828108476f6c20b364.jpg\n",
      "Processing 202502_30_01226897323_e5be0396e93147df9ea3f48022274275.jpg - Size: 1920 x 1080\n",
      "202502_30_01226897323_e5be0396e93147df9ea3f48022274275.jpg - Inference Time: 0.130 sec\n",
      "202502_30_01226897323_e5be0396e93147df9ea3f48022274275.jpg - Detected Masks: 2\n",
      "202502_30_01226897323_e5be0396e93147df9ea3f48022274275.jpg - Average Confidence Score: 0.4151\n",
      "202502_30_01226897323_e5be0396e93147df9ea3f48022274275.jpg - GPU Memory Used: 8208.46 MB\n",
      "Saved result to ./results/result_202502_30_01226897323_e5be0396e93147df9ea3f48022274275.jpg\n",
      "Processing 202502_30_01226896935_ea55e7ef87e341f49aa36326d9ea2319.jpg - Size: 1920 x 1080\n",
      "202502_30_01226896935_ea55e7ef87e341f49aa36326d9ea2319.jpg - Inference Time: 0.130 sec\n",
      "202502_30_01226896935_ea55e7ef87e341f49aa36326d9ea2319.jpg - Detected Masks: 3\n",
      "202502_30_01226896935_ea55e7ef87e341f49aa36326d9ea2319.jpg - Average Confidence Score: 0.3178\n",
      "202502_30_01226896935_ea55e7ef87e341f49aa36326d9ea2319.jpg - GPU Memory Used: 8208.46 MB\n",
      "Saved result to ./results/result_202502_30_01226896935_ea55e7ef87e341f49aa36326d9ea2319.jpg\n",
      "Processing 202502_30_01226888250_0c4825ada30748da95731445dd27e44d.jpg - Size: 1920 x 1080\n",
      "202502_30_01226888250_0c4825ada30748da95731445dd27e44d.jpg - Inference Time: 0.111 sec\n",
      "202502_30_01226888250_0c4825ada30748da95731445dd27e44d.jpg - Detected Masks: 0\n",
      "202502_30_01226888250_0c4825ada30748da95731445dd27e44d.jpg - Average Confidence Score: 0.0000\n",
      "202502_30_01226888250_0c4825ada30748da95731445dd27e44d.jpg - GPU Memory Used: 8208.46 MB\n",
      "Saved result to ./results/result_202502_30_01226888250_0c4825ada30748da95731445dd27e44d.jpg\n",
      "Processing 202502_30_01226895949_d684b95203704d28b59a9a2f0ce3b351.jpg - Size: 1920 x 1080\n",
      "202502_30_01226895949_d684b95203704d28b59a9a2f0ce3b351.jpg - Inference Time: 0.130 sec\n",
      "202502_30_01226895949_d684b95203704d28b59a9a2f0ce3b351.jpg - Detected Masks: 2\n",
      "202502_30_01226895949_d684b95203704d28b59a9a2f0ce3b351.jpg - Average Confidence Score: 0.3129\n",
      "202502_30_01226895949_d684b95203704d28b59a9a2f0ce3b351.jpg - GPU Memory Used: 8208.46 MB\n",
      "Saved result to ./results/result_202502_30_01226895949_d684b95203704d28b59a9a2f0ce3b351.jpg\n",
      "Processing 202502_30_01225814760_9bd3a24137df40ceb951dcc620b2f1ac.jpg - Size: 1920 x 1080\n",
      "202502_30_01225814760_9bd3a24137df40ceb951dcc620b2f1ac.jpg - Inference Time: 0.109 sec\n",
      "202502_30_01225814760_9bd3a24137df40ceb951dcc620b2f1ac.jpg - Detected Masks: 0\n",
      "202502_30_01225814760_9bd3a24137df40ceb951dcc620b2f1ac.jpg - Average Confidence Score: 0.0000\n",
      "202502_30_01225814760_9bd3a24137df40ceb951dcc620b2f1ac.jpg - GPU Memory Used: 8208.46 MB\n",
      "Saved result to ./results/result_202502_30_01225814760_9bd3a24137df40ceb951dcc620b2f1ac.jpg\n",
      "Processing 202502_30_01226894522_98f81ebc04284672abdf55e8f5e82350.jpg - Size: 1920 x 1080\n",
      "202502_30_01226894522_98f81ebc04284672abdf55e8f5e82350.jpg - Inference Time: 0.126 sec\n",
      "202502_30_01226894522_98f81ebc04284672abdf55e8f5e82350.jpg - Detected Masks: 1\n",
      "202502_30_01226894522_98f81ebc04284672abdf55e8f5e82350.jpg - Average Confidence Score: 0.3730\n",
      "202502_30_01226894522_98f81ebc04284672abdf55e8f5e82350.jpg - GPU Memory Used: 8208.46 MB\n",
      "Saved result to ./results/result_202502_30_01226894522_98f81ebc04284672abdf55e8f5e82350.jpg\n",
      "Processing 202502_30_01226898276_7cd62d75c3314a1eba534537d35d52b1.jpg - Size: 1920 x 1080\n",
      "202502_30_01226898276_7cd62d75c3314a1eba534537d35d52b1.jpg - Inference Time: 0.128 sec\n",
      "202502_30_01226898276_7cd62d75c3314a1eba534537d35d52b1.jpg - Detected Masks: 1\n",
      "202502_30_01226898276_7cd62d75c3314a1eba534537d35d52b1.jpg - Average Confidence Score: 0.4022\n",
      "202502_30_01226898276_7cd62d75c3314a1eba534537d35d52b1.jpg - GPU Memory Used: 8208.46 MB\n",
      "Saved result to ./results/result_202502_30_01226898276_7cd62d75c3314a1eba534537d35d52b1.jpg\n",
      "Processing 202502_30_01225814731_bccd7707ae9f4416b40ef08cc5b1d038.jpg - Size: 1920 x 1080\n",
      "202502_30_01225814731_bccd7707ae9f4416b40ef08cc5b1d038.jpg - Inference Time: 0.127 sec\n",
      "202502_30_01225814731_bccd7707ae9f4416b40ef08cc5b1d038.jpg - Detected Masks: 2\n",
      "202502_30_01225814731_bccd7707ae9f4416b40ef08cc5b1d038.jpg - Average Confidence Score: 0.3476\n",
      "202502_30_01225814731_bccd7707ae9f4416b40ef08cc5b1d038.jpg - GPU Memory Used: 8208.46 MB\n",
      "Saved result to ./results/result_202502_30_01225814731_bccd7707ae9f4416b40ef08cc5b1d038.jpg\n",
      "Processing 202502_30_01226898245_981e3060ea934773ab6498616f4b615a.jpg - Size: 1920 x 1080\n",
      "202502_30_01226898245_981e3060ea934773ab6498616f4b615a.jpg - Inference Time: 0.131 sec\n",
      "202502_30_01226898245_981e3060ea934773ab6498616f4b615a.jpg - Detected Masks: 1\n",
      "202502_30_01226898245_981e3060ea934773ab6498616f4b615a.jpg - Average Confidence Score: 0.3032\n",
      "202502_30_01226898245_981e3060ea934773ab6498616f4b615a.jpg - GPU Memory Used: 8208.46 MB\n",
      "Saved result to ./results/result_202502_30_01226898245_981e3060ea934773ab6498616f4b615a.jpg\n",
      "Processing 202502_30_01225814794_b820caa3d0614af2a55c4677e1b3f349.jpg - Size: 1920 x 1080\n",
      "202502_30_01225814794_b820caa3d0614af2a55c4677e1b3f349.jpg - Inference Time: 0.126 sec\n",
      "202502_30_01225814794_b820caa3d0614af2a55c4677e1b3f349.jpg - Detected Masks: 1\n",
      "202502_30_01225814794_b820caa3d0614af2a55c4677e1b3f349.jpg - Average Confidence Score: 0.5898\n",
      "202502_30_01225814794_b820caa3d0614af2a55c4677e1b3f349.jpg - GPU Memory Used: 8208.46 MB\n",
      "Saved result to ./results/result_202502_30_01225814794_b820caa3d0614af2a55c4677e1b3f349.jpg\n",
      "Processing 202502_30_01226898979_c92d4c3831004fd592f071f4cc103bb9.jpg - Size: 1920 x 1080\n",
      "202502_30_01226898979_c92d4c3831004fd592f071f4cc103bb9.jpg - Inference Time: 0.117 sec\n",
      "202502_30_01226898979_c92d4c3831004fd592f071f4cc103bb9.jpg - Detected Masks: 0\n",
      "202502_30_01226898979_c92d4c3831004fd592f071f4cc103bb9.jpg - Average Confidence Score: 0.0000\n",
      "202502_30_01226898979_c92d4c3831004fd592f071f4cc103bb9.jpg - GPU Memory Used: 8208.46 MB\n",
      "Saved result to ./results/result_202502_30_01226898979_c92d4c3831004fd592f071f4cc103bb9.jpg\n",
      "Processing 202502_30_01226898648_c0948566842c4224a5e73aac3c2b3e1f.jpg - Size: 1920 x 1080\n",
      "202502_30_01226898648_c0948566842c4224a5e73aac3c2b3e1f.jpg - Inference Time: 0.111 sec\n",
      "202502_30_01226898648_c0948566842c4224a5e73aac3c2b3e1f.jpg - Detected Masks: 0\n",
      "202502_30_01226898648_c0948566842c4224a5e73aac3c2b3e1f.jpg - Average Confidence Score: 0.0000\n",
      "202502_30_01226898648_c0948566842c4224a5e73aac3c2b3e1f.jpg - GPU Memory Used: 8208.46 MB\n",
      "Saved result to ./results/result_202502_30_01226898648_c0948566842c4224a5e73aac3c2b3e1f.jpg\n",
      "Processing 202502_30_01226898679_d055204b61c4473bab4e6248fa98e47f.jpg - Size: 1920 x 1080\n",
      "202502_30_01226898679_d055204b61c4473bab4e6248fa98e47f.jpg - Inference Time: 0.127 sec\n",
      "202502_30_01226898679_d055204b61c4473bab4e6248fa98e47f.jpg - Detected Masks: 2\n",
      "202502_30_01226898679_d055204b61c4473bab4e6248fa98e47f.jpg - Average Confidence Score: 0.3099\n",
      "202502_30_01226898679_d055204b61c4473bab4e6248fa98e47f.jpg - GPU Memory Used: 8208.46 MB\n",
      "Saved result to ./results/result_202502_30_01226898679_d055204b61c4473bab4e6248fa98e47f.jpg\n",
      "Processing 202502_30_01226888250_801a36b1b3c445cd86b2736b11bce7e0.jpg - Size: 1920 x 1080\n",
      "202502_30_01226888250_801a36b1b3c445cd86b2736b11bce7e0.jpg - Inference Time: 0.112 sec\n",
      "202502_30_01226888250_801a36b1b3c445cd86b2736b11bce7e0.jpg - Detected Masks: 0\n",
      "202502_30_01226888250_801a36b1b3c445cd86b2736b11bce7e0.jpg - Average Confidence Score: 0.0000\n",
      "202502_30_01226888250_801a36b1b3c445cd86b2736b11bce7e0.jpg - GPU Memory Used: 8208.46 MB\n",
      "Saved result to ./results/result_202502_30_01226888250_801a36b1b3c445cd86b2736b11bce7e0.jpg\n",
      "Processing 202502_30_01226898984_5c3c2416540246afba12d0569abd83a1.jpg - Size: 1920 x 1080\n",
      "202502_30_01226898984_5c3c2416540246afba12d0569abd83a1.jpg - Inference Time: 0.114 sec\n",
      "202502_30_01226898984_5c3c2416540246afba12d0569abd83a1.jpg - Detected Masks: 0\n",
      "202502_30_01226898984_5c3c2416540246afba12d0569abd83a1.jpg - Average Confidence Score: 0.0000\n",
      "202502_30_01226898984_5c3c2416540246afba12d0569abd83a1.jpg - GPU Memory Used: 8208.46 MB\n",
      "Saved result to ./results/result_202502_30_01226898984_5c3c2416540246afba12d0569abd83a1.jpg\n",
      "Processing 202502_30_01226891777_e1db01443335442fbe7dfaaa8b34f960.jpg - Size: 1920 x 1080\n",
      "202502_30_01226891777_e1db01443335442fbe7dfaaa8b34f960.jpg - Inference Time: 0.115 sec\n",
      "202502_30_01226891777_e1db01443335442fbe7dfaaa8b34f960.jpg - Detected Masks: 0\n",
      "202502_30_01226891777_e1db01443335442fbe7dfaaa8b34f960.jpg - Average Confidence Score: 0.0000\n",
      "202502_30_01226891777_e1db01443335442fbe7dfaaa8b34f960.jpg - GPU Memory Used: 8208.46 MB\n",
      "Saved result to ./results/result_202502_30_01226891777_e1db01443335442fbe7dfaaa8b34f960.jpg\n",
      "Processing 202502_30_01225814751_80551cf506ff4a2b921fd1b950857b84.jpg - Size: 1920 x 1080\n",
      "202502_30_01225814751_80551cf506ff4a2b921fd1b950857b84.jpg - Inference Time: 0.126 sec\n",
      "202502_30_01225814751_80551cf506ff4a2b921fd1b950857b84.jpg - Detected Masks: 2\n",
      "202502_30_01225814751_80551cf506ff4a2b921fd1b950857b84.jpg - Average Confidence Score: 0.3452\n",
      "202502_30_01225814751_80551cf506ff4a2b921fd1b950857b84.jpg - GPU Memory Used: 8208.46 MB\n",
      "Saved result to ./results/result_202502_30_01225814751_80551cf506ff4a2b921fd1b950857b84.jpg\n",
      "Processing 202502_30_01226892215_67017c700dc74349ae4042378d4fcd73.jpg - Size: 1920 x 1080\n",
      "202502_30_01226892215_67017c700dc74349ae4042378d4fcd73.jpg - Inference Time: 0.114 sec\n",
      "202502_30_01226892215_67017c700dc74349ae4042378d4fcd73.jpg - Detected Masks: 0\n",
      "202502_30_01226892215_67017c700dc74349ae4042378d4fcd73.jpg - Average Confidence Score: 0.0000\n",
      "202502_30_01226892215_67017c700dc74349ae4042378d4fcd73.jpg - GPU Memory Used: 8208.46 MB\n",
      "Saved result to ./results/result_202502_30_01226892215_67017c700dc74349ae4042378d4fcd73.jpg\n",
      "Processing 202502_30_01225814749_0b752ab628654e08bc4c9c31223f7e4e.jpg - Size: 1920 x 1080\n",
      "202502_30_01225814749_0b752ab628654e08bc4c9c31223f7e4e.jpg - Inference Time: 0.128 sec\n",
      "202502_30_01225814749_0b752ab628654e08bc4c9c31223f7e4e.jpg - Detected Masks: 1\n",
      "202502_30_01225814749_0b752ab628654e08bc4c9c31223f7e4e.jpg - Average Confidence Score: 0.4168\n",
      "202502_30_01225814749_0b752ab628654e08bc4c9c31223f7e4e.jpg - GPU Memory Used: 8208.46 MB\n",
      "Saved result to ./results/result_202502_30_01225814749_0b752ab628654e08bc4c9c31223f7e4e.jpg\n",
      "Processing 202502_30_01226895573_19cb0e73c84846718cbf7380552ea6fa.jpg - Size: 1920 x 1080\n",
      "202502_30_01226895573_19cb0e73c84846718cbf7380552ea6fa.jpg - Inference Time: 0.129 sec\n",
      "202502_30_01226895573_19cb0e73c84846718cbf7380552ea6fa.jpg - Detected Masks: 2\n",
      "202502_30_01226895573_19cb0e73c84846718cbf7380552ea6fa.jpg - Average Confidence Score: 0.3252\n",
      "202502_30_01226895573_19cb0e73c84846718cbf7380552ea6fa.jpg - GPU Memory Used: 8208.46 MB\n",
      "Saved result to ./results/result_202502_30_01226895573_19cb0e73c84846718cbf7380552ea6fa.jpg\n",
      "Processing person.jpg - Size: 1536 x 1536\n",
      "person.jpg - Inference Time: 0.100 sec\n",
      "person.jpg - Detected Masks: 1\n",
      "person.jpg - Average Confidence Score: 0.4026\n",
      "person.jpg - GPU Memory Used: 8208.46 MB\n",
      "Saved result to ./results/result_person.jpg\n",
      "Processing 202502_30_01226894868_f7c01f7b07d7498b943cd28382f03324.jpg - Size: 1920 x 1080\n",
      "202502_30_01226894868_f7c01f7b07d7498b943cd28382f03324.jpg - Inference Time: 0.128 sec\n",
      "202502_30_01226894868_f7c01f7b07d7498b943cd28382f03324.jpg - Detected Masks: 1\n",
      "202502_30_01226894868_f7c01f7b07d7498b943cd28382f03324.jpg - Average Confidence Score: 0.3090\n",
      "202502_30_01226894868_f7c01f7b07d7498b943cd28382f03324.jpg - GPU Memory Used: 8208.46 MB\n",
      "Saved result to ./results/result_202502_30_01226894868_f7c01f7b07d7498b943cd28382f03324.jpg\n",
      "Processing 202502_30_01226896034_da9b03f432c744af981adc5ca087c856.jpg - Size: 1920 x 1080\n",
      "202502_30_01226896034_da9b03f432c744af981adc5ca087c856.jpg - Inference Time: 0.125 sec\n",
      "202502_30_01226896034_da9b03f432c744af981adc5ca087c856.jpg - Detected Masks: 1\n",
      "202502_30_01226896034_da9b03f432c744af981adc5ca087c856.jpg - Average Confidence Score: 0.5808\n",
      "202502_30_01226896034_da9b03f432c744af981adc5ca087c856.jpg - GPU Memory Used: 8208.46 MB\n",
      "Saved result to ./results/result_202502_30_01226896034_da9b03f432c744af981adc5ca087c856.jpg\n",
      "Processing 202502_30_01226897657_c38512473b05463a8fa8fd97aeb31992.jpg - Size: 1920 x 1080\n",
      "202502_30_01226897657_c38512473b05463a8fa8fd97aeb31992.jpg - Inference Time: 0.128 sec\n",
      "202502_30_01226897657_c38512473b05463a8fa8fd97aeb31992.jpg - Detected Masks: 1\n",
      "202502_30_01226897657_c38512473b05463a8fa8fd97aeb31992.jpg - Average Confidence Score: 0.3294\n",
      "202502_30_01226897657_c38512473b05463a8fa8fd97aeb31992.jpg - GPU Memory Used: 8208.46 MB\n",
      "Saved result to ./results/result_202502_30_01226897657_c38512473b05463a8fa8fd97aeb31992.jpg\n",
      "Processing 202502_30_01226894444_55cf7f0f4796490299bb69528b110630.jpg - Size: 1920 x 1080\n",
      "202502_30_01226894444_55cf7f0f4796490299bb69528b110630.jpg - Inference Time: 0.114 sec\n",
      "202502_30_01226894444_55cf7f0f4796490299bb69528b110630.jpg - Detected Masks: 0\n",
      "202502_30_01226894444_55cf7f0f4796490299bb69528b110630.jpg - Average Confidence Score: 0.0000\n",
      "202502_30_01226894444_55cf7f0f4796490299bb69528b110630.jpg - GPU Memory Used: 8208.46 MB\n",
      "Saved result to ./results/result_202502_30_01226894444_55cf7f0f4796490299bb69528b110630.jpg\n",
      "Processing 202502_30_01226897943_ec7cfde61a8445f789f75d78e779cdf2.jpg - Size: 1920 x 1080\n",
      "202502_30_01226897943_ec7cfde61a8445f789f75d78e779cdf2.jpg - Inference Time: 0.112 sec\n",
      "202502_30_01226897943_ec7cfde61a8445f789f75d78e779cdf2.jpg - Detected Masks: 0\n",
      "202502_30_01226897943_ec7cfde61a8445f789f75d78e779cdf2.jpg - Average Confidence Score: 0.0000\n",
      "202502_30_01226897943_ec7cfde61a8445f789f75d78e779cdf2.jpg - GPU Memory Used: 8208.46 MB\n",
      "Saved result to ./results/result_202502_30_01226897943_ec7cfde61a8445f789f75d78e779cdf2.jpg\n",
      "Processing 202502_30_01226888332_cb296492bc5f4092b65f26efd47c4ce1.jpg - Size: 1920 x 1080\n",
      "202502_30_01226888332_cb296492bc5f4092b65f26efd47c4ce1.jpg - Inference Time: 0.111 sec\n",
      "202502_30_01226888332_cb296492bc5f4092b65f26efd47c4ce1.jpg - Detected Masks: 0\n",
      "202502_30_01226888332_cb296492bc5f4092b65f26efd47c4ce1.jpg - Average Confidence Score: 0.0000\n",
      "202502_30_01226888332_cb296492bc5f4092b65f26efd47c4ce1.jpg - GPU Memory Used: 8208.46 MB\n",
      "Saved result to ./results/result_202502_30_01226888332_cb296492bc5f4092b65f26efd47c4ce1.jpg\n",
      "Processing 202502_30_01226890628_99032ff7f621427ca82fb00e8677e0c7.jpg - Size: 1920 x 1080\n",
      "202502_30_01226890628_99032ff7f621427ca82fb00e8677e0c7.jpg - Inference Time: 0.126 sec\n",
      "202502_30_01226890628_99032ff7f621427ca82fb00e8677e0c7.jpg - Detected Masks: 1\n",
      "202502_30_01226890628_99032ff7f621427ca82fb00e8677e0c7.jpg - Average Confidence Score: 0.3251\n",
      "202502_30_01226890628_99032ff7f621427ca82fb00e8677e0c7.jpg - GPU Memory Used: 8208.46 MB\n",
      "Saved result to ./results/result_202502_30_01226890628_99032ff7f621427ca82fb00e8677e0c7.jpg\n",
      "Processing 202502_30_01226898135_af2b509d39cf4a50b3902a1f8ba0d0c0.jpg - Size: 1920 x 1080\n",
      "202502_30_01226898135_af2b509d39cf4a50b3902a1f8ba0d0c0.jpg - Inference Time: 0.114 sec\n",
      "202502_30_01226898135_af2b509d39cf4a50b3902a1f8ba0d0c0.jpg - Detected Masks: 0\n",
      "202502_30_01226898135_af2b509d39cf4a50b3902a1f8ba0d0c0.jpg - Average Confidence Score: 0.0000\n",
      "202502_30_01226898135_af2b509d39cf4a50b3902a1f8ba0d0c0.jpg - GPU Memory Used: 8208.46 MB\n",
      "Saved result to ./results/result_202502_30_01226898135_af2b509d39cf4a50b3902a1f8ba0d0c0.jpg\n",
      "Processing 202502_30_01225815463_340fae3825db4f028f3bbc0c1d73bd6b.jpg - Size: 1920 x 1080\n",
      "202502_30_01225815463_340fae3825db4f028f3bbc0c1d73bd6b.jpg - Inference Time: 0.126 sec\n",
      "202502_30_01225815463_340fae3825db4f028f3bbc0c1d73bd6b.jpg - Detected Masks: 1\n",
      "202502_30_01225815463_340fae3825db4f028f3bbc0c1d73bd6b.jpg - Average Confidence Score: 0.3919\n",
      "202502_30_01225815463_340fae3825db4f028f3bbc0c1d73bd6b.jpg - GPU Memory Used: 8208.46 MB\n",
      "Saved result to ./results/result_202502_30_01225815463_340fae3825db4f028f3bbc0c1d73bd6b.jpg\n",
      "Processing 202502_30_01226898375_af89e73d66414729aae8a94fe2bed161.jpg - Size: 1920 x 1080\n",
      "202502_30_01226898375_af89e73d66414729aae8a94fe2bed161.jpg - Inference Time: 0.114 sec\n",
      "202502_30_01226898375_af89e73d66414729aae8a94fe2bed161.jpg - Detected Masks: 0\n",
      "202502_30_01226898375_af89e73d66414729aae8a94fe2bed161.jpg - Average Confidence Score: 0.0000\n",
      "202502_30_01226898375_af89e73d66414729aae8a94fe2bed161.jpg - GPU Memory Used: 8208.46 MB\n",
      "Saved result to ./results/result_202502_30_01226898375_af89e73d66414729aae8a94fe2bed161.jpg\n",
      "Processing 202502_30_01226893041_0d7553d8a640454ba33a2b8a6f0d6a16.jpg - Size: 1920 x 1080\n",
      "202502_30_01226893041_0d7553d8a640454ba33a2b8a6f0d6a16.jpg - Inference Time: 0.111 sec\n",
      "202502_30_01226893041_0d7553d8a640454ba33a2b8a6f0d6a16.jpg - Detected Masks: 0\n",
      "202502_30_01226893041_0d7553d8a640454ba33a2b8a6f0d6a16.jpg - Average Confidence Score: 0.0000\n",
      "202502_30_01226893041_0d7553d8a640454ba33a2b8a6f0d6a16.jpg - GPU Memory Used: 8208.46 MB\n",
      "Saved result to ./results/result_202502_30_01226893041_0d7553d8a640454ba33a2b8a6f0d6a16.jpg\n",
      "Processing 202502_30_01226897015_f3ea50beefab4542a47daedcfc0bc50e.jpg - Size: 1920 x 1080\n",
      "202502_30_01226897015_f3ea50beefab4542a47daedcfc0bc50e.jpg - Inference Time: 0.126 sec\n",
      "202502_30_01226897015_f3ea50beefab4542a47daedcfc0bc50e.jpg - Detected Masks: 1\n",
      "202502_30_01226897015_f3ea50beefab4542a47daedcfc0bc50e.jpg - Average Confidence Score: 0.3242\n",
      "202502_30_01226897015_f3ea50beefab4542a47daedcfc0bc50e.jpg - GPU Memory Used: 8208.46 MB\n",
      "Saved result to ./results/result_202502_30_01226897015_f3ea50beefab4542a47daedcfc0bc50e.jpg\n",
      "Processing 202502_30_01226893037_45945b63d1114898907e4601e2934017.jpg - Size: 1920 x 1080\n",
      "202502_30_01226893037_45945b63d1114898907e4601e2934017.jpg - Inference Time: 0.128 sec\n",
      "202502_30_01226893037_45945b63d1114898907e4601e2934017.jpg - Detected Masks: 1\n",
      "202502_30_01226893037_45945b63d1114898907e4601e2934017.jpg - Average Confidence Score: 0.4003\n",
      "202502_30_01226893037_45945b63d1114898907e4601e2934017.jpg - GPU Memory Used: 8208.46 MB\n",
      "Saved result to ./results/result_202502_30_01226893037_45945b63d1114898907e4601e2934017.jpg\n",
      "Processing 202502_30_01225814760_8eaef067e49940e9a2ec5cedb892a41a.jpg - Size: 1920 x 1080\n",
      "202502_30_01225814760_8eaef067e49940e9a2ec5cedb892a41a.jpg - Inference Time: 0.128 sec\n",
      "202502_30_01225814760_8eaef067e49940e9a2ec5cedb892a41a.jpg - Detected Masks: 1\n",
      "202502_30_01225814760_8eaef067e49940e9a2ec5cedb892a41a.jpg - Average Confidence Score: 0.3277\n",
      "202502_30_01225814760_8eaef067e49940e9a2ec5cedb892a41a.jpg - GPU Memory Used: 8208.46 MB\n",
      "Saved result to ./results/result_202502_30_01225814760_8eaef067e49940e9a2ec5cedb892a41a.jpg\n",
      "Processing 202502_30_01225815253_c7aa2619c19c486dbffc315d2baa1e20.jpg - Size: 1920 x 1080\n",
      "202502_30_01225815253_c7aa2619c19c486dbffc315d2baa1e20.jpg - Inference Time: 0.129 sec\n",
      "202502_30_01225815253_c7aa2619c19c486dbffc315d2baa1e20.jpg - Detected Masks: 1\n",
      "202502_30_01225815253_c7aa2619c19c486dbffc315d2baa1e20.jpg - Average Confidence Score: 0.3657\n",
      "202502_30_01225815253_c7aa2619c19c486dbffc315d2baa1e20.jpg - GPU Memory Used: 8208.46 MB\n",
      "Saved result to ./results/result_202502_30_01225815253_c7aa2619c19c486dbffc315d2baa1e20.jpg\n",
      "Processing 202502_30_01226891539_7c2358da49ff42cf9d6994471bad84ec.jpg - Size: 1920 x 1080\n",
      "202502_30_01226891539_7c2358da49ff42cf9d6994471bad84ec.jpg - Inference Time: 0.129 sec\n",
      "202502_30_01226891539_7c2358da49ff42cf9d6994471bad84ec.jpg - Detected Masks: 2\n",
      "202502_30_01226891539_7c2358da49ff42cf9d6994471bad84ec.jpg - Average Confidence Score: 0.3291\n",
      "202502_30_01226891539_7c2358da49ff42cf9d6994471bad84ec.jpg - GPU Memory Used: 8208.46 MB\n",
      "Saved result to ./results/result_202502_30_01226891539_7c2358da49ff42cf9d6994471bad84ec.jpg\n",
      "Processing 202502_30_01226896139_cfdbdbd1e2b94327b6578e4157bf4ff1.jpg - Size: 1920 x 1080\n",
      "202502_30_01226896139_cfdbdbd1e2b94327b6578e4157bf4ff1.jpg - Inference Time: 0.128 sec\n",
      "202502_30_01226896139_cfdbdbd1e2b94327b6578e4157bf4ff1.jpg - Detected Masks: 1\n",
      "202502_30_01226896139_cfdbdbd1e2b94327b6578e4157bf4ff1.jpg - Average Confidence Score: 0.3812\n",
      "202502_30_01226896139_cfdbdbd1e2b94327b6578e4157bf4ff1.jpg - GPU Memory Used: 8208.46 MB\n",
      "Saved result to ./results/result_202502_30_01226896139_cfdbdbd1e2b94327b6578e4157bf4ff1.jpg\n",
      "Processing 202502_30_01226888443_a9c921959fd545f2b59b99c322ec3556.jpg - Size: 1920 x 1080\n",
      "202502_30_01226888443_a9c921959fd545f2b59b99c322ec3556.jpg - Inference Time: 0.127 sec\n",
      "202502_30_01226888443_a9c921959fd545f2b59b99c322ec3556.jpg - Detected Masks: 1\n",
      "202502_30_01226888443_a9c921959fd545f2b59b99c322ec3556.jpg - Average Confidence Score: 0.3016\n",
      "202502_30_01226888443_a9c921959fd545f2b59b99c322ec3556.jpg - GPU Memory Used: 8208.46 MB\n",
      "Saved result to ./results/result_202502_30_01226888443_a9c921959fd545f2b59b99c322ec3556.jpg\n",
      "Processing 202502_30_01226888252_1b8f3188fc4a44769b89ab8c95a02827.jpg - Size: 1920 x 1080\n",
      "202502_30_01226888252_1b8f3188fc4a44769b89ab8c95a02827.jpg - Inference Time: 0.127 sec\n",
      "202502_30_01226888252_1b8f3188fc4a44769b89ab8c95a02827.jpg - Detected Masks: 1\n",
      "202502_30_01226888252_1b8f3188fc4a44769b89ab8c95a02827.jpg - Average Confidence Score: 0.3057\n",
      "202502_30_01226888252_1b8f3188fc4a44769b89ab8c95a02827.jpg - GPU Memory Used: 8208.46 MB\n",
      "Saved result to ./results/result_202502_30_01226888252_1b8f3188fc4a44769b89ab8c95a02827.jpg\n",
      "Processing 202502_30_01226898245_08bf9f20a69848d5a1c4894715381770.jpg - Size: 1920 x 1080\n",
      "202502_30_01226898245_08bf9f20a69848d5a1c4894715381770.jpg - Inference Time: 0.130 sec\n",
      "202502_30_01226898245_08bf9f20a69848d5a1c4894715381770.jpg - Detected Masks: 3\n",
      "202502_30_01226898245_08bf9f20a69848d5a1c4894715381770.jpg - Average Confidence Score: 0.3315\n",
      "202502_30_01226898245_08bf9f20a69848d5a1c4894715381770.jpg - GPU Memory Used: 8208.46 MB\n",
      "Saved result to ./results/result_202502_30_01226898245_08bf9f20a69848d5a1c4894715381770.jpg\n",
      "Processing 202502_30_01226898245_785d3a903b9e4c7fb613ed4f0e0c8849.jpg - Size: 1920 x 1080\n",
      "202502_30_01226898245_785d3a903b9e4c7fb613ed4f0e0c8849.jpg - Inference Time: 0.115 sec\n",
      "202502_30_01226898245_785d3a903b9e4c7fb613ed4f0e0c8849.jpg - Detected Masks: 0\n",
      "202502_30_01226898245_785d3a903b9e4c7fb613ed4f0e0c8849.jpg - Average Confidence Score: 0.0000\n",
      "202502_30_01226898245_785d3a903b9e4c7fb613ed4f0e0c8849.jpg - GPU Memory Used: 8208.46 MB\n",
      "Saved result to ./results/result_202502_30_01226898245_785d3a903b9e4c7fb613ed4f0e0c8849.jpg\n",
      "Processing 202502_30_01226898439_7aa1309a8018487e817e4ed53f992b8b.jpg - Size: 1920 x 1080\n",
      "202502_30_01226898439_7aa1309a8018487e817e4ed53f992b8b.jpg - Inference Time: 0.123 sec\n",
      "202502_30_01226898439_7aa1309a8018487e817e4ed53f992b8b.jpg - Detected Masks: 1\n",
      "202502_30_01226898439_7aa1309a8018487e817e4ed53f992b8b.jpg - Average Confidence Score: 0.3277\n",
      "202502_30_01226898439_7aa1309a8018487e817e4ed53f992b8b.jpg - GPU Memory Used: 8208.46 MB\n",
      "Saved result to ./results/result_202502_30_01226898439_7aa1309a8018487e817e4ed53f992b8b.jpg\n",
      "Processing 202502_30_01226899190_059752b613ee417fa9301d55ba731a03.jpg - Size: 1920 x 1080\n",
      "202502_30_01226899190_059752b613ee417fa9301d55ba731a03.jpg - Inference Time: 0.112 sec\n",
      "202502_30_01226899190_059752b613ee417fa9301d55ba731a03.jpg - Detected Masks: 0\n",
      "202502_30_01226899190_059752b613ee417fa9301d55ba731a03.jpg - Average Confidence Score: 0.0000\n",
      "202502_30_01226899190_059752b613ee417fa9301d55ba731a03.jpg - GPU Memory Used: 8208.46 MB\n",
      "Saved result to ./results/result_202502_30_01226899190_059752b613ee417fa9301d55ba731a03.jpg\n",
      "Processing 202502_30_01226889688_f78e51a2c3ff482ea68490bc827bb190.jpg - Size: 1920 x 1080\n",
      "202502_30_01226889688_f78e51a2c3ff482ea68490bc827bb190.jpg - Inference Time: 0.125 sec\n",
      "202502_30_01226889688_f78e51a2c3ff482ea68490bc827bb190.jpg - Detected Masks: 1\n",
      "202502_30_01226889688_f78e51a2c3ff482ea68490bc827bb190.jpg - Average Confidence Score: 0.3794\n",
      "202502_30_01226889688_f78e51a2c3ff482ea68490bc827bb190.jpg - GPU Memory Used: 8208.46 MB\n",
      "Saved result to ./results/result_202502_30_01226889688_f78e51a2c3ff482ea68490bc827bb190.jpg\n",
      "Processing 202502_30_01226895996_26d328716a974eb28a329159ba495752.jpg - Size: 1920 x 1080\n",
      "202502_30_01226895996_26d328716a974eb28a329159ba495752.jpg - Inference Time: 0.129 sec\n",
      "202502_30_01226895996_26d328716a974eb28a329159ba495752.jpg - Detected Masks: 2\n",
      "202502_30_01226895996_26d328716a974eb28a329159ba495752.jpg - Average Confidence Score: 0.3774\n",
      "202502_30_01226895996_26d328716a974eb28a329159ba495752.jpg - GPU Memory Used: 8208.46 MB\n",
      "Saved result to ./results/result_202502_30_01226895996_26d328716a974eb28a329159ba495752.jpg\n",
      "Processing 202502_30_01226891708_4ced5c0efbe1442ba4fedeec52434835.jpg - Size: 1920 x 1080\n",
      "202502_30_01226891708_4ced5c0efbe1442ba4fedeec52434835.jpg - Inference Time: 0.115 sec\n",
      "202502_30_01226891708_4ced5c0efbe1442ba4fedeec52434835.jpg - Detected Masks: 0\n",
      "202502_30_01226891708_4ced5c0efbe1442ba4fedeec52434835.jpg - Average Confidence Score: 0.0000\n",
      "202502_30_01226891708_4ced5c0efbe1442ba4fedeec52434835.jpg - GPU Memory Used: 8208.46 MB\n",
      "Saved result to ./results/result_202502_30_01226891708_4ced5c0efbe1442ba4fedeec52434835.jpg\n",
      "Processing 202502_30_01226897774_05e9cf6bad494c4b90038dd511320b1e.jpg - Size: 1920 x 1080\n",
      "202502_30_01226897774_05e9cf6bad494c4b90038dd511320b1e.jpg - Inference Time: 0.128 sec\n",
      "202502_30_01226897774_05e9cf6bad494c4b90038dd511320b1e.jpg - Detected Masks: 1\n",
      "202502_30_01226897774_05e9cf6bad494c4b90038dd511320b1e.jpg - Average Confidence Score: 0.4022\n",
      "202502_30_01226897774_05e9cf6bad494c4b90038dd511320b1e.jpg - GPU Memory Used: 8208.46 MB\n",
      "Saved result to ./results/result_202502_30_01226897774_05e9cf6bad494c4b90038dd511320b1e.jpg\n",
      "Processing 202502_30_01226319911_3eb4cb5591474738aac123f558a26563.jpg - Size: 1920 x 1080\n",
      "202502_30_01226319911_3eb4cb5591474738aac123f558a26563.jpg - Inference Time: 0.126 sec\n",
      "202502_30_01226319911_3eb4cb5591474738aac123f558a26563.jpg - Detected Masks: 1\n",
      "202502_30_01226319911_3eb4cb5591474738aac123f558a26563.jpg - Average Confidence Score: 0.4475\n",
      "202502_30_01226319911_3eb4cb5591474738aac123f558a26563.jpg - GPU Memory Used: 8208.46 MB\n",
      "Saved result to ./results/result_202502_30_01226319911_3eb4cb5591474738aac123f558a26563.jpg\n",
      "Processing 202502_30_01225815620_220d0433bb06461faec35be77ea130c8.jpg - Size: 1920 x 1080\n",
      "202502_30_01225815620_220d0433bb06461faec35be77ea130c8.jpg - Inference Time: 0.114 sec\n",
      "202502_30_01225815620_220d0433bb06461faec35be77ea130c8.jpg - Detected Masks: 0\n",
      "202502_30_01225815620_220d0433bb06461faec35be77ea130c8.jpg - Average Confidence Score: 0.0000\n",
      "202502_30_01225815620_220d0433bb06461faec35be77ea130c8.jpg - GPU Memory Used: 8208.46 MB\n",
      "Saved result to ./results/result_202502_30_01225815620_220d0433bb06461faec35be77ea130c8.jpg\n",
      "Processing 202502_30_01226891681_39e73458088d4831ae644d05cda253e9.jpg - Size: 1920 x 1080\n",
      "202502_30_01226891681_39e73458088d4831ae644d05cda253e9.jpg - Inference Time: 0.126 sec\n",
      "202502_30_01226891681_39e73458088d4831ae644d05cda253e9.jpg - Detected Masks: 1\n",
      "202502_30_01226891681_39e73458088d4831ae644d05cda253e9.jpg - Average Confidence Score: 0.3057\n",
      "202502_30_01226891681_39e73458088d4831ae644d05cda253e9.jpg - GPU Memory Used: 8208.46 MB\n",
      "Saved result to ./results/result_202502_30_01226891681_39e73458088d4831ae644d05cda253e9.jpg\n",
      "Processing 202502_30_01226891777_29fc551c2a0a4ce1b6d1498e2ccdf83f.jpg - Size: 1920 x 1080\n",
      "202502_30_01226891777_29fc551c2a0a4ce1b6d1498e2ccdf83f.jpg - Inference Time: 0.115 sec\n",
      "202502_30_01226891777_29fc551c2a0a4ce1b6d1498e2ccdf83f.jpg - Detected Masks: 0\n",
      "202502_30_01226891777_29fc551c2a0a4ce1b6d1498e2ccdf83f.jpg - Average Confidence Score: 0.0000\n",
      "202502_30_01226891777_29fc551c2a0a4ce1b6d1498e2ccdf83f.jpg - GPU Memory Used: 8208.46 MB\n",
      "Saved result to ./results/result_202502_30_01226891777_29fc551c2a0a4ce1b6d1498e2ccdf83f.jpg\n",
      "Processing 202502_30_01226897209_75819ae931d14ee6b1869462d03cbc0d.jpg - Size: 1920 x 1080\n",
      "202502_30_01226897209_75819ae931d14ee6b1869462d03cbc0d.jpg - Inference Time: 0.125 sec\n",
      "202502_30_01226897209_75819ae931d14ee6b1869462d03cbc0d.jpg - Detected Masks: 1\n",
      "202502_30_01226897209_75819ae931d14ee6b1869462d03cbc0d.jpg - Average Confidence Score: 0.3016\n",
      "202502_30_01226897209_75819ae931d14ee6b1869462d03cbc0d.jpg - GPU Memory Used: 8208.46 MB\n",
      "Saved result to ./results/result_202502_30_01226897209_75819ae931d14ee6b1869462d03cbc0d.jpg\n",
      "Processing 202502_30_01225814630_541c14e35b624316ac63c352612fbe4b.jpg - Size: 1920 x 1080\n",
      "202502_30_01225814630_541c14e35b624316ac63c352612fbe4b.jpg - Inference Time: 0.129 sec\n",
      "202502_30_01225814630_541c14e35b624316ac63c352612fbe4b.jpg - Detected Masks: 2\n",
      "202502_30_01225814630_541c14e35b624316ac63c352612fbe4b.jpg - Average Confidence Score: 0.3558\n",
      "202502_30_01225814630_541c14e35b624316ac63c352612fbe4b.jpg - GPU Memory Used: 8208.46 MB\n",
      "Saved result to ./results/result_202502_30_01225814630_541c14e35b624316ac63c352612fbe4b.jpg\n",
      "Processing 202502_30_01226898021_c2b49ea5ae524e0b943918212723f8cf.jpg - Size: 1920 x 1080\n",
      "202502_30_01226898021_c2b49ea5ae524e0b943918212723f8cf.jpg - Inference Time: 0.115 sec\n",
      "202502_30_01226898021_c2b49ea5ae524e0b943918212723f8cf.jpg - Detected Masks: 0\n",
      "202502_30_01226898021_c2b49ea5ae524e0b943918212723f8cf.jpg - Average Confidence Score: 0.0000\n",
      "202502_30_01226898021_c2b49ea5ae524e0b943918212723f8cf.jpg - GPU Memory Used: 8208.46 MB\n",
      "Saved result to ./results/result_202502_30_01226898021_c2b49ea5ae524e0b943918212723f8cf.jpg\n",
      "Processing 202502_30_01225814756_cbce279e0bf7467b9c6f0ec5c91986a3.jpg - Size: 1920 x 1080\n",
      "202502_30_01225814756_cbce279e0bf7467b9c6f0ec5c91986a3.jpg - Inference Time: 0.112 sec\n",
      "202502_30_01225814756_cbce279e0bf7467b9c6f0ec5c91986a3.jpg - Detected Masks: 0\n",
      "202502_30_01225814756_cbce279e0bf7467b9c6f0ec5c91986a3.jpg - Average Confidence Score: 0.0000\n",
      "202502_30_01225814756_cbce279e0bf7467b9c6f0ec5c91986a3.jpg - GPU Memory Used: 8208.46 MB\n",
      "Saved result to ./results/result_202502_30_01225814756_cbce279e0bf7467b9c6f0ec5c91986a3.jpg\n",
      "Processing 202502_30_01226898034_06ceff8cd4e34fab847e4aba4a95c61b.jpg - Size: 1920 x 1080\n",
      "202502_30_01226898034_06ceff8cd4e34fab847e4aba4a95c61b.jpg - Inference Time: 0.131 sec\n",
      "202502_30_01226898034_06ceff8cd4e34fab847e4aba4a95c61b.jpg - Detected Masks: 3\n",
      "202502_30_01226898034_06ceff8cd4e34fab847e4aba4a95c61b.jpg - Average Confidence Score: 0.3671\n",
      "202502_30_01226898034_06ceff8cd4e34fab847e4aba4a95c61b.jpg - GPU Memory Used: 8208.46 MB\n",
      "Saved result to ./results/result_202502_30_01226898034_06ceff8cd4e34fab847e4aba4a95c61b.jpg\n",
      "Processing 202502_30_01226895349_8fd5b931c44c433f8c630811f84866a5.jpg - Size: 1920 x 1080\n",
      "202502_30_01226895349_8fd5b931c44c433f8c630811f84866a5.jpg - Inference Time: 0.132 sec\n",
      "202502_30_01226895349_8fd5b931c44c433f8c630811f84866a5.jpg - Detected Masks: 1\n",
      "202502_30_01226895349_8fd5b931c44c433f8c630811f84866a5.jpg - Average Confidence Score: 0.4321\n",
      "202502_30_01226895349_8fd5b931c44c433f8c630811f84866a5.jpg - GPU Memory Used: 8208.46 MB\n",
      "Saved result to ./results/result_202502_30_01226895349_8fd5b931c44c433f8c630811f84866a5.jpg\n",
      "Processing 202502_30_01226897975_fe82297139dc40e19e38b9fc7383dea9.jpg - Size: 1920 x 1080\n",
      "202502_30_01226897975_fe82297139dc40e19e38b9fc7383dea9.jpg - Inference Time: 0.115 sec\n",
      "202502_30_01226897975_fe82297139dc40e19e38b9fc7383dea9.jpg - Detected Masks: 0\n",
      "202502_30_01226897975_fe82297139dc40e19e38b9fc7383dea9.jpg - Average Confidence Score: 0.0000\n",
      "202502_30_01226897975_fe82297139dc40e19e38b9fc7383dea9.jpg - GPU Memory Used: 8208.46 MB\n",
      "Saved result to ./results/result_202502_30_01226897975_fe82297139dc40e19e38b9fc7383dea9.jpg\n",
      "Processing 202502_30_01226896264_d12b128149334c06acd37c9d95ba42a3.jpg - Size: 1920 x 1080\n",
      "202502_30_01226896264_d12b128149334c06acd37c9d95ba42a3.jpg - Inference Time: 0.126 sec\n",
      "202502_30_01226896264_d12b128149334c06acd37c9d95ba42a3.jpg - Detected Masks: 1\n",
      "202502_30_01226896264_d12b128149334c06acd37c9d95ba42a3.jpg - Average Confidence Score: 0.3657\n",
      "202502_30_01226896264_d12b128149334c06acd37c9d95ba42a3.jpg - GPU Memory Used: 8208.46 MB\n",
      "Saved result to ./results/result_202502_30_01226896264_d12b128149334c06acd37c9d95ba42a3.jpg\n",
      "Processing 202502_30_01225815939_be982820b25b47839843f21c9bdc5f32.jpg - Size: 1920 x 1080\n",
      "202502_30_01225815939_be982820b25b47839843f21c9bdc5f32.jpg - Inference Time: 0.128 sec\n",
      "202502_30_01225815939_be982820b25b47839843f21c9bdc5f32.jpg - Detected Masks: 2\n",
      "202502_30_01225815939_be982820b25b47839843f21c9bdc5f32.jpg - Average Confidence Score: 0.4568\n",
      "202502_30_01225815939_be982820b25b47839843f21c9bdc5f32.jpg - GPU Memory Used: 8208.46 MB\n",
      "Saved result to ./results/result_202502_30_01225815939_be982820b25b47839843f21c9bdc5f32.jpg\n",
      "Processing 202502_30_01226889688_3823f8897b9f4cdcbd3878d5de6b902f.jpg - Size: 1920 x 1080\n",
      "202502_30_01226889688_3823f8897b9f4cdcbd3878d5de6b902f.jpg - Inference Time: 0.116 sec\n",
      "202502_30_01226889688_3823f8897b9f4cdcbd3878d5de6b902f.jpg - Detected Masks: 0\n",
      "202502_30_01226889688_3823f8897b9f4cdcbd3878d5de6b902f.jpg - Average Confidence Score: 0.0000\n",
      "202502_30_01226889688_3823f8897b9f4cdcbd3878d5de6b902f.jpg - GPU Memory Used: 8208.46 MB\n",
      "Saved result to ./results/result_202502_30_01226889688_3823f8897b9f4cdcbd3878d5de6b902f.jpg\n",
      "Processing 202502_30_01226895746_dfcb7dc5074d40dc947dd2ee7fd4d6fc.jpg - Size: 1920 x 1080\n",
      "202502_30_01226895746_dfcb7dc5074d40dc947dd2ee7fd4d6fc.jpg - Inference Time: 0.116 sec\n",
      "202502_30_01226895746_dfcb7dc5074d40dc947dd2ee7fd4d6fc.jpg - Detected Masks: 0\n",
      "202502_30_01226895746_dfcb7dc5074d40dc947dd2ee7fd4d6fc.jpg - Average Confidence Score: 0.0000\n",
      "202502_30_01226895746_dfcb7dc5074d40dc947dd2ee7fd4d6fc.jpg - GPU Memory Used: 8208.46 MB\n",
      "Saved result to ./results/result_202502_30_01226895746_dfcb7dc5074d40dc947dd2ee7fd4d6fc.jpg\n",
      "Processing 202502_30_01226889673_dc324863625748bb99c258581e6ead11.jpg - Size: 1920 x 1080\n",
      "202502_30_01226889673_dc324863625748bb99c258581e6ead11.jpg - Inference Time: 0.113 sec\n",
      "202502_30_01226889673_dc324863625748bb99c258581e6ead11.jpg - Detected Masks: 0\n",
      "202502_30_01226889673_dc324863625748bb99c258581e6ead11.jpg - Average Confidence Score: 0.0000\n",
      "202502_30_01226889673_dc324863625748bb99c258581e6ead11.jpg - GPU Memory Used: 8208.46 MB\n",
      "Saved result to ./results/result_202502_30_01226889673_dc324863625748bb99c258581e6ead11.jpg\n",
      "Processing 202502_30_01226898390_1760f2ca5bc0474d83b757f70f85e8c5.jpg - Size: 1920 x 1080\n",
      "202502_30_01226898390_1760f2ca5bc0474d83b757f70f85e8c5.jpg - Inference Time: 0.130 sec\n",
      "202502_30_01226898390_1760f2ca5bc0474d83b757f70f85e8c5.jpg - Detected Masks: 1\n",
      "202502_30_01226898390_1760f2ca5bc0474d83b757f70f85e8c5.jpg - Average Confidence Score: 0.3684\n",
      "202502_30_01226898390_1760f2ca5bc0474d83b757f70f85e8c5.jpg - GPU Memory Used: 8208.46 MB\n",
      "Saved result to ./results/result_202502_30_01226898390_1760f2ca5bc0474d83b757f70f85e8c5.jpg\n",
      "Processing 202502_30_01226897653_a24515f341224c568b5542b98682b7a4.jpg - Size: 1920 x 1080\n",
      "202502_30_01226897653_a24515f341224c568b5542b98682b7a4.jpg - Inference Time: 0.130 sec\n",
      "202502_30_01226897653_a24515f341224c568b5542b98682b7a4.jpg - Detected Masks: 1\n",
      "202502_30_01226897653_a24515f341224c568b5542b98682b7a4.jpg - Average Confidence Score: 0.3803\n",
      "202502_30_01226897653_a24515f341224c568b5542b98682b7a4.jpg - GPU Memory Used: 8208.46 MB\n",
      "Saved result to ./results/result_202502_30_01226897653_a24515f341224c568b5542b98682b7a4.jpg\n",
      "Processing 202502_30_01226894485_a0f794ad56d340a9af2d822cc6db270b.jpg - Size: 1920 x 1080\n",
      "202502_30_01226894485_a0f794ad56d340a9af2d822cc6db270b.jpg - Inference Time: 0.114 sec\n",
      "202502_30_01226894485_a0f794ad56d340a9af2d822cc6db270b.jpg - Detected Masks: 0\n",
      "202502_30_01226894485_a0f794ad56d340a9af2d822cc6db270b.jpg - Average Confidence Score: 0.0000\n",
      "202502_30_01226894485_a0f794ad56d340a9af2d822cc6db270b.jpg - GPU Memory Used: 8208.46 MB\n",
      "Saved result to ./results/result_202502_30_01226894485_a0f794ad56d340a9af2d822cc6db270b.jpg\n",
      "Processing 202502_30_01226897975_06cd2232ffd94a2aad7b7de8e08a5fbf.jpg - Size: 1920 x 1080\n",
      "202502_30_01226897975_06cd2232ffd94a2aad7b7de8e08a5fbf.jpg - Inference Time: 0.112 sec\n",
      "202502_30_01226897975_06cd2232ffd94a2aad7b7de8e08a5fbf.jpg - Detected Masks: 0\n",
      "202502_30_01226897975_06cd2232ffd94a2aad7b7de8e08a5fbf.jpg - Average Confidence Score: 0.0000\n",
      "202502_30_01226897975_06cd2232ffd94a2aad7b7de8e08a5fbf.jpg - GPU Memory Used: 8208.46 MB\n",
      "Saved result to ./results/result_202502_30_01226897975_06cd2232ffd94a2aad7b7de8e08a5fbf.jpg\n",
      "Processing 202502_30_01226894522_e8e01e83c21e40949c2cbc8741d3a1a1.jpg - Size: 1920 x 1080\n",
      "202502_30_01226894522_e8e01e83c21e40949c2cbc8741d3a1a1.jpg - Inference Time: 0.126 sec\n",
      "202502_30_01226894522_e8e01e83c21e40949c2cbc8741d3a1a1.jpg - Detected Masks: 2\n",
      "202502_30_01226894522_e8e01e83c21e40949c2cbc8741d3a1a1.jpg - Average Confidence Score: 0.3705\n",
      "202502_30_01226894522_e8e01e83c21e40949c2cbc8741d3a1a1.jpg - GPU Memory Used: 8208.46 MB\n",
      "Saved result to ./results/result_202502_30_01226894522_e8e01e83c21e40949c2cbc8741d3a1a1.jpg\n",
      "Processing 202502_30_01226888443_cad7f663aa044006953f5c99acbc1ad4.jpg - Size: 1920 x 1080\n",
      "202502_30_01226888443_cad7f663aa044006953f5c99acbc1ad4.jpg - Inference Time: 0.129 sec\n",
      "202502_30_01226888443_cad7f663aa044006953f5c99acbc1ad4.jpg - Detected Masks: 1\n",
      "202502_30_01226888443_cad7f663aa044006953f5c99acbc1ad4.jpg - Average Confidence Score: 0.3099\n",
      "202502_30_01226888443_cad7f663aa044006953f5c99acbc1ad4.jpg - GPU Memory Used: 8208.46 MB\n",
      "Saved result to ./results/result_202502_30_01226888443_cad7f663aa044006953f5c99acbc1ad4.jpg\n",
      "Processing 202502_30_01226897975_8c0d5fa141fc4eeb9d092b195be4d4a6.jpg - Size: 1920 x 1080\n",
      "202502_30_01226897975_8c0d5fa141fc4eeb9d092b195be4d4a6.jpg - Inference Time: 0.127 sec\n",
      "202502_30_01226897975_8c0d5fa141fc4eeb9d092b195be4d4a6.jpg - Detected Masks: 1\n",
      "202502_30_01226897975_8c0d5fa141fc4eeb9d092b195be4d4a6.jpg - Average Confidence Score: 0.4712\n",
      "202502_30_01226897975_8c0d5fa141fc4eeb9d092b195be4d4a6.jpg - GPU Memory Used: 8208.46 MB\n",
      "Saved result to ./results/result_202502_30_01226897975_8c0d5fa141fc4eeb9d092b195be4d4a6.jpg\n",
      "Processing 202502_30_01225815245_a37cc5b057de401eb46be6479e248b69.jpg - Size: 1920 x 1080\n",
      "202502_30_01225815245_a37cc5b057de401eb46be6479e248b69.jpg - Inference Time: 0.129 sec\n",
      "202502_30_01225815245_a37cc5b057de401eb46be6479e248b69.jpg - Detected Masks: 1\n",
      "202502_30_01225815245_a37cc5b057de401eb46be6479e248b69.jpg - Average Confidence Score: 0.5508\n",
      "202502_30_01225815245_a37cc5b057de401eb46be6479e248b69.jpg - GPU Memory Used: 8208.46 MB\n",
      "Saved result to ./results/result_202502_30_01225815245_a37cc5b057de401eb46be6479e248b69.jpg\n",
      "Processing 202502_30_01225815613_3152183eb67b4dd9aefd7e97b5d675a6.jpg - Size: 1920 x 1080\n",
      "202502_30_01225815613_3152183eb67b4dd9aefd7e97b5d675a6.jpg - Inference Time: 0.127 sec\n",
      "202502_30_01225815613_3152183eb67b4dd9aefd7e97b5d675a6.jpg - Detected Masks: 1\n",
      "202502_30_01225815613_3152183eb67b4dd9aefd7e97b5d675a6.jpg - Average Confidence Score: 0.3469\n",
      "202502_30_01225815613_3152183eb67b4dd9aefd7e97b5d675a6.jpg - GPU Memory Used: 8208.46 MB\n",
      "Saved result to ./results/result_202502_30_01225815613_3152183eb67b4dd9aefd7e97b5d675a6.jpg\n",
      "Processing 202502_30_01226897975_442c191cadbd46e4bab8ffa1bd9a3787.jpg - Size: 1920 x 1080\n",
      "202502_30_01226897975_442c191cadbd46e4bab8ffa1bd9a3787.jpg - Inference Time: 0.114 sec\n",
      "202502_30_01226897975_442c191cadbd46e4bab8ffa1bd9a3787.jpg - Detected Masks: 0\n",
      "202502_30_01226897975_442c191cadbd46e4bab8ffa1bd9a3787.jpg - Average Confidence Score: 0.0000\n",
      "202502_30_01226897975_442c191cadbd46e4bab8ffa1bd9a3787.jpg - GPU Memory Used: 8208.46 MB\n",
      "Saved result to ./results/result_202502_30_01226897975_442c191cadbd46e4bab8ffa1bd9a3787.jpg\n",
      "Processing 202502_30_01225814940_f9dc7b97e8164101a7e79c646712a619.jpg - Size: 1920 x 1080\n",
      "202502_30_01225814940_f9dc7b97e8164101a7e79c646712a619.jpg - Inference Time: 0.127 sec\n",
      "202502_30_01225814940_f9dc7b97e8164101a7e79c646712a619.jpg - Detected Masks: 1\n",
      "202502_30_01225814940_f9dc7b97e8164101a7e79c646712a619.jpg - Average Confidence Score: 0.3923\n",
      "202502_30_01225814940_f9dc7b97e8164101a7e79c646712a619.jpg - GPU Memory Used: 8208.46 MB\n",
      "Saved result to ./results/result_202502_30_01225814940_f9dc7b97e8164101a7e79c646712a619.jpg\n",
      "Processing 202502_30_01226897975_b6deb9280fa941259b9a47fc7e93f705.jpg - Size: 1920 x 1080\n",
      "202502_30_01226897975_b6deb9280fa941259b9a47fc7e93f705.jpg - Inference Time: 0.113 sec\n",
      "202502_30_01226897975_b6deb9280fa941259b9a47fc7e93f705.jpg - Detected Masks: 0\n",
      "202502_30_01226897975_b6deb9280fa941259b9a47fc7e93f705.jpg - Average Confidence Score: 0.0000\n",
      "202502_30_01226897975_b6deb9280fa941259b9a47fc7e93f705.jpg - GPU Memory Used: 8208.46 MB\n",
      "Saved result to ./results/result_202502_30_01226897975_b6deb9280fa941259b9a47fc7e93f705.jpg\n",
      "Processing 202502_30_01225814977_cf855435a98347c2b67681533e3ca1d3.jpg - Size: 1920 x 1080\n",
      "202502_30_01225814977_cf855435a98347c2b67681533e3ca1d3.jpg - Inference Time: 0.123 sec\n",
      "202502_30_01225814977_cf855435a98347c2b67681533e3ca1d3.jpg - Detected Masks: 1\n",
      "202502_30_01225814977_cf855435a98347c2b67681533e3ca1d3.jpg - Average Confidence Score: 0.5022\n",
      "202502_30_01225814977_cf855435a98347c2b67681533e3ca1d3.jpg - GPU Memory Used: 8208.46 MB\n",
      "Saved result to ./results/result_202502_30_01225814977_cf855435a98347c2b67681533e3ca1d3.jpg\n",
      "Processing 202502_30_01225815613_e6448610ca144a7aa6e95cfff3faa26d.jpg - Size: 1920 x 1080\n",
      "202502_30_01225815613_e6448610ca144a7aa6e95cfff3faa26d.jpg - Inference Time: 0.129 sec\n",
      "202502_30_01225815613_e6448610ca144a7aa6e95cfff3faa26d.jpg - Detected Masks: 1\n",
      "202502_30_01225815613_e6448610ca144a7aa6e95cfff3faa26d.jpg - Average Confidence Score: 0.3844\n",
      "202502_30_01225815613_e6448610ca144a7aa6e95cfff3faa26d.jpg - GPU Memory Used: 8208.46 MB\n",
      "Saved result to ./results/result_202502_30_01225815613_e6448610ca144a7aa6e95cfff3faa26d.jpg\n",
      "Processing 202502_30_01226893041_a4dc1c4c6ea4462ba2c86e8877c60d43.jpg - Size: 1920 x 1080\n",
      "202502_30_01226893041_a4dc1c4c6ea4462ba2c86e8877c60d43.jpg - Inference Time: 0.127 sec\n",
      "202502_30_01226893041_a4dc1c4c6ea4462ba2c86e8877c60d43.jpg - Detected Masks: 1\n",
      "202502_30_01226893041_a4dc1c4c6ea4462ba2c86e8877c60d43.jpg - Average Confidence Score: 0.3451\n",
      "202502_30_01226893041_a4dc1c4c6ea4462ba2c86e8877c60d43.jpg - GPU Memory Used: 8208.46 MB\n",
      "Saved result to ./results/result_202502_30_01226893041_a4dc1c4c6ea4462ba2c86e8877c60d43.jpg\n",
      "Processing 202502_30_01226896425_7be07b480da84362b396ccb51a9ae7a4.jpg - Size: 1920 x 1080\n",
      "202502_30_01226896425_7be07b480da84362b396ccb51a9ae7a4.jpg - Inference Time: 0.112 sec\n",
      "202502_30_01226896425_7be07b480da84362b396ccb51a9ae7a4.jpg - Detected Masks: 0\n",
      "202502_30_01226896425_7be07b480da84362b396ccb51a9ae7a4.jpg - Average Confidence Score: 0.0000\n",
      "202502_30_01226896425_7be07b480da84362b396ccb51a9ae7a4.jpg - GPU Memory Used: 8208.46 MB\n",
      "Saved result to ./results/result_202502_30_01226896425_7be07b480da84362b396ccb51a9ae7a4.jpg\n",
      "Processing 202502_30_01226898679_cde9a8b310ef47f6ac8ea9d50f07f31a.jpg - Size: 1920 x 1080\n",
      "202502_30_01226898679_cde9a8b310ef47f6ac8ea9d50f07f31a.jpg - Inference Time: 0.127 sec\n",
      "202502_30_01226898679_cde9a8b310ef47f6ac8ea9d50f07f31a.jpg - Detected Masks: 2\n",
      "202502_30_01226898679_cde9a8b310ef47f6ac8ea9d50f07f31a.jpg - Average Confidence Score: 0.3952\n",
      "202502_30_01226898679_cde9a8b310ef47f6ac8ea9d50f07f31a.jpg - GPU Memory Used: 8208.46 MB\n",
      "Saved result to ./results/result_202502_30_01226898679_cde9a8b310ef47f6ac8ea9d50f07f31a.jpg\n",
      "Processing 202502_30_01226897975_f00ebccedc2a42f5b19e2fefaf56b5f1.jpg - Size: 1920 x 1080\n",
      "202502_30_01226897975_f00ebccedc2a42f5b19e2fefaf56b5f1.jpg - Inference Time: 0.129 sec\n",
      "202502_30_01226897975_f00ebccedc2a42f5b19e2fefaf56b5f1.jpg - Detected Masks: 1\n",
      "202502_30_01226897975_f00ebccedc2a42f5b19e2fefaf56b5f1.jpg - Average Confidence Score: 0.3381\n",
      "202502_30_01226897975_f00ebccedc2a42f5b19e2fefaf56b5f1.jpg - GPU Memory Used: 8208.46 MB\n",
      "Saved result to ./results/result_202502_30_01226897975_f00ebccedc2a42f5b19e2fefaf56b5f1.jpg\n",
      "All images processed successfully!\n"
     ]
    }
   ],
   "source": [
    "import os\n",
    "import numpy as np\n",
    "import matplotlib.pyplot as plt\n",
    "import cv2\n",
    "import time\n",
    "import torch\n",
    "import logging\n",
    "from PIL import Image\n",
    "from lang_sam import LangSAM\n",
    "\n",
    "# 로깅 설정\n",
    "logging.basicConfig(level=logging.INFO, format=\"%(asctime)s [%(levelname)s] %(message)s\")\n",
    "log_messages = []  # 모든 로그를 저장할 리스트\n",
    "\n",
    "# GPU 사용 가능 여부 확인\n",
    "device = \"cuda\" if torch.cuda.is_available() else \"cpu\"\n",
    "log_messages.append(f\"Using device: {device}\")\n",
    "\n",
    "# 모델 로드\n",
    "model = LangSAM()\n",
    "\n",
    "# 입력 및 출력 폴더 설정\n",
    "input_folder = \"./assets\"\n",
    "output_folder = \"./results\"\n",
    "os.makedirs(output_folder, exist_ok=True)\n",
    "\n",
    "# 폴더 내 모든 이미지 파일 찾기\n",
    "image_files = [f for f in os.listdir(input_folder) if f.lower().endswith((\".jpg\", \".jpeg\", \".png\"))]\n",
    "log_messages.append(f\"Found {len(image_files)} images in {input_folder}\")\n",
    "\n",
    "# 텍스트 프롬프트 설정 (도로 균열 및 포트홀 탐지)\n",
    "text_prompts = [\"pothole\", \"manhole\"]\n",
    "\n",
    "# 모든 이미지 처리\n",
    "for image_file in image_files:\n",
    "    try:\n",
    "        image_path = os.path.join(input_folder, image_file)\n",
    "        image_pil = Image.open(image_path).convert(\"RGB\")\n",
    "        image_np = np.array(image_pil)  # PIL 이미지를 NumPy 배열로 변환\n",
    "\n",
    "        # 이미지 정보 출력\n",
    "        image_height, image_width = image_np.shape[:2]\n",
    "        log_messages.append(f\"Processing {image_file} - Size: {image_width} x {image_height}\")\n",
    "\n",
    "        # 추론 시작 (GPU 사용 시 동기화)\n",
    "        if device == \"cuda\":\n",
    "            torch.cuda.synchronize()\n",
    "\n",
    "        start_time = time.time()\n",
    "\n",
    "        # 🔹 각각의 프롬프트를 개별적으로 실행\n",
    "        results = []\n",
    "        for text_prompt in text_prompts:\n",
    "            result = model.predict([image_pil], [text_prompt])[0]\n",
    "            results.append((text_prompt, result))  # (프롬프트, 결과) 저장\n",
    "\n",
    "        if device == \"cuda\":\n",
    "            torch.cuda.synchronize()\n",
    "\n",
    "        end_time = time.time()\n",
    "        inference_time = end_time - start_time\n",
    "        log_messages.append(f\"{image_file} - Inference Time: {inference_time:.3f} sec\")\n",
    "\n",
    "        # 여러 개의 결과를 합치기 위해 빈 리스트 생성\n",
    "        all_boxes, all_masks, all_scores, all_labels = [], [], [], []\n",
    "\n",
    "        for text_prompt, result in results:\n",
    "            all_boxes.extend(result.get(\"boxes\", []))\n",
    "            all_masks.extend(result.get(\"masks\", []))\n",
    "            all_scores.extend(result.get(\"scores\", []))\n",
    "            all_labels.extend(result.get(\"labels\", []))\n",
    "\n",
    "        num_masks = len(all_masks)\n",
    "        avg_score = np.mean(all_scores) if len(all_scores) > 0 else 0\n",
    "\n",
    "        log_messages.append(f\"{image_file} - Detected Masks: {num_masks}\")\n",
    "        log_messages.append(f\"{image_file} - Average Confidence Score: {avg_score:.4f}\")\n",
    "\n",
    "        # GPU 메모리 사용량 확인\n",
    "        if device == \"cuda\":\n",
    "            gpu_memory = torch.cuda.memory_allocated() / (1024 ** 2)  # MB 단위\n",
    "            log_messages.append(f\"{image_file} - GPU Memory Used: {gpu_memory:.2f} MB\")\n",
    "\n",
    "        # 박스와 마스크를 원본 이미지에 표시\n",
    "        overlay = image_np.copy()\n",
    "\n",
    "        for i, (box, mask, score, label) in enumerate(zip(all_boxes, all_masks, all_scores, all_labels)):\n",
    "            if score < 0.5:  # 신뢰도 낮은 박스는 무시\n",
    "                continue\n",
    "\n",
    "            # Bounding Box 좌표\n",
    "            x1, y1, x2, y2 = map(int, box)\n",
    "\n",
    "            # 박스 그리기\n",
    "            cv2.rectangle(overlay, (x1, y1), (x2, y2), (0, 255, 0), 3)  # 초록색 박스\n",
    "\n",
    "            # 마스크 그리기\n",
    "            mask = (mask > 0.5).astype(np.uint8) * 255  # 이진화\n",
    "            overlay[mask > 0] = (0, 0, 255)  # 빨간색 마스크\n",
    "\n",
    "            # 라벨 텍스트 추가\n",
    "            cv2.putText(\n",
    "                overlay, f\"{label} {score:.2f}\", (x1, y1 - 10),\n",
    "                cv2.FONT_HERSHEY_SIMPLEX, 0.8, (255, 255, 255), 2\n",
    "            )\n",
    "\n",
    "        # 결과 저장\n",
    "        output_path = os.path.join(output_folder, f\"result_{image_file}\")\n",
    "        cv2.imwrite(output_path, cv2.cvtColor(overlay, cv2.COLOR_RGB2BGR))\n",
    "        log_messages.append(f\"Saved result to {output_path}\")\n",
    "\n",
    "        # GPU 메모리 정리\n",
    "        if device == \"cuda\":\n",
    "            torch.cuda.empty_cache()\n",
    "\n",
    "    except Exception as e:\n",
    "        log_messages.append(f\"Error processing {image_file}: {str(e)}\")\n",
    "\n",
    "log_messages.append(\"All images processed successfully!\")\n",
    "\n",
    "# 최종 결과 프린트\n",
    "print(\"\\n\".join(log_messages))\n"
   ]
  },
  {
   "cell_type": "markdown",
   "metadata": {},
   "source": [
    "이미지 양 옆 붙이기기"
   ]
  },
  {
   "cell_type": "code",
   "execution_count": 7,
   "metadata": {},
   "outputs": [
    {
     "name": "stderr",
     "output_type": "stream",
     "text": [
      "2025-02-13 10:14:42,631 [INFO] Computing image embeddings for the provided images...\n",
      "2025-02-13 10:14:42,639 [INFO] Image embeddings computed.\n",
      "2025-02-13 10:14:42,769 [INFO] Computing image embeddings for the provided images...\n",
      "2025-02-13 10:14:42,774 [INFO] Image embeddings computed.\n"
     ]
    },
    {
     "name": "stdout",
     "output_type": "stream",
     "text": [
      "Predicting 1 masks\n",
      "Predicted 1 masks\n",
      "Predicting 1 masks\n",
      "Predicted 1 masks\n"
     ]
    },
    {
     "name": "stderr",
     "output_type": "stream",
     "text": [
      "2025-02-13 10:14:42,899 [INFO] Computing image embeddings for the provided images...\n",
      "2025-02-13 10:14:42,904 [INFO] Image embeddings computed.\n",
      "2025-02-13 10:14:43,034 [INFO] Computing image embeddings for the provided images...\n",
      "2025-02-13 10:14:43,039 [INFO] Image embeddings computed.\n"
     ]
    },
    {
     "name": "stdout",
     "output_type": "stream",
     "text": [
      "Predicting 1 masks\n",
      "Predicted 1 masks\n",
      "Predicting 1 masks\n",
      "Predicted 1 masks\n"
     ]
    },
    {
     "name": "stderr",
     "output_type": "stream",
     "text": [
      "2025-02-13 10:14:43,172 [INFO] Computing image embeddings for the provided images...\n",
      "2025-02-13 10:14:43,177 [INFO] Image embeddings computed.\n"
     ]
    },
    {
     "name": "stdout",
     "output_type": "stream",
     "text": [
      "Predicting 1 masks\n",
      "Predicted 1 masks\n"
     ]
    },
    {
     "name": "stderr",
     "output_type": "stream",
     "text": [
      "2025-02-13 10:14:43,408 [INFO] Computing image embeddings for the provided images...\n",
      "2025-02-13 10:14:43,413 [INFO] Image embeddings computed.\n",
      "2025-02-13 10:14:43,549 [INFO] Computing image embeddings for the provided images...\n",
      "2025-02-13 10:14:43,554 [INFO] Image embeddings computed.\n"
     ]
    },
    {
     "name": "stdout",
     "output_type": "stream",
     "text": [
      "Predicting 1 masks\n",
      "Predicted 1 masks\n",
      "Predicting 1 masks\n",
      "Predicted 1 masks\n"
     ]
    },
    {
     "name": "stderr",
     "output_type": "stream",
     "text": [
      "2025-02-13 10:14:43,682 [INFO] Computing image embeddings for the provided images...\n",
      "2025-02-13 10:14:43,687 [INFO] Image embeddings computed.\n",
      "2025-02-13 10:14:43,818 [INFO] Computing image embeddings for the provided images...\n",
      "2025-02-13 10:14:43,823 [INFO] Image embeddings computed.\n"
     ]
    },
    {
     "name": "stdout",
     "output_type": "stream",
     "text": [
      "Predicting 1 masks\n",
      "Predicted 1 masks\n",
      "Predicting 1 masks\n",
      "Predicted 1 masks\n"
     ]
    },
    {
     "name": "stderr",
     "output_type": "stream",
     "text": [
      "2025-02-13 10:14:44,142 [INFO] Computing image embeddings for the provided images...\n",
      "2025-02-13 10:14:44,147 [INFO] Image embeddings computed.\n",
      "2025-02-13 10:14:44,268 [INFO] Computing image embeddings for the provided images...\n",
      "2025-02-13 10:14:44,273 [INFO] Image embeddings computed.\n"
     ]
    },
    {
     "name": "stdout",
     "output_type": "stream",
     "text": [
      "Predicting 1 masks\n",
      "Predicted 1 masks\n",
      "Predicting 1 masks\n",
      "Predicted 1 masks\n"
     ]
    },
    {
     "name": "stderr",
     "output_type": "stream",
     "text": [
      "2025-02-13 10:14:44,399 [INFO] Computing image embeddings for the provided images...\n",
      "2025-02-13 10:14:44,404 [INFO] Image embeddings computed.\n",
      "2025-02-13 10:14:44,540 [INFO] Computing image embeddings for the provided images...\n",
      "2025-02-13 10:14:44,546 [INFO] Image embeddings computed.\n"
     ]
    },
    {
     "name": "stdout",
     "output_type": "stream",
     "text": [
      "Predicting 1 masks\n",
      "Predicted 1 masks\n",
      "Predicting 1 masks\n",
      "Predicted 1 masks\n"
     ]
    },
    {
     "name": "stderr",
     "output_type": "stream",
     "text": [
      "2025-02-13 10:14:44,687 [INFO] Computing image embeddings for the provided images...\n",
      "2025-02-13 10:14:44,692 [INFO] Image embeddings computed.\n",
      "2025-02-13 10:14:44,851 [INFO] Computing image embeddings for the provided images...\n",
      "2025-02-13 10:14:44,856 [INFO] Image embeddings computed.\n"
     ]
    },
    {
     "name": "stdout",
     "output_type": "stream",
     "text": [
      "Predicting 1 masks\n",
      "Predicted 1 masks\n",
      "Predicting 1 masks\n",
      "Predicted 1 masks\n"
     ]
    },
    {
     "name": "stderr",
     "output_type": "stream",
     "text": [
      "2025-02-13 10:14:44,952 [INFO] Computing image embeddings for the provided images...\n",
      "2025-02-13 10:14:44,957 [INFO] Image embeddings computed.\n",
      "2025-02-13 10:14:45,051 [INFO] Computing image embeddings for the provided images...\n",
      "2025-02-13 10:14:45,057 [INFO] Image embeddings computed.\n"
     ]
    },
    {
     "name": "stdout",
     "output_type": "stream",
     "text": [
      "Predicting 1 masks\n",
      "Predicted 1 masks\n",
      "Predicting 1 masks\n",
      "Predicted 1 masks\n"
     ]
    },
    {
     "name": "stderr",
     "output_type": "stream",
     "text": [
      "2025-02-13 10:14:45,229 [INFO] Computing image embeddings for the provided images...\n",
      "2025-02-13 10:14:45,234 [INFO] Image embeddings computed.\n"
     ]
    },
    {
     "name": "stdout",
     "output_type": "stream",
     "text": [
      "Predicting 1 masks\n",
      "Predicted 1 masks\n"
     ]
    },
    {
     "name": "stderr",
     "output_type": "stream",
     "text": [
      "2025-02-13 10:14:45,459 [INFO] Computing image embeddings for the provided images...\n",
      "2025-02-13 10:14:45,464 [INFO] Image embeddings computed.\n",
      "2025-02-13 10:14:45,574 [INFO] Computing image embeddings for the provided images...\n",
      "2025-02-13 10:14:45,579 [INFO] Image embeddings computed.\n"
     ]
    },
    {
     "name": "stdout",
     "output_type": "stream",
     "text": [
      "Predicting 1 masks\n",
      "Predicted 1 masks\n",
      "Predicting 1 masks\n",
      "Predicted 1 masks\n"
     ]
    },
    {
     "name": "stderr",
     "output_type": "stream",
     "text": [
      "2025-02-13 10:14:45,937 [INFO] Computing image embeddings for the provided images...\n",
      "2025-02-13 10:14:45,942 [INFO] Image embeddings computed.\n",
      "2025-02-13 10:14:46,074 [INFO] Computing image embeddings for the provided images...\n",
      "2025-02-13 10:14:46,079 [INFO] Image embeddings computed.\n"
     ]
    },
    {
     "name": "stdout",
     "output_type": "stream",
     "text": [
      "Predicting 1 masks\n",
      "Predicted 1 masks\n",
      "Predicting 1 masks\n",
      "Predicted 1 masks\n"
     ]
    },
    {
     "name": "stderr",
     "output_type": "stream",
     "text": [
      "2025-02-13 10:14:46,207 [INFO] Computing image embeddings for the provided images...\n",
      "2025-02-13 10:14:46,212 [INFO] Image embeddings computed.\n"
     ]
    },
    {
     "name": "stdout",
     "output_type": "stream",
     "text": [
      "Predicting 1 masks\n",
      "Predicted 1 masks\n"
     ]
    },
    {
     "name": "stderr",
     "output_type": "stream",
     "text": [
      "2025-02-13 10:14:46,473 [INFO] Computing image embeddings for the provided images...\n",
      "2025-02-13 10:14:46,477 [INFO] Image embeddings computed.\n",
      "2025-02-13 10:14:46,662 [INFO] Computing image embeddings for the provided images...\n",
      "2025-02-13 10:14:46,667 [INFO] Image embeddings computed.\n"
     ]
    },
    {
     "name": "stdout",
     "output_type": "stream",
     "text": [
      "Predicting 1 masks\n",
      "Predicted 1 masks\n",
      "Predicting 1 masks\n"
     ]
    },
    {
     "name": "stderr",
     "output_type": "stream",
     "text": [
      "2025-02-13 10:14:46,795 [INFO] Computing image embeddings for the provided images...\n",
      "2025-02-13 10:14:46,801 [INFO] Image embeddings computed.\n"
     ]
    },
    {
     "name": "stdout",
     "output_type": "stream",
     "text": [
      "Predicted 1 masks\n",
      "Predicting 1 masks\n",
      "Predicted 1 masks\n"
     ]
    },
    {
     "name": "stderr",
     "output_type": "stream",
     "text": [
      "2025-02-13 10:14:46,928 [INFO] Computing image embeddings for the provided images...\n",
      "2025-02-13 10:14:46,933 [INFO] Image embeddings computed.\n",
      "2025-02-13 10:14:47,060 [INFO] Computing image embeddings for the provided images...\n",
      "2025-02-13 10:14:47,065 [INFO] Image embeddings computed.\n"
     ]
    },
    {
     "name": "stdout",
     "output_type": "stream",
     "text": [
      "Predicting 1 masks\n",
      "Predicted 1 masks\n",
      "Predicting 1 masks\n",
      "Predicted 1 masks\n"
     ]
    },
    {
     "name": "stderr",
     "output_type": "stream",
     "text": [
      "2025-02-13 10:14:47,202 [INFO] Computing image embeddings for the provided images...\n",
      "2025-02-13 10:14:47,207 [INFO] Image embeddings computed.\n",
      "2025-02-13 10:14:47,399 [INFO] Computing image embeddings for the provided images...\n"
     ]
    },
    {
     "name": "stdout",
     "output_type": "stream",
     "text": [
      "Predicting 1 masks\n",
      "Predicted 1 masks\n",
      "Predicting 1 masks\n"
     ]
    },
    {
     "name": "stderr",
     "output_type": "stream",
     "text": [
      "2025-02-13 10:14:47,404 [INFO] Image embeddings computed.\n",
      "2025-02-13 10:14:47,529 [INFO] Computing image embeddings for the provided images...\n",
      "2025-02-13 10:14:47,534 [INFO] Image embeddings computed.\n"
     ]
    },
    {
     "name": "stdout",
     "output_type": "stream",
     "text": [
      "Predicted 1 masks\n",
      "Predicting 1 masks\n",
      "Predicted 1 masks\n"
     ]
    },
    {
     "name": "stderr",
     "output_type": "stream",
     "text": [
      "2025-02-13 10:14:47,663 [INFO] Computing image embeddings for the provided images...\n",
      "2025-02-13 10:14:47,668 [INFO] Image embeddings computed.\n",
      "2025-02-13 10:14:47,796 [INFO] Computing image embeddings for the provided images...\n",
      "2025-02-13 10:14:47,801 [INFO] Image embeddings computed.\n"
     ]
    },
    {
     "name": "stdout",
     "output_type": "stream",
     "text": [
      "Predicting 1 masks\n",
      "Predicted 1 masks\n",
      "Predicting 1 masks\n",
      "Predicted 1 masks\n"
     ]
    },
    {
     "name": "stderr",
     "output_type": "stream",
     "text": [
      "2025-02-13 10:14:47,932 [INFO] Computing image embeddings for the provided images...\n",
      "2025-02-13 10:14:47,937 [INFO] Image embeddings computed.\n",
      "2025-02-13 10:14:48,125 [INFO] Computing image embeddings for the provided images...\n"
     ]
    },
    {
     "name": "stdout",
     "output_type": "stream",
     "text": [
      "Predicting 1 masks\n",
      "Predicted 1 masks\n",
      "Predicting 1 masks\n"
     ]
    },
    {
     "name": "stderr",
     "output_type": "stream",
     "text": [
      "2025-02-13 10:14:48,130 [INFO] Image embeddings computed.\n",
      "2025-02-13 10:14:48,258 [INFO] Computing image embeddings for the provided images...\n",
      "2025-02-13 10:14:48,263 [INFO] Image embeddings computed.\n"
     ]
    },
    {
     "name": "stdout",
     "output_type": "stream",
     "text": [
      "Predicted 1 masks\n",
      "Predicting 1 masks\n",
      "Predicted 1 masks\n"
     ]
    },
    {
     "name": "stderr",
     "output_type": "stream",
     "text": [
      "2025-02-13 10:14:48,396 [INFO] Computing image embeddings for the provided images...\n",
      "2025-02-13 10:14:48,401 [INFO] Image embeddings computed.\n",
      "2025-02-13 10:14:48,531 [INFO] Computing image embeddings for the provided images...\n",
      "2025-02-13 10:14:48,536 [INFO] Image embeddings computed.\n"
     ]
    },
    {
     "name": "stdout",
     "output_type": "stream",
     "text": [
      "Predicting 1 masks\n",
      "Predicted 1 masks\n",
      "Predicting 1 masks\n",
      "Predicted 1 masks\n"
     ]
    },
    {
     "name": "stderr",
     "output_type": "stream",
     "text": [
      "2025-02-13 10:14:48,667 [INFO] Computing image embeddings for the provided images...\n",
      "2025-02-13 10:14:48,672 [INFO] Image embeddings computed.\n",
      "2025-02-13 10:14:48,862 [INFO] Computing image embeddings for the provided images...\n"
     ]
    },
    {
     "name": "stdout",
     "output_type": "stream",
     "text": [
      "Predicting 1 masks\n",
      "Predicted 1 masks\n",
      "Predicting 1 masks\n"
     ]
    },
    {
     "name": "stderr",
     "output_type": "stream",
     "text": [
      "2025-02-13 10:14:48,867 [INFO] Image embeddings computed.\n",
      "2025-02-13 10:14:48,993 [INFO] Computing image embeddings for the provided images...\n",
      "2025-02-13 10:14:48,998 [INFO] Image embeddings computed.\n"
     ]
    },
    {
     "name": "stdout",
     "output_type": "stream",
     "text": [
      "Predicted 1 masks\n",
      "Predicting 1 masks\n",
      "Predicted 1 masks\n"
     ]
    },
    {
     "name": "stderr",
     "output_type": "stream",
     "text": [
      "2025-02-13 10:14:49,123 [INFO] Computing image embeddings for the provided images...\n",
      "2025-02-13 10:14:49,128 [INFO] Image embeddings computed.\n",
      "2025-02-13 10:14:49,258 [INFO] Computing image embeddings for the provided images...\n",
      "2025-02-13 10:14:49,263 [INFO] Image embeddings computed.\n"
     ]
    },
    {
     "name": "stdout",
     "output_type": "stream",
     "text": [
      "Predicting 1 masks\n",
      "Predicted 1 masks\n",
      "Predicting 1 masks\n",
      "Predicted 1 masks\n"
     ]
    },
    {
     "name": "stderr",
     "output_type": "stream",
     "text": [
      "2025-02-13 10:14:49,404 [INFO] Computing image embeddings for the provided images...\n",
      "2025-02-13 10:14:49,409 [INFO] Image embeddings computed.\n"
     ]
    },
    {
     "name": "stdout",
     "output_type": "stream",
     "text": [
      "Predicting 1 masks\n",
      "Predicted 1 masks\n"
     ]
    },
    {
     "name": "stderr",
     "output_type": "stream",
     "text": [
      "2025-02-13 10:14:49,606 [INFO] Computing image embeddings for the provided images...\n",
      "2025-02-13 10:14:49,611 [INFO] Image embeddings computed.\n",
      "2025-02-13 10:14:49,742 [INFO] Computing image embeddings for the provided images...\n",
      "2025-02-13 10:14:49,746 [INFO] Image embeddings computed.\n"
     ]
    },
    {
     "name": "stdout",
     "output_type": "stream",
     "text": [
      "Predicting 1 masks\n",
      "Predicted 1 masks\n",
      "Predicting 1 masks\n",
      "Predicted 1 masks\n"
     ]
    },
    {
     "name": "stderr",
     "output_type": "stream",
     "text": [
      "2025-02-13 10:14:49,877 [INFO] Computing image embeddings for the provided images...\n",
      "2025-02-13 10:14:49,882 [INFO] Image embeddings computed.\n"
     ]
    },
    {
     "name": "stdout",
     "output_type": "stream",
     "text": [
      "Predicting 1 masks\n",
      "Predicted 1 masks\n"
     ]
    },
    {
     "name": "stderr",
     "output_type": "stream",
     "text": [
      "2025-02-13 10:14:50,130 [INFO] Computing image embeddings for the provided images...\n",
      "2025-02-13 10:14:50,135 [INFO] Image embeddings computed.\n"
     ]
    },
    {
     "name": "stdout",
     "output_type": "stream",
     "text": [
      "Predicting 1 masks\n",
      "Predicted 1 masks\n"
     ]
    },
    {
     "name": "stderr",
     "output_type": "stream",
     "text": [
      "2025-02-13 10:14:50,441 [INFO] Computing image embeddings for the provided images...\n",
      "2025-02-13 10:14:50,446 [INFO] Image embeddings computed.\n",
      "2025-02-13 10:14:50,578 [INFO] Computing image embeddings for the provided images...\n",
      "2025-02-13 10:14:50,583 [INFO] Image embeddings computed.\n"
     ]
    },
    {
     "name": "stdout",
     "output_type": "stream",
     "text": [
      "Predicting 1 masks\n",
      "Predicted 1 masks\n",
      "Predicting 1 masks\n",
      "Predicted 1 masks\n"
     ]
    },
    {
     "name": "stderr",
     "output_type": "stream",
     "text": [
      "2025-02-13 10:14:50,718 [INFO] Computing image embeddings for the provided images...\n",
      "2025-02-13 10:14:50,723 [INFO] Image embeddings computed.\n",
      "2025-02-13 10:14:50,857 [INFO] Computing image embeddings for the provided images...\n",
      "2025-02-13 10:14:50,862 [INFO] Image embeddings computed.\n"
     ]
    },
    {
     "name": "stdout",
     "output_type": "stream",
     "text": [
      "Predicting 1 masks\n",
      "Predicted 1 masks\n",
      "Predicting 1 masks\n",
      "Predicted 1 masks\n"
     ]
    },
    {
     "name": "stderr",
     "output_type": "stream",
     "text": [
      "2025-02-13 10:14:51,058 [INFO] Computing image embeddings for the provided images...\n",
      "2025-02-13 10:14:51,063 [INFO] Image embeddings computed.\n",
      "2025-02-13 10:14:51,191 [INFO] Computing image embeddings for the provided images...\n",
      "2025-02-13 10:14:51,196 [INFO] Image embeddings computed.\n"
     ]
    },
    {
     "name": "stdout",
     "output_type": "stream",
     "text": [
      "Predicting 1 masks\n",
      "Predicted 1 masks\n",
      "Predicting 1 masks\n",
      "Predicted 1 masks\n"
     ]
    },
    {
     "name": "stderr",
     "output_type": "stream",
     "text": [
      "2025-02-13 10:14:51,326 [INFO] Computing image embeddings for the provided images...\n",
      "2025-02-13 10:14:51,331 [INFO] Image embeddings computed.\n",
      "2025-02-13 10:14:51,459 [INFO] Computing image embeddings for the provided images...\n",
      "2025-02-13 10:14:51,464 [INFO] Image embeddings computed.\n"
     ]
    },
    {
     "name": "stdout",
     "output_type": "stream",
     "text": [
      "Predicting 1 masks\n",
      "Predicted 1 masks\n",
      "Predicting 1 masks\n",
      "Predicted 1 masks\n"
     ]
    },
    {
     "name": "stderr",
     "output_type": "stream",
     "text": [
      "2025-02-13 10:14:51,593 [INFO] Computing image embeddings for the provided images...\n",
      "2025-02-13 10:14:51,598 [INFO] Image embeddings computed.\n"
     ]
    },
    {
     "name": "stdout",
     "output_type": "stream",
     "text": [
      "Predicting 1 masks\n",
      "Predicted 1 masks\n"
     ]
    },
    {
     "name": "stderr",
     "output_type": "stream",
     "text": [
      "2025-02-13 10:14:51,794 [INFO] Computing image embeddings for the provided images...\n",
      "2025-02-13 10:14:51,799 [INFO] Image embeddings computed.\n",
      "2025-02-13 10:14:51,927 [INFO] Computing image embeddings for the provided images...\n",
      "2025-02-13 10:14:51,932 [INFO] Image embeddings computed.\n"
     ]
    },
    {
     "name": "stdout",
     "output_type": "stream",
     "text": [
      "Predicting 1 masks\n",
      "Predicted 1 masks\n",
      "Predicting 1 masks\n",
      "Predicted 1 masks\n"
     ]
    },
    {
     "name": "stderr",
     "output_type": "stream",
     "text": [
      "2025-02-13 10:14:52,061 [INFO] Computing image embeddings for the provided images...\n",
      "2025-02-13 10:14:52,066 [INFO] Image embeddings computed.\n",
      "2025-02-13 10:14:52,196 [INFO] Computing image embeddings for the provided images...\n",
      "2025-02-13 10:14:52,201 [INFO] Image embeddings computed.\n"
     ]
    },
    {
     "name": "stdout",
     "output_type": "stream",
     "text": [
      "Predicting 1 masks\n",
      "Predicted 1 masks\n",
      "Predicting 1 masks\n",
      "Predicted 1 masks\n"
     ]
    },
    {
     "name": "stderr",
     "output_type": "stream",
     "text": [
      "2025-02-13 10:14:52,333 [INFO] Computing image embeddings for the provided images...\n",
      "2025-02-13 10:14:52,339 [INFO] Image embeddings computed.\n",
      "2025-02-13 10:14:52,529 [INFO] Computing image embeddings for the provided images...\n"
     ]
    },
    {
     "name": "stdout",
     "output_type": "stream",
     "text": [
      "Predicting 1 masks\n",
      "Predicted 1 masks\n",
      "Predicting 1 masks\n"
     ]
    },
    {
     "name": "stderr",
     "output_type": "stream",
     "text": [
      "2025-02-13 10:14:52,534 [INFO] Image embeddings computed.\n",
      "2025-02-13 10:14:52,657 [INFO] Computing image embeddings for the provided images...\n",
      "2025-02-13 10:14:52,662 [INFO] Image embeddings computed.\n"
     ]
    },
    {
     "name": "stdout",
     "output_type": "stream",
     "text": [
      "Predicted 1 masks\n",
      "Predicting 1 masks\n",
      "Predicted 1 masks\n"
     ]
    },
    {
     "name": "stderr",
     "output_type": "stream",
     "text": [
      "2025-02-13 10:14:52,795 [INFO] Computing image embeddings for the provided images...\n",
      "2025-02-13 10:14:52,800 [INFO] Image embeddings computed.\n",
      "2025-02-13 10:14:52,939 [INFO] Computing image embeddings for the provided images...\n",
      "2025-02-13 10:14:52,944 [INFO] Image embeddings computed.\n"
     ]
    },
    {
     "name": "stdout",
     "output_type": "stream",
     "text": [
      "Predicting 1 masks\n",
      "Predicted 1 masks\n",
      "Predicting 1 masks\n",
      "Predicted 1 masks\n"
     ]
    },
    {
     "name": "stderr",
     "output_type": "stream",
     "text": [
      "2025-02-13 10:14:53,080 [INFO] Computing image embeddings for the provided images...\n",
      "2025-02-13 10:14:53,085 [INFO] Image embeddings computed.\n"
     ]
    },
    {
     "name": "stdout",
     "output_type": "stream",
     "text": [
      "Predicting 1 masks\n",
      "Predicted 1 masks\n"
     ]
    },
    {
     "name": "stderr",
     "output_type": "stream",
     "text": [
      "2025-02-13 10:14:53,283 [INFO] Computing image embeddings for the provided images...\n",
      "2025-02-13 10:14:53,288 [INFO] Image embeddings computed.\n",
      "2025-02-13 10:14:53,410 [INFO] Computing image embeddings for the provided images...\n",
      "2025-02-13 10:14:53,416 [INFO] Image embeddings computed.\n"
     ]
    },
    {
     "name": "stdout",
     "output_type": "stream",
     "text": [
      "Predicting 1 masks\n",
      "Predicted 1 masks\n",
      "Predicting 1 masks\n",
      "Predicted 1 masks\n"
     ]
    },
    {
     "name": "stderr",
     "output_type": "stream",
     "text": [
      "2025-02-13 10:14:53,542 [INFO] Computing image embeddings for the provided images...\n",
      "2025-02-13 10:14:53,548 [INFO] Image embeddings computed.\n",
      "2025-02-13 10:14:53,688 [INFO] Computing image embeddings for the provided images...\n",
      "2025-02-13 10:14:53,693 [INFO] Image embeddings computed.\n"
     ]
    },
    {
     "name": "stdout",
     "output_type": "stream",
     "text": [
      "Predicting 1 masks\n",
      "Predicted 1 masks\n",
      "Predicting 1 masks\n",
      "Predicted 1 masks\n"
     ]
    },
    {
     "name": "stderr",
     "output_type": "stream",
     "text": [
      "2025-02-13 10:14:53,839 [INFO] Computing image embeddings for the provided images...\n",
      "2025-02-13 10:14:53,845 [INFO] Image embeddings computed.\n"
     ]
    },
    {
     "name": "stdout",
     "output_type": "stream",
     "text": [
      "Predicting 1 masks\n",
      "Predicted 1 masks\n"
     ]
    },
    {
     "name": "stderr",
     "output_type": "stream",
     "text": [
      "2025-02-13 10:14:54,044 [INFO] Computing image embeddings for the provided images...\n",
      "2025-02-13 10:14:54,050 [INFO] Image embeddings computed.\n",
      "2025-02-13 10:14:54,175 [INFO] Computing image embeddings for the provided images...\n",
      "2025-02-13 10:14:54,180 [INFO] Image embeddings computed.\n"
     ]
    },
    {
     "name": "stdout",
     "output_type": "stream",
     "text": [
      "Predicting 1 masks\n",
      "Predicted 1 masks\n",
      "Predicting 1 masks\n",
      "Predicted 1 masks\n"
     ]
    },
    {
     "name": "stderr",
     "output_type": "stream",
     "text": [
      "2025-02-13 10:14:54,309 [INFO] Computing image embeddings for the provided images...\n",
      "2025-02-13 10:14:54,315 [INFO] Image embeddings computed.\n",
      "2025-02-13 10:14:54,442 [INFO] Computing image embeddings for the provided images...\n",
      "2025-02-13 10:14:54,447 [INFO] Image embeddings computed.\n"
     ]
    },
    {
     "name": "stdout",
     "output_type": "stream",
     "text": [
      "Predicting 1 masks\n",
      "Predicted 1 masks\n",
      "Predicting 1 masks\n",
      "Predicted 1 masks\n"
     ]
    },
    {
     "name": "stderr",
     "output_type": "stream",
     "text": [
      "2025-02-13 10:14:54,578 [INFO] Computing image embeddings for the provided images...\n",
      "2025-02-13 10:14:54,583 [INFO] Image embeddings computed.\n",
      "2025-02-13 10:14:54,773 [INFO] Computing image embeddings for the provided images...\n"
     ]
    },
    {
     "name": "stdout",
     "output_type": "stream",
     "text": [
      "Predicting 1 masks\n",
      "Predicted 1 masks\n",
      "Predicting 1 masks\n"
     ]
    },
    {
     "name": "stderr",
     "output_type": "stream",
     "text": [
      "2025-02-13 10:14:54,779 [INFO] Image embeddings computed.\n",
      "2025-02-13 10:14:54,905 [INFO] Computing image embeddings for the provided images...\n",
      "2025-02-13 10:14:54,910 [INFO] Image embeddings computed.\n"
     ]
    },
    {
     "name": "stdout",
     "output_type": "stream",
     "text": [
      "Predicted 1 masks\n",
      "Predicting 1 masks\n",
      "Predicted 1 masks\n"
     ]
    },
    {
     "name": "stderr",
     "output_type": "stream",
     "text": [
      "2025-02-13 10:14:55,034 [INFO] Computing image embeddings for the provided images...\n",
      "2025-02-13 10:14:55,040 [INFO] Image embeddings computed.\n",
      "2025-02-13 10:14:55,178 [INFO] Computing image embeddings for the provided images...\n",
      "2025-02-13 10:14:55,184 [INFO] Image embeddings computed.\n"
     ]
    },
    {
     "name": "stdout",
     "output_type": "stream",
     "text": [
      "Predicting 1 masks\n",
      "Predicted 1 masks\n",
      "Predicting 1 masks\n",
      "Predicted 1 masks\n"
     ]
    },
    {
     "name": "stderr",
     "output_type": "stream",
     "text": [
      "2025-02-13 10:14:55,315 [INFO] Computing image embeddings for the provided images...\n",
      "2025-02-13 10:14:55,320 [INFO] Image embeddings computed.\n",
      "2025-02-13 10:14:55,511 [INFO] Computing image embeddings for the provided images...\n"
     ]
    },
    {
     "name": "stdout",
     "output_type": "stream",
     "text": [
      "Predicting 1 masks\n",
      "Predicted 1 masks\n",
      "Predicting 1 masks\n"
     ]
    },
    {
     "name": "stderr",
     "output_type": "stream",
     "text": [
      "2025-02-13 10:14:55,516 [INFO] Image embeddings computed.\n",
      "2025-02-13 10:14:55,642 [INFO] Computing image embeddings for the provided images...\n",
      "2025-02-13 10:14:55,647 [INFO] Image embeddings computed.\n"
     ]
    },
    {
     "name": "stdout",
     "output_type": "stream",
     "text": [
      "Predicted 1 masks\n",
      "Predicting 1 masks\n",
      "Predicted 1 masks\n"
     ]
    },
    {
     "name": "stderr",
     "output_type": "stream",
     "text": [
      "2025-02-13 10:14:55,777 [INFO] Computing image embeddings for the provided images...\n",
      "2025-02-13 10:14:55,783 [INFO] Image embeddings computed.\n",
      "2025-02-13 10:14:55,914 [INFO] Computing image embeddings for the provided images...\n",
      "2025-02-13 10:14:55,920 [INFO] Image embeddings computed.\n"
     ]
    },
    {
     "name": "stdout",
     "output_type": "stream",
     "text": [
      "Predicting 1 masks\n",
      "Predicted 1 masks\n",
      "Predicting 1 masks\n",
      "Predicted 1 masks\n"
     ]
    },
    {
     "name": "stderr",
     "output_type": "stream",
     "text": [
      "2025-02-13 10:14:56,056 [INFO] Computing image embeddings for the provided images...\n",
      "2025-02-13 10:14:56,061 [INFO] Image embeddings computed.\n"
     ]
    },
    {
     "name": "stdout",
     "output_type": "stream",
     "text": [
      "Predicting 1 masks\n",
      "Predicted 1 masks\n",
      "Predicting 1 masks\n"
     ]
    },
    {
     "name": "stderr",
     "output_type": "stream",
     "text": [
      "2025-02-13 10:14:56,254 [INFO] Computing image embeddings for the provided images...\n",
      "2025-02-13 10:14:56,259 [INFO] Image embeddings computed.\n",
      "2025-02-13 10:14:56,383 [INFO] Computing image embeddings for the provided images...\n",
      "2025-02-13 10:14:56,388 [INFO] Image embeddings computed.\n"
     ]
    },
    {
     "name": "stdout",
     "output_type": "stream",
     "text": [
      "Predicted 1 masks\n",
      "Predicting 1 masks\n",
      "Predicted 1 masks\n"
     ]
    },
    {
     "name": "stderr",
     "output_type": "stream",
     "text": [
      "2025-02-13 10:14:56,515 [INFO] Computing image embeddings for the provided images...\n",
      "2025-02-13 10:14:56,520 [INFO] Image embeddings computed.\n",
      "2025-02-13 10:14:56,661 [INFO] Computing image embeddings for the provided images...\n",
      "2025-02-13 10:14:56,667 [INFO] Image embeddings computed.\n"
     ]
    },
    {
     "name": "stdout",
     "output_type": "stream",
     "text": [
      "Predicting 1 masks\n",
      "Predicted 1 masks\n",
      "Predicting 1 masks\n",
      "Predicted 1 masks\n"
     ]
    },
    {
     "name": "stderr",
     "output_type": "stream",
     "text": [
      "2025-02-13 10:14:56,798 [INFO] Computing image embeddings for the provided images...\n",
      "2025-02-13 10:14:56,803 [INFO] Image embeddings computed.\n",
      "2025-02-13 10:14:56,993 [INFO] Computing image embeddings for the provided images...\n"
     ]
    },
    {
     "name": "stdout",
     "output_type": "stream",
     "text": [
      "Predicting 1 masks\n",
      "Predicted 1 masks\n",
      "Predicting 1 masks\n"
     ]
    },
    {
     "name": "stderr",
     "output_type": "stream",
     "text": [
      "2025-02-13 10:14:56,999 [INFO] Image embeddings computed.\n",
      "2025-02-13 10:14:57,128 [INFO] Computing image embeddings for the provided images...\n",
      "2025-02-13 10:14:57,134 [INFO] Image embeddings computed.\n"
     ]
    },
    {
     "name": "stdout",
     "output_type": "stream",
     "text": [
      "Predicted 1 masks\n",
      "Predicting 1 masks\n",
      "Predicted 1 masks\n"
     ]
    },
    {
     "name": "stderr",
     "output_type": "stream",
     "text": [
      "2025-02-13 10:14:57,262 [INFO] Computing image embeddings for the provided images...\n",
      "2025-02-13 10:14:57,267 [INFO] Image embeddings computed.\n",
      "2025-02-13 10:14:57,393 [INFO] Computing image embeddings for the provided images...\n",
      "2025-02-13 10:14:57,399 [INFO] Image embeddings computed.\n"
     ]
    },
    {
     "name": "stdout",
     "output_type": "stream",
     "text": [
      "Predicting 1 masks\n",
      "Predicted 1 masks\n",
      "Predicting 1 masks\n",
      "Predicted 1 masks\n"
     ]
    },
    {
     "name": "stderr",
     "output_type": "stream",
     "text": [
      "2025-02-13 10:14:57,534 [INFO] Computing image embeddings for the provided images...\n",
      "2025-02-13 10:14:57,539 [INFO] Image embeddings computed.\n",
      "2025-02-13 10:14:57,729 [INFO] Computing image embeddings for the provided images...\n"
     ]
    },
    {
     "name": "stdout",
     "output_type": "stream",
     "text": [
      "Predicting 1 masks\n",
      "Predicted 1 masks\n",
      "Predicting 1 masks\n"
     ]
    },
    {
     "name": "stderr",
     "output_type": "stream",
     "text": [
      "2025-02-13 10:14:57,735 [INFO] Image embeddings computed.\n",
      "2025-02-13 10:14:57,858 [INFO] Computing image embeddings for the provided images...\n",
      "2025-02-13 10:14:57,864 [INFO] Image embeddings computed.\n"
     ]
    },
    {
     "name": "stdout",
     "output_type": "stream",
     "text": [
      "Predicted 1 masks\n",
      "Predicting 1 masks\n",
      "Predicted 1 masks\n"
     ]
    },
    {
     "name": "stderr",
     "output_type": "stream",
     "text": [
      "2025-02-13 10:14:57,996 [INFO] Computing image embeddings for the provided images...\n",
      "2025-02-13 10:14:58,001 [INFO] Image embeddings computed.\n",
      "2025-02-13 10:14:58,130 [INFO] Computing image embeddings for the provided images...\n",
      "2025-02-13 10:14:58,135 [INFO] Image embeddings computed.\n"
     ]
    },
    {
     "name": "stdout",
     "output_type": "stream",
     "text": [
      "Predicting 1 masks\n",
      "Predicted 1 masks\n",
      "Predicting 1 masks\n",
      "Predicted 1 masks\n"
     ]
    },
    {
     "name": "stderr",
     "output_type": "stream",
     "text": [
      "2025-02-13 10:14:58,263 [INFO] Computing image embeddings for the provided images...\n",
      "2025-02-13 10:14:58,268 [INFO] Image embeddings computed.\n",
      "2025-02-13 10:14:58,455 [INFO] Computing image embeddings for the provided images...\n",
      "2025-02-13 10:14:58,461 [INFO] Image embeddings computed.\n"
     ]
    },
    {
     "name": "stdout",
     "output_type": "stream",
     "text": [
      "Predicting 1 masks\n",
      "Predicted 1 masks\n",
      "Predicting 1 masks\n"
     ]
    },
    {
     "name": "stderr",
     "output_type": "stream",
     "text": [
      "2025-02-13 10:14:58,585 [INFO] Computing image embeddings for the provided images...\n",
      "2025-02-13 10:14:58,591 [INFO] Image embeddings computed.\n"
     ]
    },
    {
     "name": "stdout",
     "output_type": "stream",
     "text": [
      "Predicted 1 masks\n",
      "Predicting 1 masks\n",
      "Predicted 1 masks\n"
     ]
    },
    {
     "name": "stderr",
     "output_type": "stream",
     "text": [
      "2025-02-13 10:14:58,720 [INFO] Computing image embeddings for the provided images...\n",
      "2025-02-13 10:14:58,725 [INFO] Image embeddings computed.\n",
      "2025-02-13 10:14:58,868 [INFO] Computing image embeddings for the provided images...\n",
      "2025-02-13 10:14:58,873 [INFO] Image embeddings computed.\n"
     ]
    },
    {
     "name": "stdout",
     "output_type": "stream",
     "text": [
      "Predicting 1 masks\n",
      "Predicted 1 masks\n",
      "Predicting 1 masks\n",
      "Predicted 1 masks\n"
     ]
    },
    {
     "name": "stderr",
     "output_type": "stream",
     "text": [
      "2025-02-13 10:14:59,004 [INFO] Computing image embeddings for the provided images...\n",
      "2025-02-13 10:14:59,009 [INFO] Image embeddings computed.\n",
      "2025-02-13 10:14:59,200 [INFO] Computing image embeddings for the provided images...\n"
     ]
    },
    {
     "name": "stdout",
     "output_type": "stream",
     "text": [
      "Predicting 1 masks\n",
      "Predicted 1 masks\n",
      "Predicting 1 masks\n"
     ]
    },
    {
     "name": "stderr",
     "output_type": "stream",
     "text": [
      "2025-02-13 10:14:59,205 [INFO] Image embeddings computed.\n",
      "2025-02-13 10:14:59,336 [INFO] Computing image embeddings for the provided images...\n",
      "2025-02-13 10:14:59,341 [INFO] Image embeddings computed.\n"
     ]
    },
    {
     "name": "stdout",
     "output_type": "stream",
     "text": [
      "Predicted 1 masks\n",
      "Predicting 1 masks\n",
      "Predicted 1 masks\n"
     ]
    },
    {
     "name": "stderr",
     "output_type": "stream",
     "text": [
      "2025-02-13 10:14:59,465 [INFO] Computing image embeddings for the provided images...\n",
      "2025-02-13 10:14:59,470 [INFO] Image embeddings computed.\n",
      "2025-02-13 10:14:59,597 [INFO] Computing image embeddings for the provided images...\n",
      "2025-02-13 10:14:59,602 [INFO] Image embeddings computed.\n"
     ]
    },
    {
     "name": "stdout",
     "output_type": "stream",
     "text": [
      "Predicting 1 masks\n",
      "Predicted 1 masks\n",
      "Predicting 1 masks\n",
      "Predicted 1 masks\n"
     ]
    },
    {
     "name": "stderr",
     "output_type": "stream",
     "text": [
      "2025-02-13 10:14:59,727 [INFO] Computing image embeddings for the provided images...\n",
      "2025-02-13 10:14:59,732 [INFO] Image embeddings computed.\n",
      "2025-02-13 10:14:59,918 [INFO] Computing image embeddings for the provided images...\n",
      "2025-02-13 10:14:59,924 [INFO] Image embeddings computed.\n"
     ]
    },
    {
     "name": "stdout",
     "output_type": "stream",
     "text": [
      "Predicting 1 masks\n",
      "Predicted 1 masks\n",
      "Predicting 1 masks\n"
     ]
    },
    {
     "name": "stderr",
     "output_type": "stream",
     "text": [
      "2025-02-13 10:15:00,055 [INFO] Computing image embeddings for the provided images...\n",
      "2025-02-13 10:15:00,060 [INFO] Image embeddings computed.\n"
     ]
    },
    {
     "name": "stdout",
     "output_type": "stream",
     "text": [
      "Predicted 1 masks\n",
      "Predicting 1 masks\n",
      "Predicted 1 masks\n"
     ]
    },
    {
     "name": "stderr",
     "output_type": "stream",
     "text": [
      "2025-02-13 10:15:00,194 [INFO] Computing image embeddings for the provided images...\n",
      "2025-02-13 10:15:00,199 [INFO] Image embeddings computed.\n",
      "2025-02-13 10:15:00,328 [INFO] Computing image embeddings for the provided images...\n",
      "2025-02-13 10:15:00,334 [INFO] Image embeddings computed.\n"
     ]
    },
    {
     "name": "stdout",
     "output_type": "stream",
     "text": [
      "Predicting 1 masks\n",
      "Predicted 1 masks\n",
      "Predicting 1 masks\n",
      "Predicted 1 masks\n"
     ]
    },
    {
     "name": "stderr",
     "output_type": "stream",
     "text": [
      "2025-02-13 10:15:00,470 [INFO] Computing image embeddings for the provided images...\n",
      "2025-02-13 10:15:00,475 [INFO] Image embeddings computed.\n"
     ]
    },
    {
     "name": "stdout",
     "output_type": "stream",
     "text": [
      "Predicting 1 masks\n",
      "Predicted 1 masks\n",
      "Predicting 1 masks\n"
     ]
    },
    {
     "name": "stderr",
     "output_type": "stream",
     "text": [
      "2025-02-13 10:15:00,669 [INFO] Computing image embeddings for the provided images...\n",
      "2025-02-13 10:15:00,674 [INFO] Image embeddings computed.\n",
      "2025-02-13 10:15:00,800 [INFO] Computing image embeddings for the provided images...\n",
      "2025-02-13 10:15:00,805 [INFO] Image embeddings computed.\n"
     ]
    },
    {
     "name": "stdout",
     "output_type": "stream",
     "text": [
      "Predicted 1 masks\n",
      "Predicting 1 masks\n",
      "Predicted 1 masks\n"
     ]
    },
    {
     "name": "stderr",
     "output_type": "stream",
     "text": [
      "2025-02-13 10:15:00,935 [INFO] Computing image embeddings for the provided images...\n",
      "2025-02-13 10:15:00,940 [INFO] Image embeddings computed.\n",
      "2025-02-13 10:15:01,078 [INFO] Computing image embeddings for the provided images...\n",
      "2025-02-13 10:15:01,083 [INFO] Image embeddings computed.\n"
     ]
    },
    {
     "name": "stdout",
     "output_type": "stream",
     "text": [
      "Predicting 1 masks\n",
      "Predicted 1 masks\n",
      "Predicting 1 masks\n",
      "Predicted 1 masks\n"
     ]
    },
    {
     "name": "stderr",
     "output_type": "stream",
     "text": [
      "2025-02-13 10:15:01,218 [INFO] Computing image embeddings for the provided images...\n",
      "2025-02-13 10:15:01,223 [INFO] Image embeddings computed.\n",
      "2025-02-13 10:15:01,415 [INFO] Computing image embeddings for the provided images...\n"
     ]
    },
    {
     "name": "stdout",
     "output_type": "stream",
     "text": [
      "Predicting 1 masks\n",
      "Predicted 1 masks\n",
      "Predicting 1 masks\n"
     ]
    },
    {
     "name": "stderr",
     "output_type": "stream",
     "text": [
      "2025-02-13 10:15:01,420 [INFO] Image embeddings computed.\n",
      "2025-02-13 10:15:01,550 [INFO] Computing image embeddings for the provided images...\n",
      "2025-02-13 10:15:01,555 [INFO] Image embeddings computed.\n"
     ]
    },
    {
     "name": "stdout",
     "output_type": "stream",
     "text": [
      "Predicted 1 masks\n",
      "Predicting 1 masks\n",
      "Predicted 1 masks\n"
     ]
    },
    {
     "name": "stderr",
     "output_type": "stream",
     "text": [
      "2025-02-13 10:15:01,679 [INFO] Computing image embeddings for the provided images...\n",
      "2025-02-13 10:15:01,684 [INFO] Image embeddings computed.\n",
      "2025-02-13 10:15:01,811 [INFO] Computing image embeddings for the provided images...\n",
      "2025-02-13 10:15:01,816 [INFO] Image embeddings computed.\n"
     ]
    },
    {
     "name": "stdout",
     "output_type": "stream",
     "text": [
      "Predicting 1 masks\n",
      "Predicted 1 masks\n",
      "Predicting 1 masks\n",
      "Predicted 1 masks\n"
     ]
    },
    {
     "name": "stderr",
     "output_type": "stream",
     "text": [
      "2025-02-13 10:15:01,951 [INFO] Computing image embeddings for the provided images...\n",
      "2025-02-13 10:15:01,956 [INFO] Image embeddings computed.\n"
     ]
    },
    {
     "name": "stdout",
     "output_type": "stream",
     "text": [
      "Predicting 1 masks\n",
      "Predicted 1 masks\n",
      "Predicting 1 masks\n"
     ]
    },
    {
     "name": "stderr",
     "output_type": "stream",
     "text": [
      "2025-02-13 10:15:02,150 [INFO] Computing image embeddings for the provided images...\n",
      "2025-02-13 10:15:02,155 [INFO] Image embeddings computed.\n",
      "2025-02-13 10:15:02,284 [INFO] Computing image embeddings for the provided images...\n",
      "2025-02-13 10:15:02,289 [INFO] Image embeddings computed.\n"
     ]
    },
    {
     "name": "stdout",
     "output_type": "stream",
     "text": [
      "Predicted 1 masks\n",
      "Predicting 1 masks\n",
      "Predicted 1 masks\n"
     ]
    },
    {
     "name": "stderr",
     "output_type": "stream",
     "text": [
      "2025-02-13 10:15:02,425 [INFO] Computing image embeddings for the provided images...\n",
      "2025-02-13 10:15:02,431 [INFO] Image embeddings computed.\n",
      "2025-02-13 10:15:02,563 [INFO] Computing image embeddings for the provided images...\n",
      "2025-02-13 10:15:02,568 [INFO] Image embeddings computed.\n"
     ]
    },
    {
     "name": "stdout",
     "output_type": "stream",
     "text": [
      "Predicting 1 masks\n",
      "Predicted 1 masks\n",
      "Predicting 1 masks\n",
      "Predicted 1 masks\n"
     ]
    },
    {
     "name": "stderr",
     "output_type": "stream",
     "text": [
      "2025-02-13 10:15:02,697 [INFO] Computing image embeddings for the provided images...\n",
      "2025-02-13 10:15:02,702 [INFO] Image embeddings computed.\n",
      "2025-02-13 10:15:02,886 [INFO] Computing image embeddings for the provided images...\n",
      "2025-02-13 10:15:02,891 [INFO] Image embeddings computed.\n"
     ]
    },
    {
     "name": "stdout",
     "output_type": "stream",
     "text": [
      "Predicting 1 masks\n",
      "Predicted 1 masks\n",
      "Predicting 1 masks\n"
     ]
    },
    {
     "name": "stderr",
     "output_type": "stream",
     "text": [
      "2025-02-13 10:15:03,019 [INFO] Computing image embeddings for the provided images...\n",
      "2025-02-13 10:15:03,024 [INFO] Image embeddings computed.\n"
     ]
    },
    {
     "name": "stdout",
     "output_type": "stream",
     "text": [
      "Predicted 1 masks\n",
      "Predicting 1 masks\n",
      "Predicted 1 masks\n"
     ]
    },
    {
     "name": "stderr",
     "output_type": "stream",
     "text": [
      "2025-02-13 10:15:03,149 [INFO] Computing image embeddings for the provided images...\n",
      "2025-02-13 10:15:03,154 [INFO] Image embeddings computed.\n",
      "2025-02-13 10:15:03,284 [INFO] Computing image embeddings for the provided images...\n",
      "2025-02-13 10:15:03,288 [INFO] Image embeddings computed.\n"
     ]
    },
    {
     "name": "stdout",
     "output_type": "stream",
     "text": [
      "Predicting 1 masks\n",
      "Predicted 1 masks\n",
      "Predicting 1 masks\n",
      "Predicted 1 masks\n"
     ]
    },
    {
     "name": "stderr",
     "output_type": "stream",
     "text": [
      "2025-02-13 10:15:03,421 [INFO] Computing image embeddings for the provided images...\n",
      "2025-02-13 10:15:03,426 [INFO] Image embeddings computed.\n"
     ]
    },
    {
     "name": "stdout",
     "output_type": "stream",
     "text": [
      "Predicting 1 masks\n",
      "Predicted 1 masks\n",
      "Predicting 1 masks\n"
     ]
    },
    {
     "name": "stderr",
     "output_type": "stream",
     "text": [
      "2025-02-13 10:15:03,619 [INFO] Computing image embeddings for the provided images...\n",
      "2025-02-13 10:15:03,625 [INFO] Image embeddings computed.\n",
      "2025-02-13 10:15:03,749 [INFO] Computing image embeddings for the provided images...\n",
      "2025-02-13 10:15:03,754 [INFO] Image embeddings computed.\n"
     ]
    },
    {
     "name": "stdout",
     "output_type": "stream",
     "text": [
      "Predicted 1 masks\n",
      "Predicting 1 masks\n",
      "Predicted 1 masks\n"
     ]
    },
    {
     "name": "stderr",
     "output_type": "stream",
     "text": [
      "2025-02-13 10:15:03,883 [INFO] Computing image embeddings for the provided images...\n",
      "2025-02-13 10:15:03,888 [INFO] Image embeddings computed.\n",
      "2025-02-13 10:15:04,022 [INFO] Computing image embeddings for the provided images...\n",
      "2025-02-13 10:15:04,027 [INFO] Image embeddings computed.\n"
     ]
    },
    {
     "name": "stdout",
     "output_type": "stream",
     "text": [
      "Predicting 1 masks\n",
      "Predicted 1 masks\n",
      "Predicting 1 masks\n",
      "Predicted 1 masks\n"
     ]
    },
    {
     "name": "stderr",
     "output_type": "stream",
     "text": [
      "2025-02-13 10:15:04,163 [INFO] Computing image embeddings for the provided images...\n",
      "2025-02-13 10:15:04,168 [INFO] Image embeddings computed.\n"
     ]
    },
    {
     "name": "stdout",
     "output_type": "stream",
     "text": [
      "Predicting 1 masks\n",
      "Predicted 1 masks\n"
     ]
    },
    {
     "name": "stderr",
     "output_type": "stream",
     "text": [
      "2025-02-13 10:15:04,366 [INFO] Computing image embeddings for the provided images...\n",
      "2025-02-13 10:15:04,372 [INFO] Image embeddings computed.\n",
      "2025-02-13 10:15:04,496 [INFO] Computing image embeddings for the provided images...\n",
      "2025-02-13 10:15:04,502 [INFO] Image embeddings computed.\n"
     ]
    },
    {
     "name": "stdout",
     "output_type": "stream",
     "text": [
      "Predicting 1 masks\n",
      "Predicted 1 masks\n",
      "Predicting 1 masks\n",
      "Predicted 1 masks\n"
     ]
    },
    {
     "name": "stderr",
     "output_type": "stream",
     "text": [
      "2025-02-13 10:15:04,632 [INFO] Computing image embeddings for the provided images...\n",
      "2025-02-13 10:15:04,638 [INFO] Image embeddings computed.\n",
      "2025-02-13 10:15:04,774 [INFO] Computing image embeddings for the provided images...\n",
      "2025-02-13 10:15:04,779 [INFO] Image embeddings computed.\n"
     ]
    },
    {
     "name": "stdout",
     "output_type": "stream",
     "text": [
      "Predicting 1 masks\n",
      "Predicted 1 masks\n",
      "Predicting 1 masks\n",
      "Predicted 1 masks\n"
     ]
    },
    {
     "name": "stderr",
     "output_type": "stream",
     "text": [
      "2025-02-13 10:15:04,919 [INFO] Computing image embeddings for the provided images...\n",
      "2025-02-13 10:15:04,924 [INFO] Image embeddings computed.\n"
     ]
    },
    {
     "name": "stdout",
     "output_type": "stream",
     "text": [
      "Predicting 1 masks\n",
      "Predicted 1 masks\n",
      "Predicting 1 masks\n"
     ]
    },
    {
     "name": "stderr",
     "output_type": "stream",
     "text": [
      "2025-02-13 10:15:05,119 [INFO] Computing image embeddings for the provided images...\n",
      "2025-02-13 10:15:05,124 [INFO] Image embeddings computed.\n",
      "2025-02-13 10:15:05,253 [INFO] Computing image embeddings for the provided images...\n",
      "2025-02-13 10:15:05,259 [INFO] Image embeddings computed.\n"
     ]
    },
    {
     "name": "stdout",
     "output_type": "stream",
     "text": [
      "Predicted 1 masks\n",
      "Predicting 1 masks\n",
      "Predicted 1 masks\n"
     ]
    },
    {
     "name": "stderr",
     "output_type": "stream",
     "text": [
      "2025-02-13 10:15:05,390 [INFO] Computing image embeddings for the provided images...\n",
      "2025-02-13 10:15:05,395 [INFO] Image embeddings computed.\n",
      "2025-02-13 10:15:05,542 [INFO] Computing image embeddings for the provided images...\n",
      "2025-02-13 10:15:05,547 [INFO] Image embeddings computed.\n"
     ]
    },
    {
     "name": "stdout",
     "output_type": "stream",
     "text": [
      "Predicting 1 masks\n",
      "Predicted 1 masks\n",
      "Predicting 1 masks\n",
      "Predicted 1 masks\n"
     ]
    },
    {
     "name": "stderr",
     "output_type": "stream",
     "text": [
      "2025-02-13 10:15:05,686 [INFO] Computing image embeddings for the provided images...\n",
      "2025-02-13 10:15:05,691 [INFO] Image embeddings computed.\n"
     ]
    },
    {
     "name": "stdout",
     "output_type": "stream",
     "text": [
      "Predicting 1 masks\n",
      "Predicted 1 masks\n"
     ]
    },
    {
     "name": "stderr",
     "output_type": "stream",
     "text": [
      "2025-02-13 10:15:05,892 [INFO] Computing image embeddings for the provided images...\n",
      "2025-02-13 10:15:05,897 [INFO] Image embeddings computed.\n",
      "2025-02-13 10:15:06,019 [INFO] Computing image embeddings for the provided images...\n",
      "2025-02-13 10:15:06,024 [INFO] Image embeddings computed.\n"
     ]
    },
    {
     "name": "stdout",
     "output_type": "stream",
     "text": [
      "Predicting 1 masks\n",
      "Predicted 1 masks\n",
      "Predicting 1 masks\n",
      "Predicted 1 masks\n"
     ]
    },
    {
     "name": "stderr",
     "output_type": "stream",
     "text": [
      "2025-02-13 10:15:06,153 [INFO] Computing image embeddings for the provided images...\n",
      "2025-02-13 10:15:06,158 [INFO] Image embeddings computed.\n",
      "2025-02-13 10:15:06,291 [INFO] Computing image embeddings for the provided images...\n",
      "2025-02-13 10:15:06,296 [INFO] Image embeddings computed.\n"
     ]
    },
    {
     "name": "stdout",
     "output_type": "stream",
     "text": [
      "Predicting 1 masks\n",
      "Predicted 1 masks\n",
      "Predicting 1 masks\n",
      "Predicted 1 masks\n"
     ]
    },
    {
     "name": "stderr",
     "output_type": "stream",
     "text": [
      "2025-02-13 10:15:06,432 [INFO] Computing image embeddings for the provided images...\n",
      "2025-02-13 10:15:06,436 [INFO] Image embeddings computed.\n"
     ]
    },
    {
     "name": "stdout",
     "output_type": "stream",
     "text": [
      "Predicting 1 masks\n",
      "Predicted 1 masks\n"
     ]
    },
    {
     "name": "stderr",
     "output_type": "stream",
     "text": [
      "2025-02-13 10:15:06,639 [INFO] Computing image embeddings for the provided images...\n",
      "2025-02-13 10:15:06,643 [INFO] Image embeddings computed.\n",
      "2025-02-13 10:15:06,766 [INFO] Computing image embeddings for the provided images...\n",
      "2025-02-13 10:15:06,771 [INFO] Image embeddings computed.\n"
     ]
    },
    {
     "name": "stdout",
     "output_type": "stream",
     "text": [
      "Predicting 1 masks\n",
      "Predicted 1 masks\n",
      "Predicting 1 masks\n",
      "Predicted 1 masks\n"
     ]
    },
    {
     "name": "stderr",
     "output_type": "stream",
     "text": [
      "2025-02-13 10:15:06,895 [INFO] Computing image embeddings for the provided images...\n",
      "2025-02-13 10:15:06,900 [INFO] Image embeddings computed.\n",
      "2025-02-13 10:15:07,031 [INFO] Computing image embeddings for the provided images...\n",
      "2025-02-13 10:15:07,036 [INFO] Image embeddings computed.\n"
     ]
    },
    {
     "name": "stdout",
     "output_type": "stream",
     "text": [
      "Predicting 1 masks\n",
      "Predicted 1 masks\n",
      "Predicting 1 masks\n",
      "Predicted 1 masks\n"
     ]
    },
    {
     "name": "stderr",
     "output_type": "stream",
     "text": [
      "2025-02-13 10:15:07,165 [INFO] Computing image embeddings for the provided images...\n",
      "2025-02-13 10:15:07,170 [INFO] Image embeddings computed.\n",
      "2025-02-13 10:15:07,355 [INFO] Computing image embeddings for the provided images...\n",
      "2025-02-13 10:15:07,360 [INFO] Image embeddings computed.\n"
     ]
    },
    {
     "name": "stdout",
     "output_type": "stream",
     "text": [
      "Predicting 1 masks\n",
      "Predicted 1 masks\n",
      "Predicting 1 masks\n"
     ]
    },
    {
     "name": "stderr",
     "output_type": "stream",
     "text": [
      "2025-02-13 10:15:07,485 [INFO] Computing image embeddings for the provided images...\n",
      "2025-02-13 10:15:07,490 [INFO] Image embeddings computed.\n"
     ]
    },
    {
     "name": "stdout",
     "output_type": "stream",
     "text": [
      "Predicted 1 masks\n",
      "Predicting 1 masks\n",
      "Predicted 1 masks\n"
     ]
    },
    {
     "name": "stderr",
     "output_type": "stream",
     "text": [
      "2025-02-13 10:15:07,614 [INFO] Computing image embeddings for the provided images...\n",
      "2025-02-13 10:15:07,618 [INFO] Image embeddings computed.\n",
      "2025-02-13 10:15:07,752 [INFO] Computing image embeddings for the provided images...\n",
      "2025-02-13 10:15:07,757 [INFO] Image embeddings computed.\n"
     ]
    },
    {
     "name": "stdout",
     "output_type": "stream",
     "text": [
      "Predicting 1 masks\n",
      "Predicted 1 masks\n",
      "Predicting 1 masks\n",
      "Predicted 1 masks\n"
     ]
    },
    {
     "name": "stderr",
     "output_type": "stream",
     "text": [
      "2025-02-13 10:15:07,888 [INFO] Computing image embeddings for the provided images...\n",
      "2025-02-13 10:15:07,893 [INFO] Image embeddings computed.\n",
      "2025-02-13 10:15:08,083 [INFO] Computing image embeddings for the provided images...\n"
     ]
    },
    {
     "name": "stdout",
     "output_type": "stream",
     "text": [
      "Predicting 1 masks\n",
      "Predicted 1 masks\n",
      "Predicting 1 masks\n"
     ]
    },
    {
     "name": "stderr",
     "output_type": "stream",
     "text": [
      "2025-02-13 10:15:08,088 [INFO] Image embeddings computed.\n",
      "2025-02-13 10:15:08,213 [INFO] Computing image embeddings for the provided images...\n",
      "2025-02-13 10:15:08,218 [INFO] Image embeddings computed.\n"
     ]
    },
    {
     "name": "stdout",
     "output_type": "stream",
     "text": [
      "Predicted 1 masks\n",
      "Predicting 1 masks\n",
      "Predicted 1 masks\n"
     ]
    },
    {
     "name": "stderr",
     "output_type": "stream",
     "text": [
      "2025-02-13 10:15:08,347 [INFO] Computing image embeddings for the provided images...\n",
      "2025-02-13 10:15:08,352 [INFO] Image embeddings computed.\n",
      "2025-02-13 10:15:08,496 [INFO] Computing image embeddings for the provided images...\n",
      "2025-02-13 10:15:08,501 [INFO] Image embeddings computed.\n"
     ]
    },
    {
     "name": "stdout",
     "output_type": "stream",
     "text": [
      "Predicting 1 masks\n",
      "Predicted 1 masks\n",
      "Predicting 1 masks\n",
      "Predicted 1 masks\n"
     ]
    },
    {
     "name": "stderr",
     "output_type": "stream",
     "text": [
      "2025-02-13 10:15:08,632 [INFO] Computing image embeddings for the provided images...\n",
      "2025-02-13 10:15:08,637 [INFO] Image embeddings computed.\n"
     ]
    },
    {
     "name": "stdout",
     "output_type": "stream",
     "text": [
      "Predicting 1 masks\n",
      "Predicted 1 masks\n",
      "Predicting 1 masks\n"
     ]
    },
    {
     "name": "stderr",
     "output_type": "stream",
     "text": [
      "2025-02-13 10:15:08,830 [INFO] Computing image embeddings for the provided images...\n",
      "2025-02-13 10:15:08,835 [INFO] Image embeddings computed.\n",
      "2025-02-13 10:15:08,962 [INFO] Computing image embeddings for the provided images...\n",
      "2025-02-13 10:15:08,967 [INFO] Image embeddings computed.\n"
     ]
    },
    {
     "name": "stdout",
     "output_type": "stream",
     "text": [
      "Predicted 1 masks\n",
      "Predicting 1 masks\n",
      "Predicted 1 masks\n"
     ]
    },
    {
     "name": "stderr",
     "output_type": "stream",
     "text": [
      "2025-02-13 10:15:09,096 [INFO] Computing image embeddings for the provided images...\n",
      "2025-02-13 10:15:09,101 [INFO] Image embeddings computed.\n",
      "2025-02-13 10:15:09,229 [INFO] Computing image embeddings for the provided images...\n",
      "2025-02-13 10:15:09,234 [INFO] Image embeddings computed.\n"
     ]
    },
    {
     "name": "stdout",
     "output_type": "stream",
     "text": [
      "Predicting 1 masks\n",
      "Predicted 1 masks\n",
      "Predicting 1 masks\n",
      "Predicted 1 masks\n"
     ]
    },
    {
     "name": "stderr",
     "output_type": "stream",
     "text": [
      "2025-02-13 10:15:09,360 [INFO] Computing image embeddings for the provided images...\n",
      "2025-02-13 10:15:09,365 [INFO] Image embeddings computed.\n"
     ]
    },
    {
     "name": "stdout",
     "output_type": "stream",
     "text": [
      "Predicting 1 masks\n",
      "Predicted 1 masks\n",
      "Predicting 1 masks\n"
     ]
    },
    {
     "name": "stderr",
     "output_type": "stream",
     "text": [
      "2025-02-13 10:15:09,558 [INFO] Computing image embeddings for the provided images...\n",
      "2025-02-13 10:15:09,563 [INFO] Image embeddings computed.\n",
      "2025-02-13 10:15:09,689 [INFO] Computing image embeddings for the provided images...\n",
      "2025-02-13 10:15:09,694 [INFO] Image embeddings computed.\n"
     ]
    },
    {
     "name": "stdout",
     "output_type": "stream",
     "text": [
      "Predicted 1 masks\n",
      "Predicting 1 masks\n",
      "Predicted 1 masks\n"
     ]
    },
    {
     "name": "stderr",
     "output_type": "stream",
     "text": [
      "2025-02-13 10:15:09,822 [INFO] Computing image embeddings for the provided images...\n",
      "2025-02-13 10:15:09,827 [INFO] Image embeddings computed.\n",
      "2025-02-13 10:15:09,957 [INFO] Computing image embeddings for the provided images...\n",
      "2025-02-13 10:15:09,962 [INFO] Image embeddings computed.\n"
     ]
    },
    {
     "name": "stdout",
     "output_type": "stream",
     "text": [
      "Predicting 1 masks\n",
      "Predicted 1 masks\n",
      "Predicting 1 masks\n",
      "Predicted 1 masks\n"
     ]
    },
    {
     "name": "stderr",
     "output_type": "stream",
     "text": [
      "2025-02-13 10:15:10,091 [INFO] Computing image embeddings for the provided images...\n",
      "2025-02-13 10:15:10,096 [INFO] Image embeddings computed.\n",
      "2025-02-13 10:15:10,281 [INFO] Computing image embeddings for the provided images...\n",
      "2025-02-13 10:15:10,286 [INFO] Image embeddings computed.\n"
     ]
    },
    {
     "name": "stdout",
     "output_type": "stream",
     "text": [
      "Predicting 1 masks\n",
      "Predicted 1 masks\n",
      "Predicting 1 masks\n"
     ]
    },
    {
     "name": "stderr",
     "output_type": "stream",
     "text": [
      "2025-02-13 10:15:10,411 [INFO] Computing image embeddings for the provided images...\n",
      "2025-02-13 10:15:10,416 [INFO] Image embeddings computed.\n"
     ]
    },
    {
     "name": "stdout",
     "output_type": "stream",
     "text": [
      "Predicted 1 masks\n",
      "Predicting 1 masks\n",
      "Predicted 1 masks\n"
     ]
    },
    {
     "name": "stderr",
     "output_type": "stream",
     "text": [
      "2025-02-13 10:15:10,547 [INFO] Computing image embeddings for the provided images...\n",
      "2025-02-13 10:15:10,552 [INFO] Image embeddings computed.\n",
      "2025-02-13 10:15:10,691 [INFO] Computing image embeddings for the provided images...\n",
      "2025-02-13 10:15:10,696 [INFO] Image embeddings computed.\n"
     ]
    },
    {
     "name": "stdout",
     "output_type": "stream",
     "text": [
      "Predicting 1 masks\n",
      "Predicted 1 masks\n",
      "Predicting 1 masks\n",
      "Predicted 1 masks\n"
     ]
    },
    {
     "name": "stderr",
     "output_type": "stream",
     "text": [
      "2025-02-13 10:15:10,830 [INFO] Computing image embeddings for the provided images...\n",
      "2025-02-13 10:15:10,835 [INFO] Image embeddings computed.\n"
     ]
    },
    {
     "name": "stdout",
     "output_type": "stream",
     "text": [
      "Predicting 1 masks\n",
      "Predicted 1 masks\n",
      "Predicting 1 masks\n"
     ]
    },
    {
     "name": "stderr",
     "output_type": "stream",
     "text": [
      "2025-02-13 10:15:11,029 [INFO] Computing image embeddings for the provided images...\n",
      "2025-02-13 10:15:11,034 [INFO] Image embeddings computed.\n",
      "2025-02-13 10:15:11,160 [INFO] Computing image embeddings for the provided images...\n",
      "2025-02-13 10:15:11,166 [INFO] Image embeddings computed.\n"
     ]
    },
    {
     "name": "stdout",
     "output_type": "stream",
     "text": [
      "Predicted 1 masks\n",
      "Predicting 1 masks\n",
      "Predicted 1 masks\n"
     ]
    },
    {
     "name": "stderr",
     "output_type": "stream",
     "text": [
      "2025-02-13 10:15:11,290 [INFO] Computing image embeddings for the provided images...\n",
      "2025-02-13 10:15:11,295 [INFO] Image embeddings computed.\n",
      "2025-02-13 10:15:11,435 [INFO] Computing image embeddings for the provided images...\n",
      "2025-02-13 10:15:11,440 [INFO] Image embeddings computed.\n"
     ]
    },
    {
     "name": "stdout",
     "output_type": "stream",
     "text": [
      "Predicting 1 masks\n",
      "Predicted 1 masks\n",
      "Predicting 1 masks\n",
      "Predicted 1 masks\n"
     ]
    },
    {
     "name": "stderr",
     "output_type": "stream",
     "text": [
      "2025-02-13 10:15:11,578 [INFO] Computing image embeddings for the provided images...\n",
      "2025-02-13 10:15:11,583 [INFO] Image embeddings computed.\n"
     ]
    },
    {
     "name": "stdout",
     "output_type": "stream",
     "text": [
      "Predicting 1 masks\n",
      "Predicted 1 masks\n"
     ]
    },
    {
     "name": "stderr",
     "output_type": "stream",
     "text": [
      "2025-02-13 10:15:11,785 [INFO] Computing image embeddings for the provided images...\n",
      "2025-02-13 10:15:11,790 [INFO] Image embeddings computed.\n",
      "2025-02-13 10:15:11,919 [INFO] Computing image embeddings for the provided images...\n",
      "2025-02-13 10:15:11,924 [INFO] Image embeddings computed.\n"
     ]
    },
    {
     "name": "stdout",
     "output_type": "stream",
     "text": [
      "Predicting 1 masks\n",
      "Predicted 1 masks\n",
      "Predicting 1 masks\n",
      "Predicted 1 masks\n"
     ]
    },
    {
     "name": "stderr",
     "output_type": "stream",
     "text": [
      "2025-02-13 10:15:12,055 [INFO] Computing image embeddings for the provided images...\n",
      "2025-02-13 10:15:12,061 [INFO] Image embeddings computed.\n",
      "2025-02-13 10:15:12,190 [INFO] Computing image embeddings for the provided images...\n",
      "2025-02-13 10:15:12,196 [INFO] Image embeddings computed.\n"
     ]
    },
    {
     "name": "stdout",
     "output_type": "stream",
     "text": [
      "Predicting 1 masks\n",
      "Predicted 1 masks\n",
      "Predicting 1 masks\n",
      "Predicted 1 masks\n"
     ]
    },
    {
     "name": "stderr",
     "output_type": "stream",
     "text": [
      "2025-02-13 10:15:12,333 [INFO] Computing image embeddings for the provided images...\n",
      "2025-02-13 10:15:12,338 [INFO] Image embeddings computed.\n"
     ]
    },
    {
     "name": "stdout",
     "output_type": "stream",
     "text": [
      "Predicting 1 masks\n",
      "Predicted 1 masks\n"
     ]
    },
    {
     "name": "stderr",
     "output_type": "stream",
     "text": [
      "2025-02-13 10:15:12,536 [INFO] Computing image embeddings for the provided images...\n",
      "2025-02-13 10:15:12,542 [INFO] Image embeddings computed.\n",
      "2025-02-13 10:15:12,668 [INFO] Computing image embeddings for the provided images...\n",
      "2025-02-13 10:15:12,674 [INFO] Image embeddings computed.\n"
     ]
    },
    {
     "name": "stdout",
     "output_type": "stream",
     "text": [
      "Predicting 1 masks\n",
      "Predicted 1 masks\n",
      "Predicting 1 masks\n",
      "Predicted 1 masks\n"
     ]
    },
    {
     "name": "stderr",
     "output_type": "stream",
     "text": [
      "2025-02-13 10:15:12,799 [INFO] Computing image embeddings for the provided images...\n",
      "2025-02-13 10:15:12,803 [INFO] Image embeddings computed.\n",
      "2025-02-13 10:15:12,932 [INFO] Computing image embeddings for the provided images...\n",
      "2025-02-13 10:15:12,937 [INFO] Image embeddings computed.\n"
     ]
    },
    {
     "name": "stdout",
     "output_type": "stream",
     "text": [
      "Predicting 1 masks\n",
      "Predicted 1 masks\n",
      "Predicting 1 masks\n",
      "Predicted 1 masks\n"
     ]
    },
    {
     "name": "stderr",
     "output_type": "stream",
     "text": [
      "2025-02-13 10:15:13,063 [INFO] Computing image embeddings for the provided images...\n",
      "2025-02-13 10:15:13,068 [INFO] Image embeddings computed.\n",
      "2025-02-13 10:15:13,236 [INFO] Computing image embeddings for the provided images...\n",
      "2025-02-13 10:15:13,241 [INFO] Image embeddings computed.\n"
     ]
    },
    {
     "name": "stdout",
     "output_type": "stream",
     "text": [
      "Predicting 1 masks\n",
      "Predicted 1 masks\n",
      "Predicting 1 masks\n",
      "Predicted 1 masks\n"
     ]
    },
    {
     "name": "stderr",
     "output_type": "stream",
     "text": [
      "2025-02-13 10:15:13,338 [INFO] Computing image embeddings for the provided images...\n",
      "2025-02-13 10:15:13,343 [INFO] Image embeddings computed.\n",
      "2025-02-13 10:15:13,445 [INFO] Computing image embeddings for the provided images...\n",
      "2025-02-13 10:15:13,450 [INFO] Image embeddings computed.\n"
     ]
    },
    {
     "name": "stdout",
     "output_type": "stream",
     "text": [
      "Predicting 1 masks\n",
      "Predicted 1 masks\n",
      "Predicting 1 masks\n",
      "Predicted 1 masks\n"
     ]
    },
    {
     "name": "stderr",
     "output_type": "stream",
     "text": [
      "2025-02-13 10:15:13,806 [INFO] Computing image embeddings for the provided images...\n",
      "2025-02-13 10:15:13,811 [INFO] Image embeddings computed.\n",
      "2025-02-13 10:15:13,937 [INFO] Computing image embeddings for the provided images...\n",
      "2025-02-13 10:15:13,942 [INFO] Image embeddings computed.\n"
     ]
    },
    {
     "name": "stdout",
     "output_type": "stream",
     "text": [
      "Predicting 1 masks\n",
      "Predicted 1 masks\n",
      "Predicting 1 masks\n",
      "Predicted 1 masks\n"
     ]
    },
    {
     "name": "stderr",
     "output_type": "stream",
     "text": [
      "2025-02-13 10:15:14,071 [INFO] Computing image embeddings for the provided images...\n",
      "2025-02-13 10:15:14,076 [INFO] Image embeddings computed.\n",
      "2025-02-13 10:15:14,219 [INFO] Computing image embeddings for the provided images...\n",
      "2025-02-13 10:15:14,224 [INFO] Image embeddings computed.\n"
     ]
    },
    {
     "name": "stdout",
     "output_type": "stream",
     "text": [
      "Predicting 1 masks\n",
      "Predicted 1 masks\n",
      "Predicting 1 masks\n",
      "Predicted 1 masks\n"
     ]
    },
    {
     "name": "stderr",
     "output_type": "stream",
     "text": [
      "2025-02-13 10:15:14,353 [INFO] Computing image embeddings for the provided images...\n",
      "2025-02-13 10:15:14,358 [INFO] Image embeddings computed.\n",
      "2025-02-13 10:15:14,550 [INFO] Computing image embeddings for the provided images...\n"
     ]
    },
    {
     "name": "stdout",
     "output_type": "stream",
     "text": [
      "Predicting 1 masks\n",
      "Predicted 1 masks\n",
      "Predicting 1 masks\n"
     ]
    },
    {
     "name": "stderr",
     "output_type": "stream",
     "text": [
      "2025-02-13 10:15:14,555 [INFO] Image embeddings computed.\n",
      "2025-02-13 10:15:14,684 [INFO] Computing image embeddings for the provided images...\n",
      "2025-02-13 10:15:14,689 [INFO] Image embeddings computed.\n"
     ]
    },
    {
     "name": "stdout",
     "output_type": "stream",
     "text": [
      "Predicted 1 masks\n",
      "Predicting 1 masks\n",
      "Predicted 1 masks\n"
     ]
    },
    {
     "name": "stderr",
     "output_type": "stream",
     "text": [
      "2025-02-13 10:15:14,819 [INFO] Computing image embeddings for the provided images...\n",
      "2025-02-13 10:15:14,824 [INFO] Image embeddings computed.\n",
      "2025-02-13 10:15:14,963 [INFO] Computing image embeddings for the provided images...\n",
      "2025-02-13 10:15:14,968 [INFO] Image embeddings computed.\n"
     ]
    },
    {
     "name": "stdout",
     "output_type": "stream",
     "text": [
      "Predicting 1 masks\n",
      "Predicted 1 masks\n",
      "Predicting 1 masks\n",
      "Predicted 1 masks\n"
     ]
    },
    {
     "name": "stderr",
     "output_type": "stream",
     "text": [
      "2025-02-13 10:15:15,092 [INFO] Computing image embeddings for the provided images...\n",
      "2025-02-13 10:15:15,097 [INFO] Image embeddings computed.\n",
      "2025-02-13 10:15:15,287 [INFO] Computing image embeddings for the provided images...\n"
     ]
    },
    {
     "name": "stdout",
     "output_type": "stream",
     "text": [
      "Predicting 1 masks\n",
      "Predicted 1 masks\n",
      "Predicting 1 masks\n"
     ]
    },
    {
     "name": "stderr",
     "output_type": "stream",
     "text": [
      "2025-02-13 10:15:15,292 [INFO] Image embeddings computed.\n",
      "2025-02-13 10:15:15,419 [INFO] Computing image embeddings for the provided images...\n",
      "2025-02-13 10:15:15,424 [INFO] Image embeddings computed.\n"
     ]
    },
    {
     "name": "stdout",
     "output_type": "stream",
     "text": [
      "Predicted 1 masks\n",
      "Predicting 1 masks\n",
      "Predicted 1 masks\n"
     ]
    },
    {
     "name": "stderr",
     "output_type": "stream",
     "text": [
      "2025-02-13 10:15:15,551 [INFO] Computing image embeddings for the provided images...\n",
      "2025-02-13 10:15:15,556 [INFO] Image embeddings computed.\n",
      "2025-02-13 10:15:15,697 [INFO] Computing image embeddings for the provided images...\n",
      "2025-02-13 10:15:15,702 [INFO] Image embeddings computed.\n"
     ]
    },
    {
     "name": "stdout",
     "output_type": "stream",
     "text": [
      "Predicting 1 masks\n",
      "Predicted 1 masks\n",
      "Predicting 1 masks\n",
      "Predicted 1 masks\n"
     ]
    },
    {
     "name": "stderr",
     "output_type": "stream",
     "text": [
      "2025-02-13 10:15:15,834 [INFO] Computing image embeddings for the provided images...\n",
      "2025-02-13 10:15:15,839 [INFO] Image embeddings computed.\n",
      "2025-02-13 10:15:16,031 [INFO] Computing image embeddings for the provided images...\n"
     ]
    },
    {
     "name": "stdout",
     "output_type": "stream",
     "text": [
      "Predicting 1 masks\n",
      "Predicted 1 masks\n",
      "Predicting 1 masks\n"
     ]
    },
    {
     "name": "stderr",
     "output_type": "stream",
     "text": [
      "2025-02-13 10:15:16,036 [INFO] Image embeddings computed.\n",
      "2025-02-13 10:15:16,163 [INFO] Computing image embeddings for the provided images...\n",
      "2025-02-13 10:15:16,168 [INFO] Image embeddings computed.\n"
     ]
    },
    {
     "name": "stdout",
     "output_type": "stream",
     "text": [
      "Predicted 1 masks\n",
      "Predicting 1 masks\n",
      "Predicted 1 masks\n"
     ]
    },
    {
     "name": "stderr",
     "output_type": "stream",
     "text": [
      "2025-02-13 10:15:16,294 [INFO] Computing image embeddings for the provided images...\n",
      "2025-02-13 10:15:16,299 [INFO] Image embeddings computed.\n",
      "2025-02-13 10:15:16,425 [INFO] Computing image embeddings for the provided images...\n",
      "2025-02-13 10:15:16,430 [INFO] Image embeddings computed.\n"
     ]
    },
    {
     "name": "stdout",
     "output_type": "stream",
     "text": [
      "Predicting 1 masks\n",
      "Predicted 1 masks\n",
      "Predicting 1 masks\n",
      "Predicted 1 masks\n"
     ]
    },
    {
     "name": "stderr",
     "output_type": "stream",
     "text": [
      "2025-02-13 10:15:16,557 [INFO] Computing image embeddings for the provided images...\n",
      "2025-02-13 10:15:16,562 [INFO] Image embeddings computed.\n",
      "2025-02-13 10:15:16,743 [INFO] Computing image embeddings for the provided images...\n",
      "2025-02-13 10:15:16,748 [INFO] Image embeddings computed.\n"
     ]
    },
    {
     "name": "stdout",
     "output_type": "stream",
     "text": [
      "Predicting 1 masks\n",
      "Predicted 1 masks\n",
      "Predicting 1 masks\n",
      "Predicted 1 masks\n"
     ]
    },
    {
     "name": "stderr",
     "output_type": "stream",
     "text": [
      "2025-02-13 10:15:16,873 [INFO] Computing image embeddings for the provided images...\n",
      "2025-02-13 10:15:16,878 [INFO] Image embeddings computed.\n",
      "2025-02-13 10:15:17,011 [INFO] Computing image embeddings for the provided images...\n",
      "2025-02-13 10:15:17,016 [INFO] Image embeddings computed.\n"
     ]
    },
    {
     "name": "stdout",
     "output_type": "stream",
     "text": [
      "Predicting 1 masks\n",
      "Predicted 1 masks\n",
      "Predicting 1 masks\n",
      "Predicted 1 masks\n"
     ]
    },
    {
     "name": "stderr",
     "output_type": "stream",
     "text": [
      "2025-02-13 10:15:17,148 [INFO] Computing image embeddings for the provided images...\n",
      "2025-02-13 10:15:17,153 [INFO] Image embeddings computed.\n",
      "2025-02-13 10:15:17,290 [INFO] Computing image embeddings for the provided images...\n",
      "2025-02-13 10:15:17,295 [INFO] Image embeddings computed.\n"
     ]
    },
    {
     "name": "stdout",
     "output_type": "stream",
     "text": [
      "Predicting 1 masks\n",
      "Predicted 1 masks\n",
      "Predicting 1 masks\n",
      "Predicted 1 masks\n"
     ]
    },
    {
     "name": "stderr",
     "output_type": "stream",
     "text": [
      "2025-02-13 10:15:17,497 [INFO] Computing image embeddings for the provided images...\n",
      "2025-02-13 10:15:17,502 [INFO] Image embeddings computed.\n",
      "2025-02-13 10:15:17,632 [INFO] Computing image embeddings for the provided images...\n",
      "2025-02-13 10:15:17,637 [INFO] Image embeddings computed.\n"
     ]
    },
    {
     "name": "stdout",
     "output_type": "stream",
     "text": [
      "Predicting 1 masks\n",
      "Predicted 1 masks\n",
      "Predicting 1 masks\n",
      "Predicted 1 masks\n"
     ]
    },
    {
     "name": "stderr",
     "output_type": "stream",
     "text": [
      "2025-02-13 10:15:17,765 [INFO] Computing image embeddings for the provided images...\n",
      "2025-02-13 10:15:17,770 [INFO] Image embeddings computed.\n",
      "2025-02-13 10:15:17,908 [INFO] Computing image embeddings for the provided images...\n",
      "2025-02-13 10:15:17,913 [INFO] Image embeddings computed.\n"
     ]
    },
    {
     "name": "stdout",
     "output_type": "stream",
     "text": [
      "Predicting 1 masks\n",
      "Predicted 1 masks\n",
      "Predicting 1 masks\n",
      "Predicted 1 masks\n"
     ]
    },
    {
     "name": "stderr",
     "output_type": "stream",
     "text": [
      "2025-02-13 10:15:18,044 [INFO] Computing image embeddings for the provided images...\n",
      "2025-02-13 10:15:18,049 [INFO] Image embeddings computed.\n"
     ]
    },
    {
     "name": "stdout",
     "output_type": "stream",
     "text": [
      "Predicting 1 masks\n",
      "Predicted 1 masks\n"
     ]
    },
    {
     "name": "stderr",
     "output_type": "stream",
     "text": [
      "2025-02-13 10:15:18,251 [INFO] Computing image embeddings for the provided images...\n",
      "2025-02-13 10:15:18,256 [INFO] Image embeddings computed.\n",
      "2025-02-13 10:15:18,379 [INFO] Computing image embeddings for the provided images...\n",
      "2025-02-13 10:15:18,384 [INFO] Image embeddings computed.\n"
     ]
    },
    {
     "name": "stdout",
     "output_type": "stream",
     "text": [
      "Predicting 1 masks\n",
      "Predicted 1 masks\n",
      "Predicting 1 masks\n",
      "Predicted 1 masks\n"
     ]
    },
    {
     "name": "stderr",
     "output_type": "stream",
     "text": [
      "2025-02-13 10:15:18,513 [INFO] Computing image embeddings for the provided images...\n",
      "2025-02-13 10:15:18,518 [INFO] Image embeddings computed.\n",
      "2025-02-13 10:15:18,643 [INFO] Computing image embeddings for the provided images...\n",
      "2025-02-13 10:15:18,648 [INFO] Image embeddings computed.\n"
     ]
    },
    {
     "name": "stdout",
     "output_type": "stream",
     "text": [
      "Predicting 1 masks\n",
      "Predicted 1 masks\n",
      "Predicting 1 masks\n",
      "Predicted 1 masks\n"
     ]
    },
    {
     "name": "stderr",
     "output_type": "stream",
     "text": [
      "2025-02-13 10:15:18,790 [INFO] Computing image embeddings for the provided images...\n",
      "2025-02-13 10:15:18,795 [INFO] Image embeddings computed.\n"
     ]
    },
    {
     "name": "stdout",
     "output_type": "stream",
     "text": [
      "Predicting 1 masks\n",
      "Predicted 1 masks\n"
     ]
    },
    {
     "name": "stderr",
     "output_type": "stream",
     "text": [
      "2025-02-13 10:15:19,009 [INFO] Computing image embeddings for the provided images...\n",
      "2025-02-13 10:15:19,014 [INFO] Image embeddings computed.\n",
      "2025-02-13 10:15:19,143 [INFO] Computing image embeddings for the provided images...\n",
      "2025-02-13 10:15:19,148 [INFO] Image embeddings computed.\n"
     ]
    },
    {
     "name": "stdout",
     "output_type": "stream",
     "text": [
      "Predicting 1 masks\n",
      "Predicted 1 masks\n",
      "Predicting 1 masks\n",
      "Predicted 1 masks\n"
     ]
    },
    {
     "name": "stderr",
     "output_type": "stream",
     "text": [
      "2025-02-13 10:15:19,279 [INFO] Computing image embeddings for the provided images...\n",
      "2025-02-13 10:15:19,284 [INFO] Image embeddings computed.\n",
      "2025-02-13 10:15:19,413 [INFO] Computing image embeddings for the provided images...\n",
      "2025-02-13 10:15:19,418 [INFO] Image embeddings computed.\n"
     ]
    },
    {
     "name": "stdout",
     "output_type": "stream",
     "text": [
      "Predicting 1 masks\n",
      "Predicted 1 masks\n",
      "Predicting 1 masks\n",
      "Predicted 1 masks\n"
     ]
    },
    {
     "name": "stderr",
     "output_type": "stream",
     "text": [
      "2025-02-13 10:15:19,557 [INFO] Computing image embeddings for the provided images...\n",
      "2025-02-13 10:15:19,562 [INFO] Image embeddings computed.\n"
     ]
    },
    {
     "name": "stdout",
     "output_type": "stream",
     "text": [
      "Predicting 1 masks\n",
      "Predicted 1 masks\n"
     ]
    },
    {
     "name": "stderr",
     "output_type": "stream",
     "text": [
      "2025-02-13 10:15:19,767 [INFO] Computing image embeddings for the provided images...\n",
      "2025-02-13 10:15:19,772 [INFO] Image embeddings computed.\n",
      "2025-02-13 10:15:19,898 [INFO] Computing image embeddings for the provided images...\n",
      "2025-02-13 10:15:19,903 [INFO] Image embeddings computed.\n"
     ]
    },
    {
     "name": "stdout",
     "output_type": "stream",
     "text": [
      "Predicting 1 masks\n",
      "Predicted 1 masks\n",
      "Predicting 1 masks\n",
      "Predicted 1 masks\n"
     ]
    },
    {
     "name": "stderr",
     "output_type": "stream",
     "text": [
      "2025-02-13 10:15:20,032 [INFO] Computing image embeddings for the provided images...\n",
      "2025-02-13 10:15:20,037 [INFO] Image embeddings computed.\n"
     ]
    },
    {
     "name": "stdout",
     "output_type": "stream",
     "text": [
      "Predicting 1 masks\n",
      "Predicted 1 masks\n"
     ]
    },
    {
     "name": "stderr",
     "output_type": "stream",
     "text": [
      "2025-02-13 10:15:20,279 [INFO] Computing image embeddings for the provided images...\n",
      "2025-02-13 10:15:20,284 [INFO] Image embeddings computed.\n"
     ]
    },
    {
     "name": "stdout",
     "output_type": "stream",
     "text": [
      "Predicting 1 masks\n",
      "Predicted 1 masks\n",
      "Predicting 1 masks\n"
     ]
    },
    {
     "name": "stderr",
     "output_type": "stream",
     "text": [
      "2025-02-13 10:15:20,477 [INFO] Computing image embeddings for the provided images...\n",
      "2025-02-13 10:15:20,482 [INFO] Image embeddings computed.\n",
      "2025-02-13 10:15:20,612 [INFO] Computing image embeddings for the provided images...\n",
      "2025-02-13 10:15:20,617 [INFO] Image embeddings computed.\n"
     ]
    },
    {
     "name": "stdout",
     "output_type": "stream",
     "text": [
      "Predicted 1 masks\n",
      "Predicting 1 masks\n",
      "Predicted 1 masks\n"
     ]
    },
    {
     "name": "stderr",
     "output_type": "stream",
     "text": [
      "2025-02-13 10:15:20,746 [INFO] Computing image embeddings for the provided images...\n",
      "2025-02-13 10:15:20,751 [INFO] Image embeddings computed.\n",
      "2025-02-13 10:15:20,882 [INFO] Computing image embeddings for the provided images...\n",
      "2025-02-13 10:15:20,887 [INFO] Image embeddings computed.\n"
     ]
    },
    {
     "name": "stdout",
     "output_type": "stream",
     "text": [
      "Predicting 1 masks\n",
      "Predicted 1 masks\n",
      "Predicting 1 masks\n",
      "Predicted 1 masks\n"
     ]
    },
    {
     "name": "stderr",
     "output_type": "stream",
     "text": [
      "2025-02-13 10:15:21,021 [INFO] Computing image embeddings for the provided images...\n",
      "2025-02-13 10:15:21,026 [INFO] Image embeddings computed.\n"
     ]
    },
    {
     "name": "stdout",
     "output_type": "stream",
     "text": [
      "Predicting 1 masks\n",
      "Predicted 1 masks\n",
      "Predicting 1 masks\n"
     ]
    },
    {
     "name": "stderr",
     "output_type": "stream",
     "text": [
      "2025-02-13 10:15:21,221 [INFO] Computing image embeddings for the provided images...\n",
      "2025-02-13 10:15:21,226 [INFO] Image embeddings computed.\n",
      "2025-02-13 10:15:21,353 [INFO] Computing image embeddings for the provided images...\n",
      "2025-02-13 10:15:21,358 [INFO] Image embeddings computed.\n"
     ]
    },
    {
     "name": "stdout",
     "output_type": "stream",
     "text": [
      "Predicted 1 masks\n",
      "Predicting 1 masks\n",
      "Predicted 1 masks\n"
     ]
    },
    {
     "name": "stderr",
     "output_type": "stream",
     "text": [
      "2025-02-13 10:15:21,492 [INFO] Computing image embeddings for the provided images...\n",
      "2025-02-13 10:15:21,497 [INFO] Image embeddings computed.\n",
      "2025-02-13 10:15:21,629 [INFO] Computing image embeddings for the provided images...\n",
      "2025-02-13 10:15:21,634 [INFO] Image embeddings computed.\n"
     ]
    },
    {
     "name": "stdout",
     "output_type": "stream",
     "text": [
      "Predicting 1 masks\n",
      "Predicted 1 masks\n",
      "Predicting 1 masks\n",
      "Predicted 1 masks\n"
     ]
    },
    {
     "name": "stderr",
     "output_type": "stream",
     "text": [
      "2025-02-13 10:15:21,763 [INFO] Computing image embeddings for the provided images...\n",
      "2025-02-13 10:15:21,768 [INFO] Image embeddings computed.\n",
      "2025-02-13 10:15:21,958 [INFO] Computing image embeddings for the provided images...\n"
     ]
    },
    {
     "name": "stdout",
     "output_type": "stream",
     "text": [
      "Predicting 1 masks\n",
      "Predicted 1 masks\n",
      "Predicting 1 masks\n"
     ]
    },
    {
     "name": "stderr",
     "output_type": "stream",
     "text": [
      "2025-02-13 10:15:21,963 [INFO] Image embeddings computed.\n",
      "2025-02-13 10:15:22,091 [INFO] Computing image embeddings for the provided images...\n",
      "2025-02-13 10:15:22,096 [INFO] Image embeddings computed.\n"
     ]
    },
    {
     "name": "stdout",
     "output_type": "stream",
     "text": [
      "Predicted 1 masks\n",
      "Predicting 1 masks\n",
      "Predicted 1 masks\n"
     ]
    },
    {
     "name": "stderr",
     "output_type": "stream",
     "text": [
      "2025-02-13 10:15:22,221 [INFO] Computing image embeddings for the provided images...\n",
      "2025-02-13 10:15:22,226 [INFO] Image embeddings computed.\n",
      "2025-02-13 10:15:22,360 [INFO] Computing image embeddings for the provided images...\n",
      "2025-02-13 10:15:22,365 [INFO] Image embeddings computed.\n"
     ]
    },
    {
     "name": "stdout",
     "output_type": "stream",
     "text": [
      "Predicting 1 masks\n",
      "Predicted 1 masks\n",
      "Predicting 1 masks\n",
      "Predicted 1 masks\n"
     ]
    },
    {
     "name": "stderr",
     "output_type": "stream",
     "text": [
      "2025-02-13 10:15:22,493 [INFO] Computing image embeddings for the provided images...\n",
      "2025-02-13 10:15:22,498 [INFO] Image embeddings computed.\n",
      "2025-02-13 10:15:22,689 [INFO] Computing image embeddings for the provided images...\n"
     ]
    },
    {
     "name": "stdout",
     "output_type": "stream",
     "text": [
      "Predicting 1 masks\n",
      "Predicted 1 masks\n",
      "Predicting 1 masks\n"
     ]
    },
    {
     "name": "stderr",
     "output_type": "stream",
     "text": [
      "2025-02-13 10:15:22,694 [INFO] Image embeddings computed.\n",
      "2025-02-13 10:15:22,820 [INFO] Computing image embeddings for the provided images...\n",
      "2025-02-13 10:15:22,825 [INFO] Image embeddings computed.\n"
     ]
    },
    {
     "name": "stdout",
     "output_type": "stream",
     "text": [
      "Predicted 1 masks\n",
      "Predicting 1 masks\n",
      "Predicted 1 masks\n"
     ]
    },
    {
     "name": "stderr",
     "output_type": "stream",
     "text": [
      "2025-02-13 10:15:22,954 [INFO] Computing image embeddings for the provided images...\n",
      "2025-02-13 10:15:22,959 [INFO] Image embeddings computed.\n",
      "2025-02-13 10:15:23,093 [INFO] Computing image embeddings for the provided images...\n",
      "2025-02-13 10:15:23,098 [INFO] Image embeddings computed.\n"
     ]
    },
    {
     "name": "stdout",
     "output_type": "stream",
     "text": [
      "Predicting 1 masks\n",
      "Predicted 1 masks\n",
      "Predicting 1 masks\n",
      "Predicted 1 masks\n"
     ]
    },
    {
     "name": "stderr",
     "output_type": "stream",
     "text": [
      "2025-02-13 10:15:23,231 [INFO] Computing image embeddings for the provided images...\n",
      "2025-02-13 10:15:23,236 [INFO] Image embeddings computed.\n",
      "2025-02-13 10:15:23,428 [INFO] Computing image embeddings for the provided images...\n"
     ]
    },
    {
     "name": "stdout",
     "output_type": "stream",
     "text": [
      "Predicting 1 masks\n",
      "Predicted 1 masks\n",
      "Predicting 1 masks\n"
     ]
    },
    {
     "name": "stderr",
     "output_type": "stream",
     "text": [
      "2025-02-13 10:15:23,433 [INFO] Image embeddings computed.\n",
      "2025-02-13 10:15:23,558 [INFO] Computing image embeddings for the provided images...\n",
      "2025-02-13 10:15:23,563 [INFO] Image embeddings computed.\n"
     ]
    },
    {
     "name": "stdout",
     "output_type": "stream",
     "text": [
      "Predicted 1 masks\n",
      "Predicting 1 masks\n",
      "Predicted 1 masks\n"
     ]
    },
    {
     "name": "stderr",
     "output_type": "stream",
     "text": [
      "2025-02-13 10:15:23,693 [INFO] Computing image embeddings for the provided images...\n",
      "2025-02-13 10:15:23,698 [INFO] Image embeddings computed.\n",
      "2025-02-13 10:15:23,827 [INFO] Computing image embeddings for the provided images...\n",
      "2025-02-13 10:15:23,832 [INFO] Image embeddings computed.\n"
     ]
    },
    {
     "name": "stdout",
     "output_type": "stream",
     "text": [
      "Predicting 1 masks\n",
      "Predicted 1 masks\n",
      "Predicting 1 masks\n",
      "Predicted 1 masks\n"
     ]
    },
    {
     "name": "stderr",
     "output_type": "stream",
     "text": [
      "2025-02-13 10:15:23,959 [INFO] Computing image embeddings for the provided images...\n",
      "2025-02-13 10:15:23,964 [INFO] Image embeddings computed.\n"
     ]
    },
    {
     "name": "stdout",
     "output_type": "stream",
     "text": [
      "Predicting 1 masks\n",
      "Predicted 1 masks\n",
      "Predicting 1 masks\n"
     ]
    },
    {
     "name": "stderr",
     "output_type": "stream",
     "text": [
      "2025-02-13 10:15:24,157 [INFO] Computing image embeddings for the provided images...\n",
      "2025-02-13 10:15:24,162 [INFO] Image embeddings computed.\n",
      "2025-02-13 10:15:24,291 [INFO] Computing image embeddings for the provided images...\n",
      "2025-02-13 10:15:24,296 [INFO] Image embeddings computed.\n"
     ]
    },
    {
     "name": "stdout",
     "output_type": "stream",
     "text": [
      "Predicted 1 masks\n",
      "Predicting 1 masks\n",
      "Predicted 1 masks\n"
     ]
    },
    {
     "name": "stderr",
     "output_type": "stream",
     "text": [
      "2025-02-13 10:15:24,424 [INFO] Computing image embeddings for the provided images...\n",
      "2025-02-13 10:15:24,428 [INFO] Image embeddings computed.\n",
      "2025-02-13 10:15:24,555 [INFO] Computing image embeddings for the provided images...\n",
      "2025-02-13 10:15:24,560 [INFO] Image embeddings computed.\n"
     ]
    },
    {
     "name": "stdout",
     "output_type": "stream",
     "text": [
      "Predicting 1 masks\n",
      "Predicted 1 masks\n",
      "Predicting 1 masks\n",
      "Predicted 1 masks\n"
     ]
    },
    {
     "name": "stderr",
     "output_type": "stream",
     "text": [
      "2025-02-13 10:15:24,691 [INFO] Computing image embeddings for the provided images...\n",
      "2025-02-13 10:15:24,696 [INFO] Image embeddings computed.\n",
      "2025-02-13 10:15:24,883 [INFO] Computing image embeddings for the provided images...\n"
     ]
    },
    {
     "name": "stdout",
     "output_type": "stream",
     "text": [
      "Predicting 1 masks\n",
      "Predicted 1 masks\n",
      "Predicting 1 masks\n"
     ]
    },
    {
     "name": "stderr",
     "output_type": "stream",
     "text": [
      "2025-02-13 10:15:24,889 [INFO] Image embeddings computed.\n",
      "2025-02-13 10:15:25,013 [INFO] Computing image embeddings for the provided images...\n",
      "2025-02-13 10:15:25,018 [INFO] Image embeddings computed.\n"
     ]
    },
    {
     "name": "stdout",
     "output_type": "stream",
     "text": [
      "Predicted 1 masks\n",
      "Predicting 1 masks\n",
      "Predicted 1 masks\n"
     ]
    },
    {
     "name": "stderr",
     "output_type": "stream",
     "text": [
      "2025-02-13 10:15:25,142 [INFO] Computing image embeddings for the provided images...\n",
      "2025-02-13 10:15:25,147 [INFO] Image embeddings computed.\n",
      "2025-02-13 10:15:25,280 [INFO] Computing image embeddings for the provided images...\n",
      "2025-02-13 10:15:25,285 [INFO] Image embeddings computed.\n"
     ]
    },
    {
     "name": "stdout",
     "output_type": "stream",
     "text": [
      "Predicting 1 masks\n",
      "Predicted 1 masks\n",
      "Predicting 1 masks\n",
      "Predicted 1 masks\n"
     ]
    },
    {
     "name": "stderr",
     "output_type": "stream",
     "text": [
      "2025-02-13 10:15:25,417 [INFO] Computing image embeddings for the provided images...\n",
      "2025-02-13 10:15:25,422 [INFO] Image embeddings computed.\n",
      "2025-02-13 10:15:25,611 [INFO] Computing image embeddings for the provided images...\n"
     ]
    },
    {
     "name": "stdout",
     "output_type": "stream",
     "text": [
      "Predicting 1 masks\n",
      "Predicted 1 masks\n",
      "Predicting 1 masks\n"
     ]
    },
    {
     "name": "stderr",
     "output_type": "stream",
     "text": [
      "2025-02-13 10:15:25,616 [INFO] Image embeddings computed.\n",
      "2025-02-13 10:15:25,748 [INFO] Computing image embeddings for the provided images...\n",
      "2025-02-13 10:15:25,753 [INFO] Image embeddings computed.\n"
     ]
    },
    {
     "name": "stdout",
     "output_type": "stream",
     "text": [
      "Predicted 1 masks\n",
      "Predicting 1 masks\n",
      "Predicted 1 masks\n"
     ]
    },
    {
     "name": "stderr",
     "output_type": "stream",
     "text": [
      "2025-02-13 10:15:25,886 [INFO] Computing image embeddings for the provided images...\n",
      "2025-02-13 10:15:25,891 [INFO] Image embeddings computed.\n"
     ]
    },
    {
     "name": "stdout",
     "output_type": "stream",
     "text": [
      "Predicting 1 masks\n",
      "Predicted 1 masks\n"
     ]
    },
    {
     "name": "stderr",
     "output_type": "stream",
     "text": [
      "2025-02-13 10:15:26,322 [INFO] Computing image embeddings for the provided images...\n",
      "2025-02-13 10:15:26,327 [INFO] Image embeddings computed.\n",
      "2025-02-13 10:15:26,454 [INFO] Computing image embeddings for the provided images...\n",
      "2025-02-13 10:15:26,459 [INFO] Image embeddings computed.\n"
     ]
    },
    {
     "name": "stdout",
     "output_type": "stream",
     "text": [
      "Predicting 1 masks\n",
      "Predicted 1 masks\n",
      "Predicting 1 masks\n",
      "Predicted 1 masks\n"
     ]
    },
    {
     "name": "stderr",
     "output_type": "stream",
     "text": [
      "2025-02-13 10:15:26,580 [INFO] Computing image embeddings for the provided images...\n",
      "2025-02-13 10:15:26,585 [INFO] Image embeddings computed.\n",
      "2025-02-13 10:15:26,728 [INFO] Computing image embeddings for the provided images...\n",
      "2025-02-13 10:15:26,732 [INFO] Image embeddings computed.\n"
     ]
    },
    {
     "name": "stdout",
     "output_type": "stream",
     "text": [
      "Predicting 1 masks\n",
      "Predicted 1 masks\n",
      "Predicting 1 masks\n",
      "Predicted 1 masks\n"
     ]
    },
    {
     "name": "stderr",
     "output_type": "stream",
     "text": [
      "2025-02-13 10:15:26,860 [INFO] Computing image embeddings for the provided images...\n",
      "2025-02-13 10:15:26,865 [INFO] Image embeddings computed.\n",
      "2025-02-13 10:15:27,053 [INFO] Computing image embeddings for the provided images...\n",
      "2025-02-13 10:15:27,058 [INFO] Image embeddings computed.\n"
     ]
    },
    {
     "name": "stdout",
     "output_type": "stream",
     "text": [
      "Predicting 1 masks\n",
      "Predicted 1 masks\n",
      "Predicting 1 masks\n"
     ]
    },
    {
     "name": "stderr",
     "output_type": "stream",
     "text": [
      "2025-02-13 10:15:27,185 [INFO] Computing image embeddings for the provided images...\n",
      "2025-02-13 10:15:27,190 [INFO] Image embeddings computed.\n"
     ]
    },
    {
     "name": "stdout",
     "output_type": "stream",
     "text": [
      "Predicted 1 masks\n",
      "Predicting 1 masks\n",
      "Predicted 1 masks\n"
     ]
    },
    {
     "name": "stderr",
     "output_type": "stream",
     "text": [
      "2025-02-13 10:15:27,320 [INFO] Computing image embeddings for the provided images...\n",
      "2025-02-13 10:15:27,325 [INFO] Image embeddings computed.\n",
      "2025-02-13 10:15:27,454 [INFO] Computing image embeddings for the provided images...\n",
      "2025-02-13 10:15:27,459 [INFO] Image embeddings computed.\n"
     ]
    },
    {
     "name": "stdout",
     "output_type": "stream",
     "text": [
      "Predicting 1 masks\n",
      "Predicted 1 masks\n",
      "Predicting 1 masks\n",
      "Predicted 1 masks\n"
     ]
    },
    {
     "name": "stderr",
     "output_type": "stream",
     "text": [
      "2025-02-13 10:15:27,588 [INFO] Computing image embeddings for the provided images...\n",
      "2025-02-13 10:15:27,592 [INFO] Image embeddings computed.\n",
      "2025-02-13 10:15:27,779 [INFO] Computing image embeddings for the provided images...\n",
      "2025-02-13 10:15:27,784 [INFO] Image embeddings computed.\n"
     ]
    },
    {
     "name": "stdout",
     "output_type": "stream",
     "text": [
      "Predicting 1 masks\n",
      "Predicted 1 masks\n",
      "Predicting 1 masks\n"
     ]
    },
    {
     "name": "stderr",
     "output_type": "stream",
     "text": [
      "2025-02-13 10:15:27,910 [INFO] Computing image embeddings for the provided images...\n",
      "2025-02-13 10:15:27,915 [INFO] Image embeddings computed.\n"
     ]
    },
    {
     "name": "stdout",
     "output_type": "stream",
     "text": [
      "Predicted 1 masks\n",
      "Predicting 1 masks\n",
      "Predicted 1 masks\n"
     ]
    },
    {
     "name": "stderr",
     "output_type": "stream",
     "text": [
      "2025-02-13 10:15:28,043 [INFO] Computing image embeddings for the provided images...\n",
      "2025-02-13 10:15:28,048 [INFO] Image embeddings computed.\n",
      "2025-02-13 10:15:28,175 [INFO] Computing image embeddings for the provided images...\n",
      "2025-02-13 10:15:28,180 [INFO] Image embeddings computed.\n"
     ]
    },
    {
     "name": "stdout",
     "output_type": "stream",
     "text": [
      "Predicting 1 masks\n",
      "Predicted 1 masks\n",
      "Predicting 1 masks\n",
      "Predicted 1 masks\n"
     ]
    },
    {
     "name": "stderr",
     "output_type": "stream",
     "text": [
      "2025-02-13 10:15:28,304 [INFO] Computing image embeddings for the provided images...\n",
      "2025-02-13 10:15:28,309 [INFO] Image embeddings computed.\n",
      "2025-02-13 10:15:28,500 [INFO] Computing image embeddings for the provided images...\n"
     ]
    },
    {
     "name": "stdout",
     "output_type": "stream",
     "text": [
      "Predicting 1 masks\n",
      "Predicted 1 masks\n",
      "Predicting 1 masks\n"
     ]
    },
    {
     "name": "stderr",
     "output_type": "stream",
     "text": [
      "2025-02-13 10:15:28,505 [INFO] Image embeddings computed.\n",
      "2025-02-13 10:15:28,631 [INFO] Computing image embeddings for the provided images...\n",
      "2025-02-13 10:15:28,636 [INFO] Image embeddings computed.\n"
     ]
    },
    {
     "name": "stdout",
     "output_type": "stream",
     "text": [
      "Predicted 1 masks\n",
      "Predicting 1 masks\n",
      "Predicted 1 masks\n"
     ]
    },
    {
     "name": "stderr",
     "output_type": "stream",
     "text": [
      "2025-02-13 10:15:28,760 [INFO] Computing image embeddings for the provided images...\n",
      "2025-02-13 10:15:28,765 [INFO] Image embeddings computed.\n",
      "2025-02-13 10:15:28,897 [INFO] Computing image embeddings for the provided images...\n",
      "2025-02-13 10:15:28,902 [INFO] Image embeddings computed.\n"
     ]
    },
    {
     "name": "stdout",
     "output_type": "stream",
     "text": [
      "Predicting 1 masks\n",
      "Predicted 1 masks\n",
      "Predicting 1 masks\n",
      "Predicted 1 masks\n"
     ]
    },
    {
     "name": "stderr",
     "output_type": "stream",
     "text": [
      "2025-02-13 10:15:29,030 [INFO] Computing image embeddings for the provided images...\n",
      "2025-02-13 10:15:29,035 [INFO] Image embeddings computed.\n",
      "2025-02-13 10:15:29,216 [INFO] Computing image embeddings for the provided images...\n",
      "2025-02-13 10:15:29,221 [INFO] Image embeddings computed.\n"
     ]
    },
    {
     "name": "stdout",
     "output_type": "stream",
     "text": [
      "Predicting 1 masks\n",
      "Predicted 1 masks\n",
      "Predicting 1 masks\n"
     ]
    },
    {
     "name": "stderr",
     "output_type": "stream",
     "text": [
      "2025-02-13 10:15:29,347 [INFO] Computing image embeddings for the provided images...\n",
      "2025-02-13 10:15:29,351 [INFO] Image embeddings computed.\n"
     ]
    },
    {
     "name": "stdout",
     "output_type": "stream",
     "text": [
      "Predicted 1 masks\n",
      "Predicting 1 masks\n",
      "Predicted 1 masks\n"
     ]
    },
    {
     "name": "stderr",
     "output_type": "stream",
     "text": [
      "2025-02-13 10:15:29,481 [INFO] Computing image embeddings for the provided images...\n",
      "2025-02-13 10:15:29,486 [INFO] Image embeddings computed.\n",
      "2025-02-13 10:15:29,617 [INFO] Computing image embeddings for the provided images...\n",
      "2025-02-13 10:15:29,622 [INFO] Image embeddings computed.\n"
     ]
    },
    {
     "name": "stdout",
     "output_type": "stream",
     "text": [
      "Predicting 1 masks\n",
      "Predicted 1 masks\n",
      "Predicting 1 masks\n",
      "Predicted 1 masks\n"
     ]
    },
    {
     "name": "stderr",
     "output_type": "stream",
     "text": [
      "2025-02-13 10:15:29,754 [INFO] Computing image embeddings for the provided images...\n",
      "2025-02-13 10:15:29,759 [INFO] Image embeddings computed.\n"
     ]
    },
    {
     "name": "stdout",
     "output_type": "stream",
     "text": [
      "Predicting 1 masks\n",
      "Predicted 1 masks\n",
      "Predicting 1 masks\n"
     ]
    },
    {
     "name": "stderr",
     "output_type": "stream",
     "text": [
      "2025-02-13 10:15:29,955 [INFO] Computing image embeddings for the provided images...\n",
      "2025-02-13 10:15:29,960 [INFO] Image embeddings computed.\n",
      "2025-02-13 10:15:30,091 [INFO] Computing image embeddings for the provided images...\n",
      "2025-02-13 10:15:30,096 [INFO] Image embeddings computed.\n"
     ]
    },
    {
     "name": "stdout",
     "output_type": "stream",
     "text": [
      "Predicted 1 masks\n",
      "Predicting 1 masks\n",
      "Predicted 1 masks\n"
     ]
    },
    {
     "name": "stderr",
     "output_type": "stream",
     "text": [
      "2025-02-13 10:15:30,223 [INFO] Computing image embeddings for the provided images...\n",
      "2025-02-13 10:15:30,228 [INFO] Image embeddings computed.\n",
      "2025-02-13 10:15:30,357 [INFO] Computing image embeddings for the provided images...\n",
      "2025-02-13 10:15:30,362 [INFO] Image embeddings computed.\n"
     ]
    },
    {
     "name": "stdout",
     "output_type": "stream",
     "text": [
      "Predicting 1 masks\n",
      "Predicted 1 masks\n",
      "Predicting 1 masks\n",
      "Predicted 1 masks\n"
     ]
    },
    {
     "name": "stderr",
     "output_type": "stream",
     "text": [
      "2025-02-13 10:15:30,497 [INFO] Computing image embeddings for the provided images...\n",
      "2025-02-13 10:15:30,502 [INFO] Image embeddings computed.\n",
      "2025-02-13 10:15:30,696 [INFO] Computing image embeddings for the provided images...\n"
     ]
    },
    {
     "name": "stdout",
     "output_type": "stream",
     "text": [
      "Predicting 1 masks\n",
      "Predicted 1 masks\n",
      "Predicting 1 masks\n"
     ]
    },
    {
     "name": "stderr",
     "output_type": "stream",
     "text": [
      "2025-02-13 10:15:30,701 [INFO] Image embeddings computed.\n",
      "2025-02-13 10:15:30,831 [INFO] Computing image embeddings for the provided images...\n",
      "2025-02-13 10:15:30,836 [INFO] Image embeddings computed.\n"
     ]
    },
    {
     "name": "stdout",
     "output_type": "stream",
     "text": [
      "Predicted 1 masks\n",
      "Predicting 1 masks\n",
      "Predicted 1 masks\n"
     ]
    },
    {
     "name": "stderr",
     "output_type": "stream",
     "text": [
      "2025-02-13 10:15:30,972 [INFO] Computing image embeddings for the provided images...\n",
      "2025-02-13 10:15:30,976 [INFO] Image embeddings computed.\n"
     ]
    },
    {
     "name": "stdout",
     "output_type": "stream",
     "text": [
      "Predicting 1 masks\n",
      "Predicted 1 masks\n"
     ]
    },
    {
     "name": "stderr",
     "output_type": "stream",
     "text": [
      "2025-02-13 10:15:31,234 [INFO] Computing image embeddings for the provided images...\n",
      "2025-02-13 10:15:31,239 [INFO] Image embeddings computed.\n"
     ]
    },
    {
     "name": "stdout",
     "output_type": "stream",
     "text": [
      "Predicting 1 masks\n",
      "Predicted 1 masks\n"
     ]
    },
    {
     "name": "stderr",
     "output_type": "stream",
     "text": [
      "2025-02-13 10:15:31,435 [INFO] Computing image embeddings for the provided images...\n",
      "2025-02-13 10:15:31,440 [INFO] Image embeddings computed.\n",
      "2025-02-13 10:15:31,567 [INFO] Computing image embeddings for the provided images...\n",
      "2025-02-13 10:15:31,572 [INFO] Image embeddings computed.\n"
     ]
    },
    {
     "name": "stdout",
     "output_type": "stream",
     "text": [
      "Predicting 1 masks\n",
      "Predicted 1 masks\n",
      "Predicting 1 masks\n",
      "Predicted 1 masks\n"
     ]
    },
    {
     "name": "stderr",
     "output_type": "stream",
     "text": [
      "2025-02-13 10:15:31,699 [INFO] Computing image embeddings for the provided images...\n",
      "2025-02-13 10:15:31,704 [INFO] Image embeddings computed.\n",
      "2025-02-13 10:15:31,839 [INFO] Computing image embeddings for the provided images...\n",
      "2025-02-13 10:15:31,844 [INFO] Image embeddings computed.\n"
     ]
    },
    {
     "name": "stdout",
     "output_type": "stream",
     "text": [
      "Predicting 1 masks\n",
      "Predicted 1 masks\n",
      "Predicting 1 masks\n",
      "Predicted 1 masks\n"
     ]
    },
    {
     "name": "stderr",
     "output_type": "stream",
     "text": [
      "2025-02-13 10:15:31,974 [INFO] Computing image embeddings for the provided images...\n",
      "2025-02-13 10:15:31,979 [INFO] Image embeddings computed.\n",
      "2025-02-13 10:15:32,166 [INFO] Computing image embeddings for the provided images...\n",
      "2025-02-13 10:15:32,171 [INFO] Image embeddings computed.\n"
     ]
    },
    {
     "name": "stdout",
     "output_type": "stream",
     "text": [
      "Predicting 1 masks\n",
      "Predicted 1 masks\n",
      "Predicting 1 masks\n"
     ]
    },
    {
     "name": "stderr",
     "output_type": "stream",
     "text": [
      "2025-02-13 10:15:32,304 [INFO] Computing image embeddings for the provided images...\n",
      "2025-02-13 10:15:32,310 [INFO] Image embeddings computed.\n"
     ]
    },
    {
     "name": "stdout",
     "output_type": "stream",
     "text": [
      "Predicted 1 masks\n",
      "Predicting 1 masks\n",
      "Predicted 1 masks\n"
     ]
    },
    {
     "name": "stderr",
     "output_type": "stream",
     "text": [
      "2025-02-13 10:15:32,441 [INFO] Computing image embeddings for the provided images...\n",
      "2025-02-13 10:15:32,446 [INFO] Image embeddings computed.\n",
      "2025-02-13 10:15:32,580 [INFO] Computing image embeddings for the provided images...\n",
      "2025-02-13 10:15:32,585 [INFO] Image embeddings computed.\n"
     ]
    },
    {
     "name": "stdout",
     "output_type": "stream",
     "text": [
      "Predicting 1 masks\n",
      "Predicted 1 masks\n",
      "Predicting 1 masks\n",
      "Predicted 1 masks\n"
     ]
    },
    {
     "name": "stderr",
     "output_type": "stream",
     "text": [
      "2025-02-13 10:15:32,722 [INFO] Computing image embeddings for the provided images...\n",
      "2025-02-13 10:15:32,727 [INFO] Image embeddings computed.\n",
      "2025-02-13 10:15:32,916 [INFO] Computing image embeddings for the provided images...\n"
     ]
    },
    {
     "name": "stdout",
     "output_type": "stream",
     "text": [
      "Predicting 1 masks\n",
      "Predicted 1 masks\n",
      "Predicting 1 masks\n"
     ]
    },
    {
     "name": "stderr",
     "output_type": "stream",
     "text": [
      "2025-02-13 10:15:32,921 [INFO] Image embeddings computed.\n",
      "2025-02-13 10:15:33,050 [INFO] Computing image embeddings for the provided images...\n",
      "2025-02-13 10:15:33,055 [INFO] Image embeddings computed.\n"
     ]
    },
    {
     "name": "stdout",
     "output_type": "stream",
     "text": [
      "Predicted 1 masks\n",
      "Predicting 1 masks\n",
      "Predicted 1 masks\n"
     ]
    },
    {
     "name": "stderr",
     "output_type": "stream",
     "text": [
      "2025-02-13 10:15:33,183 [INFO] Computing image embeddings for the provided images...\n",
      "2025-02-13 10:15:33,188 [INFO] Image embeddings computed.\n"
     ]
    },
    {
     "name": "stdout",
     "output_type": "stream",
     "text": [
      "Predicting 1 masks\n",
      "Predicted 1 masks\n"
     ]
    },
    {
     "name": "stderr",
     "output_type": "stream",
     "text": [
      "2025-02-13 10:15:33,428 [INFO] Computing image embeddings for the provided images...\n",
      "2025-02-13 10:15:33,432 [INFO] Image embeddings computed.\n",
      "2025-02-13 10:15:33,619 [INFO] Computing image embeddings for the provided images...\n",
      "2025-02-13 10:15:33,624 [INFO] Image embeddings computed.\n"
     ]
    },
    {
     "name": "stdout",
     "output_type": "stream",
     "text": [
      "Predicting 1 masks\n",
      "Predicted 1 masks\n",
      "Predicting 1 masks\n"
     ]
    },
    {
     "name": "stderr",
     "output_type": "stream",
     "text": [
      "2025-02-13 10:15:33,752 [INFO] Computing image embeddings for the provided images...\n",
      "2025-02-13 10:15:33,758 [INFO] Image embeddings computed.\n"
     ]
    },
    {
     "name": "stdout",
     "output_type": "stream",
     "text": [
      "Predicted 1 masks\n",
      "Predicting 1 masks\n",
      "Predicted 1 masks\n"
     ]
    },
    {
     "name": "stderr",
     "output_type": "stream",
     "text": [
      "2025-02-13 10:15:33,887 [INFO] Computing image embeddings for the provided images...\n",
      "2025-02-13 10:15:33,892 [INFO] Image embeddings computed.\n",
      "2025-02-13 10:15:34,025 [INFO] Computing image embeddings for the provided images...\n",
      "2025-02-13 10:15:34,030 [INFO] Image embeddings computed.\n"
     ]
    },
    {
     "name": "stdout",
     "output_type": "stream",
     "text": [
      "Predicting 1 masks\n",
      "Predicted 1 masks\n",
      "Predicting 1 masks\n",
      "Predicted 1 masks\n"
     ]
    },
    {
     "name": "stderr",
     "output_type": "stream",
     "text": [
      "2025-02-13 10:15:34,164 [INFO] Computing image embeddings for the provided images...\n",
      "2025-02-13 10:15:34,169 [INFO] Image embeddings computed.\n"
     ]
    },
    {
     "name": "stdout",
     "output_type": "stream",
     "text": [
      "Predicting 1 masks\n",
      "Predicted 1 masks\n"
     ]
    },
    {
     "name": "stderr",
     "output_type": "stream",
     "text": [
      "2025-02-13 10:15:34,372 [INFO] Computing image embeddings for the provided images...\n",
      "2025-02-13 10:15:34,377 [INFO] Image embeddings computed.\n",
      "2025-02-13 10:15:34,507 [INFO] Computing image embeddings for the provided images...\n",
      "2025-02-13 10:15:34,512 [INFO] Image embeddings computed.\n"
     ]
    },
    {
     "name": "stdout",
     "output_type": "stream",
     "text": [
      "Predicting 1 masks\n",
      "Predicted 1 masks\n",
      "Predicting 1 masks\n",
      "Predicted 1 masks\n"
     ]
    },
    {
     "name": "stderr",
     "output_type": "stream",
     "text": [
      "2025-02-13 10:15:34,642 [INFO] Computing image embeddings for the provided images...\n",
      "2025-02-13 10:15:34,647 [INFO] Image embeddings computed.\n",
      "2025-02-13 10:15:34,779 [INFO] Computing image embeddings for the provided images...\n",
      "2025-02-13 10:15:34,784 [INFO] Image embeddings computed.\n"
     ]
    },
    {
     "name": "stdout",
     "output_type": "stream",
     "text": [
      "Predicting 1 masks\n",
      "Predicted 1 masks\n",
      "Predicting 1 masks\n",
      "Predicted 1 masks\n"
     ]
    },
    {
     "name": "stderr",
     "output_type": "stream",
     "text": [
      "2025-02-13 10:15:34,919 [INFO] Computing image embeddings for the provided images...\n",
      "2025-02-13 10:15:34,924 [INFO] Image embeddings computed.\n"
     ]
    },
    {
     "name": "stdout",
     "output_type": "stream",
     "text": [
      "Predicting 1 masks\n",
      "Predicted 1 masks\n"
     ]
    },
    {
     "name": "stderr",
     "output_type": "stream",
     "text": [
      "2025-02-13 10:15:35,126 [INFO] Computing image embeddings for the provided images...\n",
      "2025-02-13 10:15:35,131 [INFO] Image embeddings computed.\n",
      "2025-02-13 10:15:35,259 [INFO] Computing image embeddings for the provided images...\n",
      "2025-02-13 10:15:35,264 [INFO] Image embeddings computed.\n"
     ]
    },
    {
     "name": "stdout",
     "output_type": "stream",
     "text": [
      "Predicting 1 masks\n",
      "Predicted 1 masks\n",
      "Predicting 1 masks\n",
      "Predicted 1 masks\n"
     ]
    },
    {
     "name": "stderr",
     "output_type": "stream",
     "text": [
      "2025-02-13 10:15:35,394 [INFO] Computing image embeddings for the provided images...\n",
      "2025-02-13 10:15:35,398 [INFO] Image embeddings computed.\n",
      "2025-02-13 10:15:35,530 [INFO] Computing image embeddings for the provided images...\n",
      "2025-02-13 10:15:35,535 [INFO] Image embeddings computed.\n"
     ]
    },
    {
     "name": "stdout",
     "output_type": "stream",
     "text": [
      "Predicting 1 masks\n",
      "Predicted 1 masks\n",
      "Predicting 1 masks\n",
      "Predicted 1 masks\n"
     ]
    },
    {
     "name": "stderr",
     "output_type": "stream",
     "text": [
      "2025-02-13 10:15:35,666 [INFO] Computing image embeddings for the provided images...\n",
      "2025-02-13 10:15:35,671 [INFO] Image embeddings computed.\n",
      "2025-02-13 10:15:35,860 [INFO] Computing image embeddings for the provided images...\n"
     ]
    },
    {
     "name": "stdout",
     "output_type": "stream",
     "text": [
      "Predicting 1 masks\n",
      "Predicted 1 masks\n",
      "Predicting 1 masks\n"
     ]
    },
    {
     "name": "stderr",
     "output_type": "stream",
     "text": [
      "2025-02-13 10:15:35,865 [INFO] Image embeddings computed.\n",
      "2025-02-13 10:15:35,991 [INFO] Computing image embeddings for the provided images...\n",
      "2025-02-13 10:15:35,996 [INFO] Image embeddings computed.\n"
     ]
    },
    {
     "name": "stdout",
     "output_type": "stream",
     "text": [
      "Predicted 1 masks\n",
      "Predicting 1 masks\n",
      "Predicted 1 masks\n"
     ]
    },
    {
     "name": "stderr",
     "output_type": "stream",
     "text": [
      "2025-02-13 10:15:36,124 [INFO] Computing image embeddings for the provided images...\n",
      "2025-02-13 10:15:36,129 [INFO] Image embeddings computed.\n",
      "2025-02-13 10:15:36,260 [INFO] Computing image embeddings for the provided images...\n",
      "2025-02-13 10:15:36,265 [INFO] Image embeddings computed.\n"
     ]
    },
    {
     "name": "stdout",
     "output_type": "stream",
     "text": [
      "Predicting 1 masks\n",
      "Predicted 1 masks\n",
      "Predicting 1 masks\n",
      "Predicted 1 masks\n"
     ]
    },
    {
     "name": "stderr",
     "output_type": "stream",
     "text": [
      "2025-02-13 10:15:36,393 [INFO] Computing image embeddings for the provided images...\n",
      "2025-02-13 10:15:36,398 [INFO] Image embeddings computed.\n",
      "2025-02-13 10:15:36,585 [INFO] Computing image embeddings for the provided images...\n",
      "2025-02-13 10:15:36,590 [INFO] Image embeddings computed.\n"
     ]
    },
    {
     "name": "stdout",
     "output_type": "stream",
     "text": [
      "Predicting 1 masks\n",
      "Predicted 1 masks\n",
      "Predicting 1 masks\n"
     ]
    },
    {
     "name": "stderr",
     "output_type": "stream",
     "text": [
      "2025-02-13 10:15:36,722 [INFO] Computing image embeddings for the provided images...\n",
      "2025-02-13 10:15:36,727 [INFO] Image embeddings computed.\n"
     ]
    },
    {
     "name": "stdout",
     "output_type": "stream",
     "text": [
      "Predicted 1 masks\n",
      "Predicting 1 masks\n",
      "Predicted 1 masks\n"
     ]
    },
    {
     "name": "stderr",
     "output_type": "stream",
     "text": [
      "2025-02-13 10:15:36,853 [INFO] Computing image embeddings for the provided images...\n",
      "2025-02-13 10:15:36,858 [INFO] Image embeddings computed.\n",
      "2025-02-13 10:15:36,987 [INFO] Computing image embeddings for the provided images...\n",
      "2025-02-13 10:15:36,992 [INFO] Image embeddings computed.\n"
     ]
    },
    {
     "name": "stdout",
     "output_type": "stream",
     "text": [
      "Predicting 1 masks\n",
      "Predicted 1 masks\n",
      "Predicting 1 masks\n",
      "Predicted 1 masks\n"
     ]
    },
    {
     "name": "stderr",
     "output_type": "stream",
     "text": [
      "2025-02-13 10:15:37,124 [INFO] Computing image embeddings for the provided images...\n",
      "2025-02-13 10:15:37,129 [INFO] Image embeddings computed.\n"
     ]
    },
    {
     "name": "stdout",
     "output_type": "stream",
     "text": [
      "Predicting 1 masks\n",
      "Predicted 1 masks\n"
     ]
    },
    {
     "name": "stderr",
     "output_type": "stream",
     "text": [
      "2025-02-13 10:15:37,328 [INFO] Computing image embeddings for the provided images...\n",
      "2025-02-13 10:15:37,333 [INFO] Image embeddings computed.\n",
      "2025-02-13 10:15:37,464 [INFO] Computing image embeddings for the provided images...\n",
      "2025-02-13 10:15:37,469 [INFO] Image embeddings computed.\n"
     ]
    },
    {
     "name": "stdout",
     "output_type": "stream",
     "text": [
      "Predicting 1 masks\n",
      "Predicted 1 masks\n",
      "Predicting 1 masks\n",
      "Predicted 1 masks\n"
     ]
    },
    {
     "name": "stderr",
     "output_type": "stream",
     "text": [
      "2025-02-13 10:15:37,599 [INFO] Computing image embeddings for the provided images...\n",
      "2025-02-13 10:15:37,604 [INFO] Image embeddings computed.\n",
      "2025-02-13 10:15:37,738 [INFO] Computing image embeddings for the provided images...\n",
      "2025-02-13 10:15:37,743 [INFO] Image embeddings computed.\n"
     ]
    },
    {
     "name": "stdout",
     "output_type": "stream",
     "text": [
      "Predicting 1 masks\n",
      "Predicted 1 masks\n",
      "Predicting 1 masks\n",
      "Predicted 1 masks\n"
     ]
    },
    {
     "name": "stderr",
     "output_type": "stream",
     "text": [
      "2025-02-13 10:15:37,871 [INFO] Computing image embeddings for the provided images...\n",
      "2025-02-13 10:15:37,876 [INFO] Image embeddings computed.\n",
      "2025-02-13 10:15:38,060 [INFO] Computing image embeddings for the provided images...\n",
      "2025-02-13 10:15:38,065 [INFO] Image embeddings computed.\n"
     ]
    },
    {
     "name": "stdout",
     "output_type": "stream",
     "text": [
      "Predicting 1 masks\n",
      "Predicted 1 masks\n",
      "Predicting 1 masks\n"
     ]
    },
    {
     "name": "stderr",
     "output_type": "stream",
     "text": [
      "2025-02-13 10:15:38,196 [INFO] Computing image embeddings for the provided images...\n",
      "2025-02-13 10:15:38,201 [INFO] Image embeddings computed.\n"
     ]
    },
    {
     "name": "stdout",
     "output_type": "stream",
     "text": [
      "Predicted 1 masks\n",
      "Predicting 1 masks\n",
      "Predicted 1 masks\n"
     ]
    },
    {
     "name": "stderr",
     "output_type": "stream",
     "text": [
      "2025-02-13 10:15:38,335 [INFO] Computing image embeddings for the provided images...\n",
      "2025-02-13 10:15:38,340 [INFO] Image embeddings computed.\n",
      "2025-02-13 10:15:38,476 [INFO] Computing image embeddings for the provided images...\n",
      "2025-02-13 10:15:38,480 [INFO] Image embeddings computed.\n"
     ]
    },
    {
     "name": "stdout",
     "output_type": "stream",
     "text": [
      "Predicting 1 masks\n",
      "Predicted 1 masks\n",
      "Predicting 1 masks\n",
      "Predicted 1 masks\n"
     ]
    },
    {
     "name": "stderr",
     "output_type": "stream",
     "text": [
      "2025-02-13 10:15:38,612 [INFO] Computing image embeddings for the provided images...\n",
      "2025-02-13 10:15:38,617 [INFO] Image embeddings computed.\n",
      "2025-02-13 10:15:38,808 [INFO] Computing image embeddings for the provided images...\n"
     ]
    },
    {
     "name": "stdout",
     "output_type": "stream",
     "text": [
      "Predicting 1 masks\n",
      "Predicted 1 masks\n",
      "Predicting 1 masks\n"
     ]
    },
    {
     "name": "stderr",
     "output_type": "stream",
     "text": [
      "2025-02-13 10:15:38,813 [INFO] Image embeddings computed.\n",
      "2025-02-13 10:15:38,942 [INFO] Computing image embeddings for the provided images...\n",
      "2025-02-13 10:15:38,947 [INFO] Image embeddings computed.\n"
     ]
    },
    {
     "name": "stdout",
     "output_type": "stream",
     "text": [
      "Predicted 1 masks\n",
      "Predicting 1 masks\n",
      "Predicted 1 masks\n"
     ]
    },
    {
     "name": "stderr",
     "output_type": "stream",
     "text": [
      "2025-02-13 10:15:39,075 [INFO] Computing image embeddings for the provided images...\n",
      "2025-02-13 10:15:39,080 [INFO] Image embeddings computed.\n",
      "2025-02-13 10:15:39,213 [INFO] Computing image embeddings for the provided images...\n",
      "2025-02-13 10:15:39,218 [INFO] Image embeddings computed.\n"
     ]
    },
    {
     "name": "stdout",
     "output_type": "stream",
     "text": [
      "Predicting 1 masks\n",
      "Predicted 1 masks\n",
      "Predicting 1 masks\n",
      "Predicted 1 masks\n"
     ]
    },
    {
     "name": "stderr",
     "output_type": "stream",
     "text": [
      "2025-02-13 10:15:39,355 [INFO] Computing image embeddings for the provided images...\n",
      "2025-02-13 10:15:39,360 [INFO] Image embeddings computed.\n"
     ]
    },
    {
     "name": "stdout",
     "output_type": "stream",
     "text": [
      "Predicting 1 masks\n",
      "Predicted 1 masks\n",
      "Predicting 1 masks\n"
     ]
    },
    {
     "name": "stderr",
     "output_type": "stream",
     "text": [
      "2025-02-13 10:15:39,555 [INFO] Computing image embeddings for the provided images...\n",
      "2025-02-13 10:15:39,560 [INFO] Image embeddings computed.\n",
      "2025-02-13 10:15:39,688 [INFO] Computing image embeddings for the provided images...\n",
      "2025-02-13 10:15:39,693 [INFO] Image embeddings computed.\n"
     ]
    },
    {
     "name": "stdout",
     "output_type": "stream",
     "text": [
      "Predicted 1 masks\n",
      "Predicting 1 masks\n",
      "Predicted 1 masks\n"
     ]
    },
    {
     "name": "stderr",
     "output_type": "stream",
     "text": [
      "2025-02-13 10:15:39,823 [INFO] Computing image embeddings for the provided images...\n",
      "2025-02-13 10:15:39,828 [INFO] Image embeddings computed.\n",
      "2025-02-13 10:15:39,967 [INFO] Computing image embeddings for the provided images...\n",
      "2025-02-13 10:15:39,972 [INFO] Image embeddings computed.\n"
     ]
    },
    {
     "name": "stdout",
     "output_type": "stream",
     "text": [
      "Predicting 1 masks\n",
      "Predicted 1 masks\n",
      "Predicting 1 masks\n",
      "Predicted 1 masks\n"
     ]
    },
    {
     "name": "stderr",
     "output_type": "stream",
     "text": [
      "2025-02-13 10:15:40,103 [INFO] Computing image embeddings for the provided images...\n",
      "2025-02-13 10:15:40,108 [INFO] Image embeddings computed.\n"
     ]
    },
    {
     "name": "stdout",
     "output_type": "stream",
     "text": [
      "Predicting 1 masks\n",
      "Predicted 1 masks\n"
     ]
    },
    {
     "name": "stderr",
     "output_type": "stream",
     "text": [
      "2025-02-13 10:15:40,306 [INFO] Computing image embeddings for the provided images...\n",
      "2025-02-13 10:15:40,311 [INFO] Image embeddings computed.\n",
      "2025-02-13 10:15:40,433 [INFO] Computing image embeddings for the provided images...\n",
      "2025-02-13 10:15:40,438 [INFO] Image embeddings computed.\n"
     ]
    },
    {
     "name": "stdout",
     "output_type": "stream",
     "text": [
      "Predicting 1 masks\n",
      "Predicted 1 masks\n",
      "Predicting 1 masks\n",
      "Predicted 1 masks\n"
     ]
    },
    {
     "name": "stderr",
     "output_type": "stream",
     "text": [
      "2025-02-13 10:15:40,566 [INFO] Computing image embeddings for the provided images...\n",
      "2025-02-13 10:15:40,571 [INFO] Image embeddings computed.\n",
      "2025-02-13 10:15:40,707 [INFO] Computing image embeddings for the provided images...\n",
      "2025-02-13 10:15:40,712 [INFO] Image embeddings computed.\n"
     ]
    },
    {
     "name": "stdout",
     "output_type": "stream",
     "text": [
      "Predicting 1 masks\n",
      "Predicted 1 masks\n",
      "Predicting 1 masks\n",
      "Predicted 1 masks\n"
     ]
    },
    {
     "name": "stderr",
     "output_type": "stream",
     "text": [
      "2025-02-13 10:15:40,841 [INFO] Computing image embeddings for the provided images...\n",
      "2025-02-13 10:15:40,846 [INFO] Image embeddings computed.\n",
      "2025-02-13 10:15:41,028 [INFO] Computing image embeddings for the provided images...\n",
      "2025-02-13 10:15:41,033 [INFO] Image embeddings computed.\n"
     ]
    },
    {
     "name": "stdout",
     "output_type": "stream",
     "text": [
      "Predicting 1 masks\n",
      "Predicted 1 masks\n",
      "Predicting 1 masks\n"
     ]
    },
    {
     "name": "stderr",
     "output_type": "stream",
     "text": [
      "2025-02-13 10:15:41,166 [INFO] Computing image embeddings for the provided images...\n",
      "2025-02-13 10:15:41,171 [INFO] Image embeddings computed.\n"
     ]
    },
    {
     "name": "stdout",
     "output_type": "stream",
     "text": [
      "Predicted 1 masks\n",
      "Predicting 1 masks\n",
      "Predicted 1 masks\n"
     ]
    },
    {
     "name": "stderr",
     "output_type": "stream",
     "text": [
      "2025-02-13 10:15:41,301 [INFO] Computing image embeddings for the provided images...\n",
      "2025-02-13 10:15:41,306 [INFO] Image embeddings computed.\n",
      "2025-02-13 10:15:41,444 [INFO] Computing image embeddings for the provided images...\n",
      "2025-02-13 10:15:41,449 [INFO] Image embeddings computed.\n"
     ]
    },
    {
     "name": "stdout",
     "output_type": "stream",
     "text": [
      "Predicting 1 masks\n",
      "Predicted 1 masks\n",
      "Predicting 1 masks\n",
      "Predicted 1 masks\n"
     ]
    },
    {
     "name": "stderr",
     "output_type": "stream",
     "text": [
      "2025-02-13 10:15:41,573 [INFO] Computing image embeddings for the provided images...\n",
      "2025-02-13 10:15:41,578 [INFO] Image embeddings computed.\n",
      "2025-02-13 10:15:41,767 [INFO] Computing image embeddings for the provided images...\n"
     ]
    },
    {
     "name": "stdout",
     "output_type": "stream",
     "text": [
      "Predicting 1 masks\n",
      "Predicted 1 masks\n",
      "Predicting 1 masks\n"
     ]
    },
    {
     "name": "stderr",
     "output_type": "stream",
     "text": [
      "2025-02-13 10:15:41,773 [INFO] Image embeddings computed.\n",
      "2025-02-13 10:15:41,900 [INFO] Computing image embeddings for the provided images...\n",
      "2025-02-13 10:15:41,906 [INFO] Image embeddings computed.\n"
     ]
    },
    {
     "name": "stdout",
     "output_type": "stream",
     "text": [
      "Predicted 1 masks\n",
      "Predicting 1 masks\n",
      "Predicted 1 masks\n"
     ]
    },
    {
     "name": "stderr",
     "output_type": "stream",
     "text": [
      "2025-02-13 10:15:42,038 [INFO] Computing image embeddings for the provided images...\n",
      "2025-02-13 10:15:42,043 [INFO] Image embeddings computed.\n",
      "2025-02-13 10:15:42,172 [INFO] Computing image embeddings for the provided images...\n",
      "2025-02-13 10:15:42,177 [INFO] Image embeddings computed.\n"
     ]
    },
    {
     "name": "stdout",
     "output_type": "stream",
     "text": [
      "Predicting 1 masks\n",
      "Predicted 1 masks\n",
      "Predicting 1 masks\n",
      "Predicted 1 masks\n"
     ]
    },
    {
     "name": "stderr",
     "output_type": "stream",
     "text": [
      "2025-02-13 10:15:42,307 [INFO] Computing image embeddings for the provided images...\n",
      "2025-02-13 10:15:42,312 [INFO] Image embeddings computed.\n",
      "2025-02-13 10:15:42,500 [INFO] Computing image embeddings for the provided images...\n"
     ]
    },
    {
     "name": "stdout",
     "output_type": "stream",
     "text": [
      "Predicting 1 masks\n",
      "Predicted 1 masks\n",
      "Predicting 1 masks\n"
     ]
    },
    {
     "name": "stderr",
     "output_type": "stream",
     "text": [
      "2025-02-13 10:15:42,506 [INFO] Image embeddings computed.\n",
      "2025-02-13 10:15:42,638 [INFO] Computing image embeddings for the provided images...\n",
      "2025-02-13 10:15:42,643 [INFO] Image embeddings computed.\n"
     ]
    },
    {
     "name": "stdout",
     "output_type": "stream",
     "text": [
      "Predicted 1 masks\n",
      "Predicting 1 masks\n",
      "Predicted 1 masks\n"
     ]
    },
    {
     "name": "stderr",
     "output_type": "stream",
     "text": [
      "2025-02-13 10:15:42,771 [INFO] Computing image embeddings for the provided images...\n",
      "2025-02-13 10:15:42,776 [INFO] Image embeddings computed.\n",
      "2025-02-13 10:15:42,902 [INFO] Computing image embeddings for the provided images...\n",
      "2025-02-13 10:15:42,907 [INFO] Image embeddings computed.\n"
     ]
    },
    {
     "name": "stdout",
     "output_type": "stream",
     "text": [
      "Predicting 1 masks\n",
      "Predicted 1 masks\n",
      "Predicting 1 masks\n",
      "Predicted 1 masks\n"
     ]
    },
    {
     "name": "stderr",
     "output_type": "stream",
     "text": [
      "2025-02-13 10:15:43,035 [INFO] Computing image embeddings for the provided images...\n",
      "2025-02-13 10:15:43,040 [INFO] Image embeddings computed.\n",
      "2025-02-13 10:15:43,232 [INFO] Computing image embeddings for the provided images...\n"
     ]
    },
    {
     "name": "stdout",
     "output_type": "stream",
     "text": [
      "Predicting 1 masks\n",
      "Predicted 1 masks\n",
      "Predicting 1 masks\n"
     ]
    },
    {
     "name": "stderr",
     "output_type": "stream",
     "text": [
      "2025-02-13 10:15:43,237 [INFO] Image embeddings computed.\n",
      "2025-02-13 10:15:43,365 [INFO] Computing image embeddings for the provided images...\n",
      "2025-02-13 10:15:43,370 [INFO] Image embeddings computed.\n"
     ]
    },
    {
     "name": "stdout",
     "output_type": "stream",
     "text": [
      "Predicted 1 masks\n",
      "Predicting 1 masks\n",
      "Predicted 1 masks\n"
     ]
    },
    {
     "name": "stderr",
     "output_type": "stream",
     "text": [
      "2025-02-13 10:15:43,498 [INFO] Computing image embeddings for the provided images...\n",
      "2025-02-13 10:15:43,503 [INFO] Image embeddings computed.\n",
      "2025-02-13 10:15:43,628 [INFO] Computing image embeddings for the provided images...\n",
      "2025-02-13 10:15:43,633 [INFO] Image embeddings computed.\n"
     ]
    },
    {
     "name": "stdout",
     "output_type": "stream",
     "text": [
      "Predicting 1 masks\n",
      "Predicted 1 masks\n",
      "Predicting 1 masks\n",
      "Predicted 1 masks\n"
     ]
    },
    {
     "name": "stderr",
     "output_type": "stream",
     "text": [
      "2025-02-13 10:15:43,767 [INFO] Computing image embeddings for the provided images...\n",
      "2025-02-13 10:15:43,772 [INFO] Image embeddings computed.\n"
     ]
    },
    {
     "name": "stdout",
     "output_type": "stream",
     "text": [
      "Predicting 1 masks\n",
      "Predicted 1 masks\n",
      "Predicting 1 masks\n"
     ]
    },
    {
     "name": "stderr",
     "output_type": "stream",
     "text": [
      "2025-02-13 10:15:43,967 [INFO] Computing image embeddings for the provided images...\n",
      "2025-02-13 10:15:43,972 [INFO] Image embeddings computed.\n",
      "2025-02-13 10:15:44,099 [INFO] Computing image embeddings for the provided images...\n",
      "2025-02-13 10:15:44,104 [INFO] Image embeddings computed.\n"
     ]
    },
    {
     "name": "stdout",
     "output_type": "stream",
     "text": [
      "Predicted 1 masks\n",
      "Predicting 1 masks\n",
      "Predicted 1 masks\n"
     ]
    },
    {
     "name": "stderr",
     "output_type": "stream",
     "text": [
      "2025-02-13 10:15:44,232 [INFO] Computing image embeddings for the provided images...\n",
      "2025-02-13 10:15:44,237 [INFO] Image embeddings computed.\n",
      "2025-02-13 10:15:44,365 [INFO] Computing image embeddings for the provided images...\n",
      "2025-02-13 10:15:44,370 [INFO] Image embeddings computed.\n"
     ]
    },
    {
     "name": "stdout",
     "output_type": "stream",
     "text": [
      "Predicting 1 masks\n",
      "Predicted 1 masks\n",
      "Predicting 1 masks\n",
      "Predicted 1 masks\n"
     ]
    },
    {
     "name": "stderr",
     "output_type": "stream",
     "text": [
      "2025-02-13 10:15:44,500 [INFO] Computing image embeddings for the provided images...\n",
      "2025-02-13 10:15:44,505 [INFO] Image embeddings computed.\n"
     ]
    },
    {
     "name": "stdout",
     "output_type": "stream",
     "text": [
      "Predicting 1 masks\n",
      "Predicted 1 masks\n"
     ]
    },
    {
     "name": "stderr",
     "output_type": "stream",
     "text": [
      "2025-02-13 10:15:44,710 [INFO] Computing image embeddings for the provided images...\n",
      "2025-02-13 10:15:44,715 [INFO] Image embeddings computed.\n",
      "2025-02-13 10:15:44,840 [INFO] Computing image embeddings for the provided images...\n",
      "2025-02-13 10:15:44,845 [INFO] Image embeddings computed.\n"
     ]
    },
    {
     "name": "stdout",
     "output_type": "stream",
     "text": [
      "Predicting 1 masks\n",
      "Predicted 1 masks\n",
      "Predicting 1 masks\n",
      "Predicted 1 masks\n"
     ]
    },
    {
     "name": "stderr",
     "output_type": "stream",
     "text": [
      "2025-02-13 10:15:44,974 [INFO] Computing image embeddings for the provided images...\n",
      "2025-02-13 10:15:44,979 [INFO] Image embeddings computed.\n",
      "2025-02-13 10:15:45,113 [INFO] Computing image embeddings for the provided images...\n",
      "2025-02-13 10:15:45,118 [INFO] Image embeddings computed.\n"
     ]
    },
    {
     "name": "stdout",
     "output_type": "stream",
     "text": [
      "Predicting 1 masks\n",
      "Predicted 1 masks\n",
      "Predicting 1 masks\n",
      "Predicted 1 masks\n"
     ]
    },
    {
     "name": "stderr",
     "output_type": "stream",
     "text": [
      "2025-02-13 10:15:45,254 [INFO] Computing image embeddings for the provided images...\n",
      "2025-02-13 10:15:45,259 [INFO] Image embeddings computed.\n"
     ]
    },
    {
     "name": "stdout",
     "output_type": "stream",
     "text": [
      "Predicting 1 masks\n",
      "Predicted 1 masks\n"
     ]
    },
    {
     "name": "stderr",
     "output_type": "stream",
     "text": [
      "2025-02-13 10:15:45,458 [INFO] Computing image embeddings for the provided images...\n",
      "2025-02-13 10:15:45,463 [INFO] Image embeddings computed.\n",
      "2025-02-13 10:15:45,590 [INFO] Computing image embeddings for the provided images...\n",
      "2025-02-13 10:15:45,595 [INFO] Image embeddings computed.\n"
     ]
    },
    {
     "name": "stdout",
     "output_type": "stream",
     "text": [
      "Predicting 1 masks\n",
      "Predicted 1 masks\n",
      "Predicting 1 masks\n",
      "Predicted 1 masks\n"
     ]
    },
    {
     "name": "stderr",
     "output_type": "stream",
     "text": [
      "2025-02-13 10:15:45,722 [INFO] Computing image embeddings for the provided images...\n",
      "2025-02-13 10:15:45,727 [INFO] Image embeddings computed.\n",
      "2025-02-13 10:15:45,854 [INFO] Computing image embeddings for the provided images...\n",
      "2025-02-13 10:15:45,859 [INFO] Image embeddings computed.\n"
     ]
    },
    {
     "name": "stdout",
     "output_type": "stream",
     "text": [
      "Predicting 1 masks\n",
      "Predicted 1 masks\n",
      "Predicting 1 masks\n",
      "Predicted 1 masks\n"
     ]
    },
    {
     "name": "stderr",
     "output_type": "stream",
     "text": [
      "2025-02-13 10:15:45,991 [INFO] Computing image embeddings for the provided images...\n",
      "2025-02-13 10:15:45,996 [INFO] Image embeddings computed.\n"
     ]
    },
    {
     "name": "stdout",
     "output_type": "stream",
     "text": [
      "Predicting 1 masks\n",
      "Predicted 1 masks\n",
      "Predicting 1 masks\n"
     ]
    },
    {
     "name": "stderr",
     "output_type": "stream",
     "text": [
      "2025-02-13 10:15:46,190 [INFO] Computing image embeddings for the provided images...\n",
      "2025-02-13 10:15:46,195 [INFO] Image embeddings computed.\n",
      "2025-02-13 10:15:46,324 [INFO] Computing image embeddings for the provided images...\n",
      "2025-02-13 10:15:46,329 [INFO] Image embeddings computed.\n"
     ]
    },
    {
     "name": "stdout",
     "output_type": "stream",
     "text": [
      "Predicted 1 masks\n",
      "Predicting 1 masks\n",
      "Predicted 1 masks\n"
     ]
    },
    {
     "name": "stderr",
     "output_type": "stream",
     "text": [
      "2025-02-13 10:15:46,459 [INFO] Computing image embeddings for the provided images...\n",
      "2025-02-13 10:15:46,464 [INFO] Image embeddings computed.\n",
      "2025-02-13 10:15:46,598 [INFO] Computing image embeddings for the provided images...\n",
      "2025-02-13 10:15:46,603 [INFO] Image embeddings computed.\n"
     ]
    },
    {
     "name": "stdout",
     "output_type": "stream",
     "text": [
      "Predicting 1 masks\n",
      "Predicted 1 masks\n",
      "Predicting 1 masks\n",
      "Predicted 1 masks\n"
     ]
    },
    {
     "name": "stderr",
     "output_type": "stream",
     "text": [
      "2025-02-13 10:15:46,737 [INFO] Computing image embeddings for the provided images...\n",
      "2025-02-13 10:15:46,742 [INFO] Image embeddings computed.\n",
      "2025-02-13 10:15:46,933 [INFO] Computing image embeddings for the provided images...\n"
     ]
    },
    {
     "name": "stdout",
     "output_type": "stream",
     "text": [
      "Predicting 1 masks\n",
      "Predicted 1 masks\n",
      "Predicting 1 masks\n"
     ]
    },
    {
     "name": "stderr",
     "output_type": "stream",
     "text": [
      "2025-02-13 10:15:46,939 [INFO] Image embeddings computed.\n",
      "2025-02-13 10:15:47,067 [INFO] Computing image embeddings for the provided images...\n",
      "2025-02-13 10:15:47,072 [INFO] Image embeddings computed.\n"
     ]
    },
    {
     "name": "stdout",
     "output_type": "stream",
     "text": [
      "Predicted 1 masks\n",
      "Predicting 1 masks\n",
      "Predicted 1 masks\n"
     ]
    },
    {
     "name": "stderr",
     "output_type": "stream",
     "text": [
      "2025-02-13 10:15:47,200 [INFO] Computing image embeddings for the provided images...\n",
      "2025-02-13 10:15:47,205 [INFO] Image embeddings computed.\n",
      "2025-02-13 10:15:47,337 [INFO] Computing image embeddings for the provided images...\n",
      "2025-02-13 10:15:47,342 [INFO] Image embeddings computed.\n"
     ]
    },
    {
     "name": "stdout",
     "output_type": "stream",
     "text": [
      "Predicting 1 masks\n",
      "Predicted 1 masks\n",
      "Predicting 1 masks\n",
      "Predicted 1 masks\n"
     ]
    },
    {
     "name": "stderr",
     "output_type": "stream",
     "text": [
      "2025-02-13 10:15:47,473 [INFO] Computing image embeddings for the provided images...\n",
      "2025-02-13 10:15:47,478 [INFO] Image embeddings computed.\n"
     ]
    },
    {
     "name": "stdout",
     "output_type": "stream",
     "text": [
      "Predicting 1 masks\n",
      "Predicted 1 masks\n",
      "Predicting 1 masks\n"
     ]
    },
    {
     "name": "stderr",
     "output_type": "stream",
     "text": [
      "2025-02-13 10:15:47,671 [INFO] Computing image embeddings for the provided images...\n",
      "2025-02-13 10:15:47,677 [INFO] Image embeddings computed.\n",
      "2025-02-13 10:15:47,804 [INFO] Computing image embeddings for the provided images...\n",
      "2025-02-13 10:15:47,809 [INFO] Image embeddings computed.\n"
     ]
    },
    {
     "name": "stdout",
     "output_type": "stream",
     "text": [
      "Predicted 1 masks\n",
      "Predicting 1 masks\n",
      "Predicted 1 masks\n"
     ]
    },
    {
     "name": "stderr",
     "output_type": "stream",
     "text": [
      "2025-02-13 10:15:47,939 [INFO] Computing image embeddings for the provided images...\n",
      "2025-02-13 10:15:47,944 [INFO] Image embeddings computed.\n",
      "2025-02-13 10:15:48,082 [INFO] Computing image embeddings for the provided images...\n",
      "2025-02-13 10:15:48,087 [INFO] Image embeddings computed.\n"
     ]
    },
    {
     "name": "stdout",
     "output_type": "stream",
     "text": [
      "Predicting 1 masks\n",
      "Predicted 1 masks\n",
      "Predicting 1 masks\n",
      "Predicted 1 masks\n"
     ]
    },
    {
     "name": "stderr",
     "output_type": "stream",
     "text": [
      "2025-02-13 10:15:48,222 [INFO] Computing image embeddings for the provided images...\n",
      "2025-02-13 10:15:48,228 [INFO] Image embeddings computed.\n"
     ]
    },
    {
     "name": "stdout",
     "output_type": "stream",
     "text": [
      "Predicting 1 masks\n",
      "Predicted 1 masks\n",
      "Predicting 1 masks\n"
     ]
    },
    {
     "name": "stderr",
     "output_type": "stream",
     "text": [
      "2025-02-13 10:15:48,423 [INFO] Computing image embeddings for the provided images...\n",
      "2025-02-13 10:15:48,428 [INFO] Image embeddings computed.\n",
      "2025-02-13 10:15:48,555 [INFO] Computing image embeddings for the provided images...\n",
      "2025-02-13 10:15:48,560 [INFO] Image embeddings computed.\n"
     ]
    },
    {
     "name": "stdout",
     "output_type": "stream",
     "text": [
      "Predicted 1 masks\n",
      "Predicting 1 masks\n",
      "Predicted 1 masks\n"
     ]
    },
    {
     "name": "stderr",
     "output_type": "stream",
     "text": [
      "2025-02-13 10:15:48,688 [INFO] Computing image embeddings for the provided images...\n",
      "2025-02-13 10:15:48,693 [INFO] Image embeddings computed.\n",
      "2025-02-13 10:15:48,825 [INFO] Computing image embeddings for the provided images...\n",
      "2025-02-13 10:15:48,831 [INFO] Image embeddings computed.\n"
     ]
    },
    {
     "name": "stdout",
     "output_type": "stream",
     "text": [
      "Predicting 1 masks\n",
      "Predicted 1 masks\n",
      "Predicting 1 masks\n",
      "Predicted 1 masks\n"
     ]
    },
    {
     "name": "stderr",
     "output_type": "stream",
     "text": [
      "2025-02-13 10:15:48,965 [INFO] Computing image embeddings for the provided images...\n",
      "2025-02-13 10:15:48,971 [INFO] Image embeddings computed.\n"
     ]
    },
    {
     "name": "stdout",
     "output_type": "stream",
     "text": [
      "Predicting 1 masks\n",
      "Predicted 1 masks\n"
     ]
    },
    {
     "name": "stderr",
     "output_type": "stream",
     "text": [
      "2025-02-13 10:15:49,170 [INFO] Computing image embeddings for the provided images...\n",
      "2025-02-13 10:15:49,175 [INFO] Image embeddings computed.\n",
      "2025-02-13 10:15:49,304 [INFO] Computing image embeddings for the provided images...\n",
      "2025-02-13 10:15:49,310 [INFO] Image embeddings computed.\n"
     ]
    },
    {
     "name": "stdout",
     "output_type": "stream",
     "text": [
      "Predicting 1 masks\n",
      "Predicted 1 masks\n",
      "Predicting 1 masks\n",
      "Predicted 1 masks\n"
     ]
    },
    {
     "name": "stderr",
     "output_type": "stream",
     "text": [
      "2025-02-13 10:15:49,440 [INFO] Computing image embeddings for the provided images...\n",
      "2025-02-13 10:15:49,446 [INFO] Image embeddings computed.\n",
      "2025-02-13 10:15:49,575 [INFO] Computing image embeddings for the provided images...\n",
      "2025-02-13 10:15:49,580 [INFO] Image embeddings computed.\n"
     ]
    },
    {
     "name": "stdout",
     "output_type": "stream",
     "text": [
      "Predicting 1 masks\n",
      "Predicted 1 masks\n",
      "Predicting 1 masks\n",
      "Predicted 1 masks\n"
     ]
    },
    {
     "name": "stderr",
     "output_type": "stream",
     "text": [
      "2025-02-13 10:15:49,711 [INFO] Computing image embeddings for the provided images...\n",
      "2025-02-13 10:15:49,716 [INFO] Image embeddings computed.\n"
     ]
    },
    {
     "name": "stdout",
     "output_type": "stream",
     "text": [
      "Predicting 1 masks\n",
      "Predicted 1 masks\n",
      "Predicting 1 masks\n"
     ]
    },
    {
     "name": "stderr",
     "output_type": "stream",
     "text": [
      "2025-02-13 10:15:49,911 [INFO] Computing image embeddings for the provided images...\n",
      "2025-02-13 10:15:49,916 [INFO] Image embeddings computed.\n",
      "2025-02-13 10:15:50,045 [INFO] Computing image embeddings for the provided images...\n",
      "2025-02-13 10:15:50,050 [INFO] Image embeddings computed.\n"
     ]
    },
    {
     "name": "stdout",
     "output_type": "stream",
     "text": [
      "Predicted 1 masks\n",
      "Predicting 1 masks\n",
      "Predicted 1 masks\n"
     ]
    },
    {
     "name": "stderr",
     "output_type": "stream",
     "text": [
      "2025-02-13 10:15:50,176 [INFO] Computing image embeddings for the provided images...\n",
      "2025-02-13 10:15:50,181 [INFO] Image embeddings computed.\n"
     ]
    },
    {
     "name": "stdout",
     "output_type": "stream",
     "text": [
      "Predicting 1 masks\n",
      "Predicted 1 masks\n"
     ]
    },
    {
     "name": "stderr",
     "output_type": "stream",
     "text": [
      "2025-02-13 10:15:50,603 [INFO] Computing image embeddings for the provided images...\n",
      "2025-02-13 10:15:50,608 [INFO] Image embeddings computed.\n",
      "2025-02-13 10:15:50,735 [INFO] Computing image embeddings for the provided images...\n",
      "2025-02-13 10:15:50,740 [INFO] Image embeddings computed.\n"
     ]
    },
    {
     "name": "stdout",
     "output_type": "stream",
     "text": [
      "Predicting 1 masks\n",
      "Predicted 1 masks\n",
      "Predicting 1 masks\n",
      "Predicted 1 masks\n"
     ]
    },
    {
     "name": "stderr",
     "output_type": "stream",
     "text": [
      "2025-02-13 10:15:50,866 [INFO] Computing image embeddings for the provided images...\n",
      "2025-02-13 10:15:50,871 [INFO] Image embeddings computed.\n",
      "2025-02-13 10:15:51,014 [INFO] Computing image embeddings for the provided images...\n",
      "2025-02-13 10:15:51,019 [INFO] Image embeddings computed.\n"
     ]
    },
    {
     "name": "stdout",
     "output_type": "stream",
     "text": [
      "Predicting 1 masks\n",
      "Predicted 1 masks\n",
      "Predicting 1 masks\n",
      "Predicted 1 masks\n"
     ]
    },
    {
     "name": "stderr",
     "output_type": "stream",
     "text": [
      "2025-02-13 10:15:51,149 [INFO] Computing image embeddings for the provided images...\n",
      "2025-02-13 10:15:51,154 [INFO] Image embeddings computed.\n",
      "2025-02-13 10:15:51,335 [INFO] Computing image embeddings for the provided images...\n",
      "2025-02-13 10:15:51,340 [INFO] Image embeddings computed.\n"
     ]
    },
    {
     "name": "stdout",
     "output_type": "stream",
     "text": [
      "Predicting 1 masks\n",
      "Predicted 1 masks\n",
      "Predicting 1 masks\n"
     ]
    },
    {
     "name": "stderr",
     "output_type": "stream",
     "text": [
      "2025-02-13 10:15:51,467 [INFO] Computing image embeddings for the provided images...\n",
      "2025-02-13 10:15:51,472 [INFO] Image embeddings computed.\n"
     ]
    },
    {
     "name": "stdout",
     "output_type": "stream",
     "text": [
      "Predicted 1 masks\n",
      "Predicting 1 masks\n",
      "Predicted 1 masks\n"
     ]
    },
    {
     "name": "stderr",
     "output_type": "stream",
     "text": [
      "2025-02-13 10:15:51,600 [INFO] Computing image embeddings for the provided images...\n",
      "2025-02-13 10:15:51,605 [INFO] Image embeddings computed.\n",
      "2025-02-13 10:15:51,736 [INFO] Computing image embeddings for the provided images...\n",
      "2025-02-13 10:15:51,741 [INFO] Image embeddings computed.\n"
     ]
    },
    {
     "name": "stdout",
     "output_type": "stream",
     "text": [
      "Predicting 1 masks\n",
      "Predicted 1 masks\n",
      "Predicting 1 masks\n",
      "Predicted 1 masks\n"
     ]
    },
    {
     "name": "stderr",
     "output_type": "stream",
     "text": [
      "2025-02-13 10:15:51,872 [INFO] Computing image embeddings for the provided images...\n",
      "2025-02-13 10:15:51,876 [INFO] Image embeddings computed.\n",
      "2025-02-13 10:15:52,068 [INFO] Computing image embeddings for the provided images...\n"
     ]
    },
    {
     "name": "stdout",
     "output_type": "stream",
     "text": [
      "Predicting 1 masks\n",
      "Predicted 1 masks\n",
      "Predicting 1 masks\n"
     ]
    },
    {
     "name": "stderr",
     "output_type": "stream",
     "text": [
      "2025-02-13 10:15:52,073 [INFO] Image embeddings computed.\n",
      "2025-02-13 10:15:52,203 [INFO] Computing image embeddings for the provided images...\n",
      "2025-02-13 10:15:52,208 [INFO] Image embeddings computed.\n"
     ]
    },
    {
     "name": "stdout",
     "output_type": "stream",
     "text": [
      "Predicted 1 masks\n",
      "Predicting 1 masks\n",
      "Predicted 1 masks\n"
     ]
    },
    {
     "name": "stderr",
     "output_type": "stream",
     "text": [
      "2025-02-13 10:15:52,339 [INFO] Computing image embeddings for the provided images...\n",
      "2025-02-13 10:15:52,344 [INFO] Image embeddings computed.\n",
      "2025-02-13 10:15:52,483 [INFO] Computing image embeddings for the provided images...\n",
      "2025-02-13 10:15:52,488 [INFO] Image embeddings computed.\n"
     ]
    },
    {
     "name": "stdout",
     "output_type": "stream",
     "text": [
      "Predicting 1 masks\n",
      "Predicted 1 masks\n",
      "Predicting 1 masks\n",
      "Predicted 1 masks\n"
     ]
    },
    {
     "name": "stderr",
     "output_type": "stream",
     "text": [
      "2025-02-13 10:15:52,616 [INFO] Computing image embeddings for the provided images...\n",
      "2025-02-13 10:15:52,621 [INFO] Image embeddings computed.\n",
      "2025-02-13 10:15:52,811 [INFO] Computing image embeddings for the provided images...\n"
     ]
    },
    {
     "name": "stdout",
     "output_type": "stream",
     "text": [
      "Predicting 1 masks\n",
      "Predicted 1 masks\n",
      "Predicting 1 masks\n"
     ]
    },
    {
     "name": "stderr",
     "output_type": "stream",
     "text": [
      "2025-02-13 10:15:52,816 [INFO] Image embeddings computed.\n",
      "2025-02-13 10:15:52,948 [INFO] Computing image embeddings for the provided images...\n",
      "2025-02-13 10:15:52,953 [INFO] Image embeddings computed.\n"
     ]
    },
    {
     "name": "stdout",
     "output_type": "stream",
     "text": [
      "Predicted 1 masks\n",
      "Predicting 1 masks\n",
      "Predicted 1 masks\n"
     ]
    },
    {
     "name": "stderr",
     "output_type": "stream",
     "text": [
      "2025-02-13 10:15:53,083 [INFO] Computing image embeddings for the provided images...\n",
      "2025-02-13 10:15:53,088 [INFO] Image embeddings computed.\n",
      "2025-02-13 10:15:53,222 [INFO] Computing image embeddings for the provided images...\n",
      "2025-02-13 10:15:53,227 [INFO] Image embeddings computed.\n"
     ]
    },
    {
     "name": "stdout",
     "output_type": "stream",
     "text": [
      "Predicting 1 masks\n",
      "Predicted 1 masks\n",
      "Predicting 1 masks\n",
      "Predicted 1 masks\n"
     ]
    },
    {
     "name": "stderr",
     "output_type": "stream",
     "text": [
      "2025-02-13 10:15:53,359 [INFO] Computing image embeddings for the provided images...\n",
      "2025-02-13 10:15:53,364 [INFO] Image embeddings computed.\n"
     ]
    },
    {
     "name": "stdout",
     "output_type": "stream",
     "text": [
      "Predicting 1 masks\n",
      "Predicted 1 masks\n",
      "Predicting 1 masks\n"
     ]
    },
    {
     "name": "stderr",
     "output_type": "stream",
     "text": [
      "2025-02-13 10:15:53,558 [INFO] Computing image embeddings for the provided images...\n",
      "2025-02-13 10:15:53,563 [INFO] Image embeddings computed.\n",
      "2025-02-13 10:15:53,694 [INFO] Computing image embeddings for the provided images...\n",
      "2025-02-13 10:15:53,699 [INFO] Image embeddings computed.\n"
     ]
    },
    {
     "name": "stdout",
     "output_type": "stream",
     "text": [
      "Predicted 1 masks\n",
      "Predicting 1 masks\n",
      "Predicted 1 masks\n"
     ]
    },
    {
     "name": "stderr",
     "output_type": "stream",
     "text": [
      "2025-02-13 10:15:53,824 [INFO] Computing image embeddings for the provided images...\n",
      "2025-02-13 10:15:53,829 [INFO] Image embeddings computed.\n",
      "2025-02-13 10:15:53,957 [INFO] Computing image embeddings for the provided images...\n",
      "2025-02-13 10:15:53,962 [INFO] Image embeddings computed.\n"
     ]
    },
    {
     "name": "stdout",
     "output_type": "stream",
     "text": [
      "Predicting 1 masks\n",
      "Predicted 1 masks\n",
      "Predicting 1 masks\n",
      "Predicted 1 masks\n"
     ]
    },
    {
     "name": "stderr",
     "output_type": "stream",
     "text": [
      "2025-02-13 10:15:54,095 [INFO] Computing image embeddings for the provided images...\n",
      "2025-02-13 10:15:54,100 [INFO] Image embeddings computed.\n"
     ]
    },
    {
     "name": "stdout",
     "output_type": "stream",
     "text": [
      "Predicting 1 masks\n",
      "Predicted 1 masks\n"
     ]
    },
    {
     "name": "stderr",
     "output_type": "stream",
     "text": [
      "2025-02-13 10:15:54,300 [INFO] Computing image embeddings for the provided images...\n",
      "2025-02-13 10:15:54,305 [INFO] Image embeddings computed.\n",
      "2025-02-13 10:15:54,440 [INFO] Computing image embeddings for the provided images...\n",
      "2025-02-13 10:15:54,445 [INFO] Image embeddings computed.\n"
     ]
    },
    {
     "name": "stdout",
     "output_type": "stream",
     "text": [
      "Predicting 1 masks\n",
      "Predicted 1 masks\n",
      "Predicting 1 masks\n",
      "Predicted 1 masks\n"
     ]
    },
    {
     "name": "stderr",
     "output_type": "stream",
     "text": [
      "2025-02-13 10:15:54,573 [INFO] Computing image embeddings for the provided images...\n",
      "2025-02-13 10:15:54,578 [INFO] Image embeddings computed.\n",
      "2025-02-13 10:15:54,711 [INFO] Computing image embeddings for the provided images...\n",
      "2025-02-13 10:15:54,716 [INFO] Image embeddings computed.\n"
     ]
    },
    {
     "name": "stdout",
     "output_type": "stream",
     "text": [
      "Predicting 1 masks\n",
      "Predicted 1 masks\n",
      "Predicting 1 masks\n",
      "Predicted 1 masks\n"
     ]
    },
    {
     "name": "stderr",
     "output_type": "stream",
     "text": [
      "2025-02-13 10:15:54,853 [INFO] Computing image embeddings for the provided images...\n",
      "2025-02-13 10:15:54,858 [INFO] Image embeddings computed.\n"
     ]
    },
    {
     "name": "stdout",
     "output_type": "stream",
     "text": [
      "Predicting 1 masks\n",
      "Predicted 1 masks\n"
     ]
    },
    {
     "name": "stderr",
     "output_type": "stream",
     "text": [
      "2025-02-13 10:15:55,058 [INFO] Computing image embeddings for the provided images...\n",
      "2025-02-13 10:15:55,063 [INFO] Image embeddings computed.\n",
      "2025-02-13 10:15:55,186 [INFO] Computing image embeddings for the provided images...\n",
      "2025-02-13 10:15:55,191 [INFO] Image embeddings computed.\n"
     ]
    },
    {
     "name": "stdout",
     "output_type": "stream",
     "text": [
      "Predicting 1 masks\n",
      "Predicted 1 masks\n",
      "Predicting 1 masks\n",
      "Predicted 1 masks\n"
     ]
    },
    {
     "name": "stderr",
     "output_type": "stream",
     "text": [
      "2025-02-13 10:15:55,320 [INFO] Computing image embeddings for the provided images...\n",
      "2025-02-13 10:15:55,325 [INFO] Image embeddings computed.\n",
      "2025-02-13 10:15:55,455 [INFO] Computing image embeddings for the provided images...\n",
      "2025-02-13 10:15:55,460 [INFO] Image embeddings computed.\n"
     ]
    },
    {
     "name": "stdout",
     "output_type": "stream",
     "text": [
      "Predicting 1 masks\n",
      "Predicted 1 masks\n",
      "Predicting 1 masks\n",
      "Predicted 1 masks\n"
     ]
    },
    {
     "name": "stderr",
     "output_type": "stream",
     "text": [
      "2025-02-13 10:15:55,587 [INFO] Computing image embeddings for the provided images...\n",
      "2025-02-13 10:15:55,592 [INFO] Image embeddings computed.\n",
      "2025-02-13 10:15:55,778 [INFO] Computing image embeddings for the provided images...\n",
      "2025-02-13 10:15:55,783 [INFO] Image embeddings computed.\n"
     ]
    },
    {
     "name": "stdout",
     "output_type": "stream",
     "text": [
      "Predicting 1 masks\n",
      "Predicted 1 masks\n",
      "Predicting 1 masks\n"
     ]
    },
    {
     "name": "stderr",
     "output_type": "stream",
     "text": [
      "2025-02-13 10:15:55,911 [INFO] Computing image embeddings for the provided images...\n",
      "2025-02-13 10:15:55,916 [INFO] Image embeddings computed.\n"
     ]
    },
    {
     "name": "stdout",
     "output_type": "stream",
     "text": [
      "Predicted 1 masks\n",
      "Predicting 1 masks\n",
      "Predicted 1 masks\n"
     ]
    },
    {
     "name": "stderr",
     "output_type": "stream",
     "text": [
      "2025-02-13 10:15:56,041 [INFO] Computing image embeddings for the provided images...\n",
      "2025-02-13 10:15:56,046 [INFO] Image embeddings computed.\n",
      "2025-02-13 10:15:56,184 [INFO] Computing image embeddings for the provided images...\n",
      "2025-02-13 10:15:56,190 [INFO] Image embeddings computed.\n"
     ]
    },
    {
     "name": "stdout",
     "output_type": "stream",
     "text": [
      "Predicting 1 masks\n",
      "Predicted 1 masks\n",
      "Predicting 1 masks\n",
      "Predicted 1 masks\n"
     ]
    },
    {
     "name": "stderr",
     "output_type": "stream",
     "text": [
      "2025-02-13 10:15:56,323 [INFO] Computing image embeddings for the provided images...\n",
      "2025-02-13 10:15:56,328 [INFO] Image embeddings computed.\n"
     ]
    },
    {
     "name": "stdout",
     "output_type": "stream",
     "text": [
      "Predicting 1 masks\n",
      "Predicted 1 masks\n"
     ]
    },
    {
     "name": "stderr",
     "output_type": "stream",
     "text": [
      "2025-02-13 10:15:56,526 [INFO] Computing image embeddings for the provided images...\n",
      "2025-02-13 10:15:56,531 [INFO] Image embeddings computed.\n",
      "2025-02-13 10:15:56,660 [INFO] Computing image embeddings for the provided images...\n",
      "2025-02-13 10:15:56,665 [INFO] Image embeddings computed.\n"
     ]
    },
    {
     "name": "stdout",
     "output_type": "stream",
     "text": [
      "Predicting 1 masks\n",
      "Predicted 1 masks\n",
      "Predicting 1 masks\n",
      "Predicted 1 masks\n"
     ]
    },
    {
     "name": "stderr",
     "output_type": "stream",
     "text": [
      "2025-02-13 10:15:56,795 [INFO] Computing image embeddings for the provided images...\n",
      "2025-02-13 10:15:56,800 [INFO] Image embeddings computed.\n",
      "2025-02-13 10:15:56,939 [INFO] Computing image embeddings for the provided images...\n",
      "2025-02-13 10:15:56,944 [INFO] Image embeddings computed.\n"
     ]
    },
    {
     "name": "stdout",
     "output_type": "stream",
     "text": [
      "Predicting 1 masks\n",
      "Predicted 1 masks\n",
      "Predicting 1 masks\n",
      "Predicted 1 masks\n"
     ]
    },
    {
     "name": "stderr",
     "output_type": "stream",
     "text": [
      "2025-02-13 10:15:57,083 [INFO] Computing image embeddings for the provided images...\n",
      "2025-02-13 10:15:57,088 [INFO] Image embeddings computed.\n",
      "2025-02-13 10:15:57,279 [INFO] Computing image embeddings for the provided images...\n"
     ]
    },
    {
     "name": "stdout",
     "output_type": "stream",
     "text": [
      "Predicting 1 masks\n",
      "Predicted 1 masks\n",
      "Predicting 1 masks\n"
     ]
    },
    {
     "name": "stderr",
     "output_type": "stream",
     "text": [
      "2025-02-13 10:15:57,284 [INFO] Image embeddings computed.\n",
      "2025-02-13 10:15:57,410 [INFO] Computing image embeddings for the provided images...\n",
      "2025-02-13 10:15:57,415 [INFO] Image embeddings computed.\n"
     ]
    },
    {
     "name": "stdout",
     "output_type": "stream",
     "text": [
      "Predicted 1 masks\n",
      "Predicting 1 masks\n",
      "Predicted 1 masks\n"
     ]
    },
    {
     "name": "stderr",
     "output_type": "stream",
     "text": [
      "2025-02-13 10:15:57,545 [INFO] Computing image embeddings for the provided images...\n",
      "2025-02-13 10:15:57,550 [INFO] Image embeddings computed.\n",
      "2025-02-13 10:15:57,683 [INFO] Computing image embeddings for the provided images...\n",
      "2025-02-13 10:15:57,688 [INFO] Image embeddings computed.\n"
     ]
    },
    {
     "name": "stdout",
     "output_type": "stream",
     "text": [
      "Predicting 1 masks\n",
      "Predicted 1 masks\n",
      "Predicting 1 masks\n",
      "Predicted 1 masks\n"
     ]
    },
    {
     "name": "stderr",
     "output_type": "stream",
     "text": [
      "2025-02-13 10:15:57,817 [INFO] Computing image embeddings for the provided images...\n",
      "2025-02-13 10:15:57,822 [INFO] Image embeddings computed.\n"
     ]
    },
    {
     "name": "stdout",
     "output_type": "stream",
     "text": [
      "Predicting 1 masks\n",
      "Predicted 1 masks\n",
      "Predicting 1 masks\n"
     ]
    },
    {
     "name": "stderr",
     "output_type": "stream",
     "text": [
      "2025-02-13 10:15:58,016 [INFO] Computing image embeddings for the provided images...\n",
      "2025-02-13 10:15:58,021 [INFO] Image embeddings computed.\n",
      "2025-02-13 10:15:58,148 [INFO] Computing image embeddings for the provided images...\n",
      "2025-02-13 10:15:58,153 [INFO] Image embeddings computed.\n"
     ]
    },
    {
     "name": "stdout",
     "output_type": "stream",
     "text": [
      "Predicted 1 masks\n",
      "Predicting 1 masks\n",
      "Predicted 1 masks\n"
     ]
    },
    {
     "name": "stderr",
     "output_type": "stream",
     "text": [
      "2025-02-13 10:15:58,284 [INFO] Computing image embeddings for the provided images...\n",
      "2025-02-13 10:15:58,289 [INFO] Image embeddings computed.\n",
      "2025-02-13 10:15:58,426 [INFO] Computing image embeddings for the provided images...\n",
      "2025-02-13 10:15:58,431 [INFO] Image embeddings computed.\n"
     ]
    },
    {
     "name": "stdout",
     "output_type": "stream",
     "text": [
      "Predicting 1 masks\n",
      "Predicted 1 masks\n",
      "Predicting 1 masks\n",
      "Predicted 1 masks\n"
     ]
    },
    {
     "name": "stderr",
     "output_type": "stream",
     "text": [
      "2025-02-13 10:15:58,562 [INFO] Computing image embeddings for the provided images...\n",
      "2025-02-13 10:15:58,567 [INFO] Image embeddings computed.\n"
     ]
    },
    {
     "name": "stdout",
     "output_type": "stream",
     "text": [
      "Predicting 1 masks\n",
      "Predicted 1 masks\n",
      "Using device: cuda\n",
      "Saved grid result to ./results/grid_202502_30_01226897440_8466bfd11056483698e082fced1b38ac.jpg\n",
      "Saved grid result to ./results/grid_car.jpeg\n",
      "Saved grid result to ./results/grid_202502_30_01226896371_3a7a24ca3fd043d3a3a764006dfdb6e6.jpg\n",
      "Saved grid result to ./results/grid_fruits.jpg\n",
      "Saved grid result to ./results/grid_food.jpg\n",
      "Saved grid result to ./results/grid_202502_30_01225815940_49ce32fdb81c4403ab4b31a52cb5e54c.jpg\n",
      "Saved grid result to ./results/grid_202502_30_01226895996_7e684ce29df64738a142414ef43421dc.jpg\n",
      "Saved grid result to ./results/grid_202502_30_01225815573_9258c2be1044485cad5d34a403a3623d.jpg\n",
      "Saved grid result to ./results/grid_202502_30_01226888252_d281bbdb27b54ee5b05ffb3809ae1ac1.jpg\n",
      "Saved grid result to ./results/grid_202502_30_01226898276_fb948faba7a54194b974ba18fe35782a.jpg\n",
      "Saved grid result to ./results/grid_202502_30_01226897516_602e7c1e7373432ba15817eda3b55289.jpg\n",
      "Saved grid result to ./results/grid_202502_30_01226891232_4dbeb179cbac4cfea9b6aa749ac09953.jpg\n",
      "Saved grid result to ./results/grid_202502_30_01226897463_edd8c4a6c1f14163941663ab7c79d66a.jpg\n",
      "Saved grid result to ./results/grid_202502_30_01226897975_afc534ff20a44527be7d403219bbebf9.jpg\n",
      "Saved grid result to ./results/grid_202502_30_01226892215_51cde6eaac0e473095918cbc202ca54f.jpg\n",
      "Saved grid result to ./results/grid_202502_30_01226891539_ecb270e04fa8475bab49a978f5416e45.jpg\n",
      "Saved grid result to ./results/grid_202502_30_01226896139_617023e7d99d4d0789c6b944cbe48100.jpg\n",
      "Saved grid result to ./results/grid_202502_30_01226898044_1aa8b575780f4e6aa88a1b5df56a5562.jpg\n",
      "Saved grid result to ./results/grid_202502_30_01226896139_d38ace71f0154dbfb6c22f51c84f4f29.jpg\n",
      "Saved grid result to ./results/grid_202502_30_01226895996_183c5ccebe85403e9b766289927bc52f.jpg\n",
      "Saved grid result to ./results/grid_202502_30_01226897774_e1012dd547b94ecd9488278b96dbb829.jpg\n",
      "Saved grid result to ./results/grid_202502_30_01225814635_0b40f14435a746828108476f6c20b364.jpg\n",
      "Saved grid result to ./results/grid_202502_30_01226897323_e5be0396e93147df9ea3f48022274275.jpg\n",
      "Saved grid result to ./results/grid_202502_30_01226896935_ea55e7ef87e341f49aa36326d9ea2319.jpg\n",
      "Saved grid result to ./results/grid_202502_30_01226888250_0c4825ada30748da95731445dd27e44d.jpg\n",
      "Saved grid result to ./results/grid_202502_30_01226895949_d684b95203704d28b59a9a2f0ce3b351.jpg\n",
      "Saved grid result to ./results/grid_202502_30_01225814760_9bd3a24137df40ceb951dcc620b2f1ac.jpg\n",
      "Saved grid result to ./results/grid_202502_30_01226894522_98f81ebc04284672abdf55e8f5e82350.jpg\n",
      "Saved grid result to ./results/grid_202502_30_01226898276_7cd62d75c3314a1eba534537d35d52b1.jpg\n",
      "Saved grid result to ./results/grid_202502_30_01225814731_bccd7707ae9f4416b40ef08cc5b1d038.jpg\n",
      "Saved grid result to ./results/grid_202502_30_01226898245_981e3060ea934773ab6498616f4b615a.jpg\n",
      "Saved grid result to ./results/grid_202502_30_01225814794_b820caa3d0614af2a55c4677e1b3f349.jpg\n",
      "Saved grid result to ./results/grid_202502_30_01226898979_c92d4c3831004fd592f071f4cc103bb9.jpg\n",
      "Saved grid result to ./results/grid_202502_30_01226898648_c0948566842c4224a5e73aac3c2b3e1f.jpg\n",
      "Saved grid result to ./results/grid_202502_30_01226898679_d055204b61c4473bab4e6248fa98e47f.jpg\n",
      "Saved grid result to ./results/grid_202502_30_01226888250_801a36b1b3c445cd86b2736b11bce7e0.jpg\n",
      "Saved grid result to ./results/grid_202502_30_01226898984_5c3c2416540246afba12d0569abd83a1.jpg\n",
      "Saved grid result to ./results/grid_202502_30_01226891777_e1db01443335442fbe7dfaaa8b34f960.jpg\n",
      "Saved grid result to ./results/grid_202502_30_01225814751_80551cf506ff4a2b921fd1b950857b84.jpg\n",
      "Saved grid result to ./results/grid_202502_30_01226892215_67017c700dc74349ae4042378d4fcd73.jpg\n",
      "Saved grid result to ./results/grid_202502_30_01225814749_0b752ab628654e08bc4c9c31223f7e4e.jpg\n",
      "Saved grid result to ./results/grid_202502_30_01226895573_19cb0e73c84846718cbf7380552ea6fa.jpg\n",
      "Saved grid result to ./results/grid_person.jpg\n",
      "Saved grid result to ./results/grid_202502_30_01226894868_f7c01f7b07d7498b943cd28382f03324.jpg\n",
      "Saved grid result to ./results/grid_202502_30_01226896034_da9b03f432c744af981adc5ca087c856.jpg\n",
      "Saved grid result to ./results/grid_202502_30_01226897657_c38512473b05463a8fa8fd97aeb31992.jpg\n",
      "Saved grid result to ./results/grid_202502_30_01226894444_55cf7f0f4796490299bb69528b110630.jpg\n",
      "Saved grid result to ./results/grid_202502_30_01226897943_ec7cfde61a8445f789f75d78e779cdf2.jpg\n",
      "Saved grid result to ./results/grid_202502_30_01226888332_cb296492bc5f4092b65f26efd47c4ce1.jpg\n",
      "Saved grid result to ./results/grid_202502_30_01226890628_99032ff7f621427ca82fb00e8677e0c7.jpg\n",
      "Saved grid result to ./results/grid_202502_30_01226898135_af2b509d39cf4a50b3902a1f8ba0d0c0.jpg\n",
      "Saved grid result to ./results/grid_202502_30_01225815463_340fae3825db4f028f3bbc0c1d73bd6b.jpg\n",
      "Saved grid result to ./results/grid_202502_30_01226898375_af89e73d66414729aae8a94fe2bed161.jpg\n",
      "Saved grid result to ./results/grid_202502_30_01226893041_0d7553d8a640454ba33a2b8a6f0d6a16.jpg\n",
      "Saved grid result to ./results/grid_202502_30_01226897015_f3ea50beefab4542a47daedcfc0bc50e.jpg\n",
      "Saved grid result to ./results/grid_202502_30_01226893037_45945b63d1114898907e4601e2934017.jpg\n",
      "Saved grid result to ./results/grid_202502_30_01225814760_8eaef067e49940e9a2ec5cedb892a41a.jpg\n",
      "Saved grid result to ./results/grid_202502_30_01225815253_c7aa2619c19c486dbffc315d2baa1e20.jpg\n",
      "Saved grid result to ./results/grid_202502_30_01226891539_7c2358da49ff42cf9d6994471bad84ec.jpg\n",
      "Saved grid result to ./results/grid_202502_30_01226896139_cfdbdbd1e2b94327b6578e4157bf4ff1.jpg\n",
      "Saved grid result to ./results/grid_202502_30_01226888443_a9c921959fd545f2b59b99c322ec3556.jpg\n",
      "Saved grid result to ./results/grid_202502_30_01226888252_1b8f3188fc4a44769b89ab8c95a02827.jpg\n",
      "Saved grid result to ./results/grid_202502_30_01226898245_08bf9f20a69848d5a1c4894715381770.jpg\n",
      "Saved grid result to ./results/grid_202502_30_01226898245_785d3a903b9e4c7fb613ed4f0e0c8849.jpg\n",
      "Saved grid result to ./results/grid_202502_30_01226898439_7aa1309a8018487e817e4ed53f992b8b.jpg\n",
      "Saved grid result to ./results/grid_202502_30_01226899190_059752b613ee417fa9301d55ba731a03.jpg\n",
      "Saved grid result to ./results/grid_202502_30_01226889688_f78e51a2c3ff482ea68490bc827bb190.jpg\n",
      "Saved grid result to ./results/grid_202502_30_01226895996_26d328716a974eb28a329159ba495752.jpg\n",
      "Saved grid result to ./results/grid_202502_30_01226891708_4ced5c0efbe1442ba4fedeec52434835.jpg\n",
      "Saved grid result to ./results/grid_202502_30_01226897774_05e9cf6bad494c4b90038dd511320b1e.jpg\n",
      "Saved grid result to ./results/grid_202502_30_01226319911_3eb4cb5591474738aac123f558a26563.jpg\n",
      "Saved grid result to ./results/grid_202502_30_01225815620_220d0433bb06461faec35be77ea130c8.jpg\n",
      "Saved grid result to ./results/grid_202502_30_01226891681_39e73458088d4831ae644d05cda253e9.jpg\n",
      "Saved grid result to ./results/grid_202502_30_01226891777_29fc551c2a0a4ce1b6d1498e2ccdf83f.jpg\n",
      "Saved grid result to ./results/grid_202502_30_01226897209_75819ae931d14ee6b1869462d03cbc0d.jpg\n",
      "Saved grid result to ./results/grid_202502_30_01225814630_541c14e35b624316ac63c352612fbe4b.jpg\n",
      "Saved grid result to ./results/grid_202502_30_01226898021_c2b49ea5ae524e0b943918212723f8cf.jpg\n",
      "Saved grid result to ./results/grid_202502_30_01225814756_cbce279e0bf7467b9c6f0ec5c91986a3.jpg\n",
      "Saved grid result to ./results/grid_202502_30_01226898034_06ceff8cd4e34fab847e4aba4a95c61b.jpg\n",
      "Saved grid result to ./results/grid_202502_30_01226895349_8fd5b931c44c433f8c630811f84866a5.jpg\n",
      "Saved grid result to ./results/grid_202502_30_01226897975_fe82297139dc40e19e38b9fc7383dea9.jpg\n",
      "Saved grid result to ./results/grid_202502_30_01226896264_d12b128149334c06acd37c9d95ba42a3.jpg\n",
      "Saved grid result to ./results/grid_202502_30_01225815939_be982820b25b47839843f21c9bdc5f32.jpg\n",
      "Saved grid result to ./results/grid_202502_30_01226889688_3823f8897b9f4cdcbd3878d5de6b902f.jpg\n",
      "Saved grid result to ./results/grid_202502_30_01226895746_dfcb7dc5074d40dc947dd2ee7fd4d6fc.jpg\n",
      "Saved grid result to ./results/grid_202502_30_01226889673_dc324863625748bb99c258581e6ead11.jpg\n",
      "Saved grid result to ./results/grid_202502_30_01226898390_1760f2ca5bc0474d83b757f70f85e8c5.jpg\n",
      "Saved grid result to ./results/grid_202502_30_01226897653_a24515f341224c568b5542b98682b7a4.jpg\n",
      "Saved grid result to ./results/grid_202502_30_01226894485_a0f794ad56d340a9af2d822cc6db270b.jpg\n",
      "Saved grid result to ./results/grid_202502_30_01226897975_06cd2232ffd94a2aad7b7de8e08a5fbf.jpg\n",
      "Saved grid result to ./results/grid_202502_30_01226894522_e8e01e83c21e40949c2cbc8741d3a1a1.jpg\n",
      "Saved grid result to ./results/grid_202502_30_01226888443_cad7f663aa044006953f5c99acbc1ad4.jpg\n",
      "Saved grid result to ./results/grid_202502_30_01226897975_8c0d5fa141fc4eeb9d092b195be4d4a6.jpg\n",
      "Saved grid result to ./results/grid_202502_30_01225815245_a37cc5b057de401eb46be6479e248b69.jpg\n",
      "Saved grid result to ./results/grid_202502_30_01225815613_3152183eb67b4dd9aefd7e97b5d675a6.jpg\n",
      "Saved grid result to ./results/grid_202502_30_01226897975_442c191cadbd46e4bab8ffa1bd9a3787.jpg\n",
      "Saved grid result to ./results/grid_202502_30_01225814940_f9dc7b97e8164101a7e79c646712a619.jpg\n",
      "Saved grid result to ./results/grid_202502_30_01226897975_b6deb9280fa941259b9a47fc7e93f705.jpg\n",
      "Saved grid result to ./results/grid_202502_30_01225814977_cf855435a98347c2b67681533e3ca1d3.jpg\n",
      "Saved grid result to ./results/grid_202502_30_01225815613_e6448610ca144a7aa6e95cfff3faa26d.jpg\n",
      "Saved grid result to ./results/grid_202502_30_01226893041_a4dc1c4c6ea4462ba2c86e8877c60d43.jpg\n",
      "Saved grid result to ./results/grid_202502_30_01226896425_7be07b480da84362b396ccb51a9ae7a4.jpg\n",
      "Saved grid result to ./results/grid_202502_30_01226898679_cde9a8b310ef47f6ac8ea9d50f07f31a.jpg\n",
      "Saved grid result to ./results/grid_202502_30_01226897975_f00ebccedc2a42f5b19e2fefaf56b5f1.jpg\n"
     ]
    }
   ],
   "source": [
    "import os\n",
    "import numpy as np\n",
    "import cv2\n",
    "import time\n",
    "import torch\n",
    "import logging\n",
    "from PIL import Image\n",
    "from lang_sam import LangSAM\n",
    "\n",
    "# 로깅 설정\n",
    "logging.basicConfig(level=logging.INFO, format=\"%(asctime)s [%(levelname)s] %(message)s\")\n",
    "log_messages = []\n",
    "\n",
    "# GPU 사용 가능 여부 확인\n",
    "device = \"cuda\" if torch.cuda.is_available() else \"cpu\"\n",
    "log_messages.append(f\"Using device: {device}\")\n",
    "\n",
    "# 모델 로드\n",
    "model = LangSAM()\n",
    "\n",
    "# 입력 및 출력 폴더 설정\n",
    "input_folder = \"./assets\"\n",
    "output_folder = \"./results\"\n",
    "os.makedirs(output_folder, exist_ok=True)\n",
    "\n",
    "def enhance_cracks(image):\n",
    "    gray = cv2.cvtColor(image, cv2.COLOR_RGB2GRAY)\n",
    "    clahe = cv2.createCLAHE(clipLimit=2.0, tileGridSize=(8,8))\n",
    "    enhanced = clahe.apply(gray)\n",
    "    denoised = cv2.GaussianBlur(enhanced, (5,5), 0)\n",
    "    return denoised\n",
    "\n",
    "def detect_road_surface(image, model):\n",
    "    result = model.predict([Image.fromarray(image)], [\"asphalt road surface\"])[0]\n",
    "    if len(result[\"masks\"]) == 0:\n",
    "        return np.ones(image.shape[:2], dtype=bool)\n",
    "    road_mask = result[\"masks\"][0] > 0.5\n",
    "    return road_mask\n",
    "\n",
    "# 텍스트 프롬프트 설정\n",
    "text_prompts = [\n",
    "    \"surface cracks on road\",\n",
    "    \"thin line cracks on asphalt\",\n",
    "    \"manhole\",\n",
    "    \"pothole\"\n",
    "]\n",
    "\n",
    "# 이미지 처리\n",
    "image_files = [f for f in os.listdir(input_folder) if f.lower().endswith((\".jpg\", \".jpeg\", \".png\"))]\n",
    "for image_file in image_files:\n",
    "    try:\n",
    "        image_path = os.path.join(input_folder, image_file)\n",
    "        image_pil = Image.open(image_path).convert(\"RGB\")\n",
    "        image_np = np.array(image_pil)\n",
    "\n",
    "        # 도로 표면 감지\n",
    "        road_mask = detect_road_surface(image_np, model)\n",
    "        enhanced_image = enhance_cracks(image_np)\n",
    "        \n",
    "        # 2x2 그리드 이미지 준비\n",
    "        segmented_images = {\n",
    "            \"original\": image_np.copy(),\n",
    "            \"crack\": image_np.copy(),\n",
    "            \"manhole\": image_np.copy(),\n",
    "            \"pothole\": image_np.copy()\n",
    "        }\n",
    "\n",
    "        # 크랙 마스크를 저장할 배열 초기화\n",
    "        surface_crack_mask = np.zeros(image_np.shape[:2], dtype=bool)\n",
    "        thin_line_mask = np.zeros(image_np.shape[:2], dtype=bool)\n",
    "        \n",
    "        # 크랙 결과 처리\n",
    "        crack_results = {}\n",
    "        for text_prompt in text_prompts[:2]:\n",
    "            result = model.predict([image_pil], [text_prompt])[0]\n",
    "            crack_results[text_prompt] = result\n",
    "\n",
    "        # Surface cracks 처리\n",
    "        if \"surface cracks on road\" in crack_results:\n",
    "            result = crack_results[\"surface cracks on road\"]\n",
    "            for box, mask, score in zip(result[\"boxes\"], result[\"masks\"], result[\"scores\"]):\n",
    "                if score < 0.5:\n",
    "                    continue\n",
    "                \n",
    "                mask = mask > 0.5\n",
    "                mask = mask & road_mask\n",
    "                \n",
    "                if np.sum(mask) > (0.3 * image_np.shape[0] * image_np.shape[1]):\n",
    "                    continue\n",
    "\n",
    "                surface_crack_mask |= mask\n",
    "                x1, y1, x2, y2 = map(int, box)\n",
    "                \n",
    "                cv2.rectangle(segmented_images[\"crack\"], (x1, y1), (x2, y2), (0, 255, 0), 2)\n",
    "                cv2.putText(\n",
    "                    segmented_images[\"crack\"],\n",
    "                    f\"surface crack {score:.2f}\",\n",
    "                    (x1, y1 - 10),\n",
    "                    cv2.FONT_HERSHEY_SIMPLEX,\n",
    "                    0.6,\n",
    "                    (255, 255, 255),\n",
    "                    2\n",
    "                )\n",
    "\n",
    "        # Thin line cracks 처리\n",
    "        if \"thin line cracks on asphalt\" in crack_results:\n",
    "            result = crack_results[\"thin line cracks on asphalt\"]\n",
    "            for box, mask, score in zip(result[\"boxes\"], result[\"masks\"], result[\"scores\"]):\n",
    "                if score < 0.5:\n",
    "                    continue\n",
    "                \n",
    "                mask = mask > 0.5\n",
    "                mask = mask & road_mask\n",
    "                \n",
    "                if np.sum(mask) > (0.3 * image_np.shape[0] * image_np.shape[1]):\n",
    "                    continue\n",
    "\n",
    "                thin_line_mask |= mask\n",
    "                x1, y1, x2, y2 = map(int, box)\n",
    "                \n",
    "                cv2.rectangle(segmented_images[\"crack\"], (x1, y1), (x2, y2), (0, 255, 0), 2)\n",
    "                cv2.putText(\n",
    "                    segmented_images[\"crack\"],\n",
    "                    f\"thin line crack {score:.2f}\",\n",
    "                    (x1, y1 - 10),\n",
    "                    cv2.FONT_HERSHEY_SIMPLEX,\n",
    "                    0.6,\n",
    "                    (255, 255, 255),\n",
    "                    2\n",
    "                )\n",
    "\n",
    "        # 크랙 마스크 적용 (색상 구분)\n",
    "        overlap_mask = surface_crack_mask & thin_line_mask  # 겹치는 부분\n",
    "        surface_only_mask = surface_crack_mask & ~thin_line_mask  # surface crack만 있는 부분\n",
    "        thin_only_mask = thin_line_mask & ~surface_crack_mask  # thin line만 있는 부분\n",
    "\n",
    "        # 색상 적용\n",
    "        segmented_images[\"crack\"][surface_only_mask] = (0, 0, 255)    # 빨간색 (surface만)\n",
    "        segmented_images[\"crack\"][thin_only_mask] = (255, 0, 0)       # 파란색 (thin line만)\n",
    "        segmented_images[\"crack\"][overlap_mask] = (255, 0, 255)       # 보라색 (겹치는 부분)\n",
    "\n",
    "        # 맨홀과 포트홀 처리\n",
    "        for text_prompt in text_prompts[2:]:\n",
    "            result = model.predict([image_pil], [text_prompt])[0]\n",
    "            target_image = \"manhole\" if \"manhole\" in text_prompt.lower() else \"pothole\"\n",
    "            \n",
    "            for box, mask, score in zip(result[\"boxes\"], result[\"masks\"], result[\"scores\"]):\n",
    "                if score < 0.15:\n",
    "                    continue\n",
    "                \n",
    "                mask = mask > 0.5\n",
    "                x1, y1, x2, y2 = map(int, box)\n",
    "                \n",
    "                cv2.rectangle(segmented_images[target_image], (x1, y1), (x2, y2), (0, 255, 0), 2)\n",
    "                segmented_images[target_image][mask] = (0, 0, 255)\n",
    "                \n",
    "                cv2.putText(\n",
    "                    segmented_images[target_image],\n",
    "                    f\"{text_prompt} {score:.2f}\",\n",
    "                    (x1, y1 - 10),\n",
    "                    cv2.FONT_HERSHEY_SIMPLEX,\n",
    "                    0.6,\n",
    "                    (255, 255, 255),\n",
    "                    2\n",
    "                )\n",
    "\n",
    "        # 2x2 그리드 생성\n",
    "        top_row = np.hstack([segmented_images[\"original\"], segmented_images[\"crack\"]])\n",
    "        bottom_row = np.hstack([segmented_images[\"manhole\"], segmented_images[\"pothole\"]])\n",
    "        combined_image = np.vstack([top_row, bottom_row])\n",
    "\n",
    "        # 결과 저장\n",
    "        output_path = os.path.join(output_folder, f\"grid_{image_file}\")\n",
    "        cv2.imwrite(output_path, cv2.cvtColor(combined_image, cv2.COLOR_RGB2BGR))\n",
    "        log_messages.append(f\"Saved grid result to {output_path}\")\n",
    "\n",
    "        if device == \"cuda\":\n",
    "            torch.cuda.empty_cache()\n",
    "\n",
    "    except Exception as e:\n",
    "        log_messages.append(f\"Error processing {image_file}: {str(e)}\")\n",
    "\n",
    "print(\"\\n\".join(log_messages))"
   ]
  }
 ],
 "metadata": {
  "kernelspec": {
   "display_name": "Lang-SAM",
   "language": "python",
   "name": "python3"
  },
  "language_info": {
   "codemirror_mode": {
    "name": "ipython",
    "version": 3
   },
   "file_extension": ".py",
   "mimetype": "text/x-python",
   "name": "python",
   "nbconvert_exporter": "python",
   "pygments_lexer": "ipython3",
   "version": "3.11.11"
  }
 },
 "nbformat": 4,
 "nbformat_minor": 2
}
